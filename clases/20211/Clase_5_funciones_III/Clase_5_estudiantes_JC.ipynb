{
 "cells": [
  {
   "cell_type": "markdown",
   "metadata": {},
   "source": [
    "# **Taller de Python**\n",
    "## Profesor: Julian E. Chitiva B."
   ]
  },
  {
   "cell_type": "markdown",
   "metadata": {},
   "source": [
    "# Clase 4: Funciones\n",
    "En esta clase se cubren los siguientes temas:\n",
    "\n",
    "- Zip\n",
    "- Map \n",
    "- Funciones anónimas `lambda`"
   ]
  },
  {
   "cell_type": "markdown",
   "metadata": {},
   "source": [
    "## Zip\n",
    "\n",
    "`Zip` permite crear un objeto iterable a partir de combinaciones de otros objetos iterables. Funciona combinando los elementos de varios iterables en una tupla y retorna una iterable (zip) de estas tuplas. La sintaxis es:\n",
    "\n",
    "```python\n",
    "zip(*iterables)\n",
    "```\n",
    "\n",
    "Algunas cosas para tener en cuenta:\n",
    "\n",
    "- Si no se pasa ningun iterable como parámetro, retorna un iterable vacío. \n",
    "- Si se pasa solo un iterable como parámetro, devulve iterables unitarios. \n",
    "- Solo considera el iterable con menos elementos para realizar las combinaciones. \n",
    "\n",
    "Veamos algunos ejemplos:"
   ]
  },
  {
   "cell_type": "markdown",
   "metadata": {},
   "source": [
    "Construya un iterable vacio"
   ]
  },
  {
   "cell_type": "code",
   "execution_count": 1,
   "metadata": {},
   "outputs": [
    {
     "data": {
      "text/plain": [
       "<zip at 0x106aaf280>"
      ]
     },
     "execution_count": 1,
     "metadata": {},
     "output_type": "execute_result"
    }
   ],
   "source": [
    "zip()"
   ]
  },
  {
   "cell_type": "markdown",
   "metadata": {},
   "source": [
    "Considere las combinaciones de las listas a continuacion y devuelva un iterable sobre esas combinaciones.\n",
    "```python\n",
    "lista_0=['Juan','Pedro','Julian','Alejandra']\n",
    "lista_1=[1,2,3,4]\n",
    "```"
   ]
  },
  {
   "cell_type": "code",
   "execution_count": 7,
   "metadata": {},
   "outputs": [],
   "source": [
    "lista_0=['Juan','Pedro','Julian','Alejandra']\n",
    "lista_1=[1,2,3,4]\n",
    "lista_2=[2,4,6,8]\n",
    "lista_4=list(zip(lista_0, lista_1, lista_2))"
   ]
  },
  {
   "cell_type": "markdown",
   "metadata": {},
   "source": [
    "Para obtener los objetos de los cuales se generó el iterable *zippeado* tenemos que aplicar la función `zip` agregandole un `*` antes del parámetro."
   ]
  },
  {
   "cell_type": "code",
   "execution_count": 11,
   "metadata": {},
   "outputs": [],
   "source": [
    "elem_1, elem_2, elem_3 = list(zip(*lista_4))"
   ]
  },
  {
   "cell_type": "code",
   "execution_count": 12,
   "metadata": {},
   "outputs": [
    {
     "data": {
      "text/plain": [
       "('Juan', 'Pedro', 'Julian', 'Alejandra')"
      ]
     },
     "execution_count": 12,
     "metadata": {},
     "output_type": "execute_result"
    }
   ],
   "source": [
    "elem_1"
   ]
  },
  {
   "cell_type": "code",
   "execution_count": 13,
   "metadata": {},
   "outputs": [
    {
     "data": {
      "text/plain": [
       "(1, 2, 3, 4)"
      ]
     },
     "execution_count": 13,
     "metadata": {},
     "output_type": "execute_result"
    }
   ],
   "source": [
    "elem_2"
   ]
  },
  {
   "cell_type": "code",
   "execution_count": 14,
   "metadata": {},
   "outputs": [
    {
     "data": {
      "text/plain": [
       "(2, 4, 6, 8)"
      ]
     },
     "execution_count": 14,
     "metadata": {},
     "output_type": "execute_result"
    }
   ],
   "source": [
    "elem_3"
   ]
  },
  {
   "cell_type": "markdown",
   "metadata": {},
   "source": [
    "Ahora consideremos objetos de diferentes tamaños\n",
    "```python\n",
    "lista_0=['Juan','Pedro','Julian','Alejandra']\n",
    "lista_1=[[1,2,3],[4,5,6],[7,8,9]]\n",
    "```"
   ]
  },
  {
   "cell_type": "code",
   "execution_count": 15,
   "metadata": {},
   "outputs": [
    {
     "data": {
      "text/plain": [
       "[('Juan', [1, 2, 3]), ('Pedro', [4, 5, 6]), ('Julian', [7, 8, 9])]"
      ]
     },
     "execution_count": 15,
     "metadata": {},
     "output_type": "execute_result"
    }
   ],
   "source": [
    "lista_0=['Juan','Pedro','Julian','Alejandra']\n",
    "lista_1=[[1,2,3],[4,5,6],[7,8,9]]\n",
    "list(zip(lista_0, lista_1))"
   ]
  },
  {
   "cell_type": "markdown",
   "metadata": {},
   "source": [
    "## Map\n",
    "La función `map` aplica una función dada a cada elemento de un iterable y retorna una objeto map con los resultados. El objeto map puede ser pasado a funciones como `list` para convertirlo en una lista. Para usar `map`necesitamos:\n",
    "1. Una función\n",
    "2. Un iterable"
   ]
  },
  {
   "cell_type": "markdown",
   "metadata": {},
   "source": [
    "Considere la situación, en la que usted tiene un diccionario con las notas de un curso y usted quiere sacar el promedio de cada alumno. Anteriormente lo habíamos hecho sacando *a mano* o con un *loop* el promedio de cada alumno, sin embargo, ¿qué pasaría si tenemos muchos alumnos (y no queremos usar un loop)?\n",
    "1. Definamos una función que saque el promedio para una lista \n",
    "2. Usemos map sobre el diccionario.\n",
    "\n",
    "```python\n",
    "notas = {'Juan': [4.5, 3.7, 3.4, 5],'Alicia': [3.5, 3.1, 4.2, 3.9],'Germán': [2.6, 3.0, 3.9, 4.1]}\n",
    "```"
   ]
  },
  {
   "cell_type": "code",
   "execution_count": 28,
   "metadata": {},
   "outputs": [],
   "source": [
    "def promedio_lista(lista, imprimir=False):\n",
    "    if imprimir:\n",
    "        print(sum(lista)/len(lista))\n",
    "    return(sum(lista)/len(lista))"
   ]
  },
  {
   "cell_type": "code",
   "execution_count": 17,
   "metadata": {},
   "outputs": [
    {
     "data": {
      "text/plain": [
       "4.15"
      ]
     },
     "execution_count": 17,
     "metadata": {},
     "output_type": "execute_result"
    }
   ],
   "source": [
    "sum([4.5, 3.7, 3.4, 5])/4"
   ]
  },
  {
   "cell_type": "code",
   "execution_count": 29,
   "metadata": {},
   "outputs": [
    {
     "data": {
      "text/plain": [
       "[4.15, 3.6750000000000003, 3.4]"
      ]
     },
     "execution_count": 29,
     "metadata": {},
     "output_type": "execute_result"
    }
   ],
   "source": [
    "notas = {'Juan': [4.5, 3.7, 3.4, 5],'Alicia': [3.5, 3.1, 4.2, 3.9],'Germán': [2.6, 3.0, 3.9, 4.1]}\n",
    "list(map(promedio_lista, notas.values()))"
   ]
  },
  {
   "cell_type": "markdown",
   "metadata": {},
   "source": [
    "Note que la salida es un objeto tipo 'map', para ver cada elemento se puede convertir en una lista o en un diccionario. Para convertirlo en lista basta con usar la función 'list'. Para convertirlo es un diccionario con las mismas llaves se puede usar una combinación entre 'zip' y 'dict'"
   ]
  },
  {
   "cell_type": "code",
   "execution_count": 32,
   "metadata": {},
   "outputs": [],
   "source": [
    "promedios = dict(zip(notas.keys(),list(map(promedio_lista, notas.values()))))"
   ]
  },
  {
   "cell_type": "code",
   "execution_count": 33,
   "metadata": {},
   "outputs": [
    {
     "data": {
      "text/plain": [
       "{'Juan': 4.15, 'Alicia': 3.6750000000000003, 'Germán': 3.4}"
      ]
     },
     "execution_count": 33,
     "metadata": {},
     "output_type": "execute_result"
    }
   ],
   "source": [
    "promedios"
   ]
  },
  {
   "cell_type": "markdown",
   "metadata": {},
   "source": [
    "## Funciones anónimas `lambda`\n",
    "Son funciones que se definen sin un nombre, en cambio se definen \n",
    "```python\n",
    "lambda argumentos: expresion\n",
    "```\n",
    "Tambien son llamadas funciones *lambda*. Estas funciones pueden asignarse a una variable del ambiente o usarlas temporalmente dentro de otra función (que requiera una función como argumento). Típicamente son funciones que se pueden escribir en una sola línea. "
   ]
  },
  {
   "cell_type": "markdown",
   "metadata": {},
   "source": [
    "Cree una funcion anónima que calcule el cuadrado "
   ]
  },
  {
   "cell_type": "code",
   "execution_count": 34,
   "metadata": {},
   "outputs": [],
   "source": [
    "cuadrado = lambda x: x**2"
   ]
  },
  {
   "cell_type": "code",
   "execution_count": 37,
   "metadata": {},
   "outputs": [
    {
     "data": {
      "text/plain": [
       "81"
      ]
     },
     "execution_count": 37,
     "metadata": {},
     "output_type": "execute_result"
    }
   ],
   "source": [
    "cuadrado(9)"
   ]
  },
  {
   "cell_type": "markdown",
   "metadata": {},
   "source": [
    "Cree una función anónima que devuelva el número impar más cercano (hacia arriba) al que se le pasa por parámetro."
   ]
  },
  {
   "cell_type": "code",
   "execution_count": null,
   "metadata": {},
   "outputs": [],
   "source": []
  },
  {
   "cell_type": "markdown",
   "metadata": {},
   "source": [
    "Las funciones *lambda* también pueden recibir varios argumentos. \\\\ Cree una función anónima que calcule la suma entre dos numeros"
   ]
  },
  {
   "cell_type": "code",
   "execution_count": 39,
   "metadata": {},
   "outputs": [
    {
     "data": {
      "text/plain": [
       "5"
      ]
     },
     "execution_count": 39,
     "metadata": {},
     "output_type": "execute_result"
    }
   ],
   "source": [
    "suma = lambda x, y: x+y\n",
    "suma(2,3)"
   ]
  },
  {
   "cell_type": "markdown",
   "metadata": {},
   "source": [
    "Típicamente el uso de una función anónima es para aquellas funciones *sencillas* que no necesitamos almacenar. ¿Un buen candidato de dónde usarlas? En `map`. \n",
    "\n",
    "Vuelva a considerar la situación anterior. Ahora, aplique `map` sin necesidad de definir la función que promedio listas."
   ]
  },
  {
   "cell_type": "code",
   "execution_count": 44,
   "metadata": {},
   "outputs": [
    {
     "data": {
      "text/plain": [
       "[4.15, 3.6750000000000003, 3.4]"
      ]
     },
     "execution_count": 44,
     "metadata": {},
     "output_type": "execute_result"
    }
   ],
   "source": [
    "list(map(lambda x: sum(x)/len(x), notas.values()))"
   ]
  },
  {
   "cell_type": "code",
   "execution_count": 45,
   "metadata": {},
   "outputs": [],
   "source": [
    "def promedio_lista(lista, imprimir):\n",
    "    if imprimir:\n",
    "        print(sum(lista)/len(lista))\n",
    "    return(sum(lista)/len(lista))"
   ]
  },
  {
   "cell_type": "code",
   "execution_count": 52,
   "metadata": {},
   "outputs": [
    {
     "data": {
      "text/plain": [
       "{'Juan': 4.15, 'Alicia': 3.6750000000000003, 'Germán': 3.4}"
      ]
     },
     "execution_count": 52,
     "metadata": {},
     "output_type": "execute_result"
    }
   ],
   "source": [
    "dict(map(lambda x: (x[0],promedio_lista(x[1], False)) , notas.items()))"
   ]
  }
 ],
 "metadata": {
  "kernelspec": {
   "display_name": "Python 3",
   "language": "python",
   "name": "python3"
  },
  "language_info": {
   "codemirror_mode": {
    "name": "ipython",
    "version": 3
   },
   "file_extension": ".py",
   "mimetype": "text/x-python",
   "name": "python",
   "nbconvert_exporter": "python",
   "pygments_lexer": "ipython3",
   "version": "3.8.1"
  }
 },
 "nbformat": 4,
 "nbformat_minor": 4
}
