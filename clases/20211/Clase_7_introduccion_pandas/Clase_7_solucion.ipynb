{
 "cells": [
  {
   "cell_type": "markdown",
   "metadata": {},
   "source": [
    "# **Taller de Python**\n",
    "## Profesor: Juan S. Moreno P. y Julián Chitiva"
   ]
  },
  {
   "cell_type": "markdown",
   "metadata": {},
   "source": [
    "# Clase 7: Introducción a Pandas\n",
    "\n",
    "En esta clase estudiaremos _Pandas_, este es el paquete más robusto y famoso en Python para la manipulación de bases de datos.\n",
    "\n",
    "En Pandas existen tres tipos de estructuras: \n",
    "\n",
    "- Series: data en un arreglo 1D, etiquetada, homogénea e inmutable de tamaño\n",
    "- **Data Frames**: arreglo 2D, tamaño mutable, columnas heterogéneas, etiquetadas\n",
    "- Panel: arreglo 3D, tamaño mutable."
   ]
  },
  {
   "cell_type": "code",
   "execution_count": 1,
   "metadata": {},
   "outputs": [],
   "source": [
    "import pandas as pd # importe el paquete"
   ]
  },
  {
   "cell_type": "markdown",
   "metadata": {},
   "source": [
    "<img src=\"https://pandas.pydata.org/docs/_images/01_table_dataframe.svg\" alt=\"Pandas DataFrame\">\n",
    "<img src=\"https://pandas.pydata.org/docs/_images/01_table_series.svg\" alt=\"Pandas DataFrame\">"
   ]
  },
  {
   "cell_type": "markdown",
   "metadata": {},
   "source": [
    "## Creación de DataFrame a partir de un diccionario"
   ]
  },
  {
   "cell_type": "code",
   "execution_count": 2,
   "metadata": {},
   "outputs": [],
   "source": [
    "# Cree 4 listas\n",
    "nombres=['Mateo', 'Julián', 'Juan', 'Carla']\n",
    "sexo=['F', 'M', 'M', None]\n",
    "edad=[24,21,25,30]\n",
    "notas=[4.5, 2, 3.25, 4]"
   ]
  },
  {
   "cell_type": "code",
   "execution_count": 3,
   "metadata": {},
   "outputs": [],
   "source": [
    "diccionario={'names':nombres, 'sex':sexo, 'age':edad, 'grades':notas} # Contruya un diccionario"
   ]
  },
  {
   "cell_type": "code",
   "execution_count": 4,
   "metadata": {},
   "outputs": [
    {
     "data": {
      "text/plain": [
       "{'names': ['Mateo', 'Julián', 'Juan', 'Carla'],\n",
       " 'sex': ['F', 'M', 'M', None],\n",
       " 'age': [24, 21, 25, 30],\n",
       " 'grades': [4.5, 2, 3.25, 4]}"
      ]
     },
     "execution_count": 4,
     "metadata": {},
     "output_type": "execute_result"
    }
   ],
   "source": [
    "diccionario"
   ]
  },
  {
   "cell_type": "code",
   "execution_count": 5,
   "metadata": {},
   "outputs": [],
   "source": [
    "data=pd.DataFrame(diccionario) # Conviértalo en data frame"
   ]
  },
  {
   "cell_type": "code",
   "execution_count": 6,
   "metadata": {},
   "outputs": [
    {
     "data": {
      "text/html": [
       "<div>\n",
       "<style scoped>\n",
       "    .dataframe tbody tr th:only-of-type {\n",
       "        vertical-align: middle;\n",
       "    }\n",
       "\n",
       "    .dataframe tbody tr th {\n",
       "        vertical-align: top;\n",
       "    }\n",
       "\n",
       "    .dataframe thead th {\n",
       "        text-align: right;\n",
       "    }\n",
       "</style>\n",
       "<table border=\"1\" class=\"dataframe\">\n",
       "  <thead>\n",
       "    <tr style=\"text-align: right;\">\n",
       "      <th></th>\n",
       "      <th>names</th>\n",
       "      <th>sex</th>\n",
       "      <th>age</th>\n",
       "      <th>grades</th>\n",
       "    </tr>\n",
       "  </thead>\n",
       "  <tbody>\n",
       "    <tr>\n",
       "      <th>0</th>\n",
       "      <td>Mateo</td>\n",
       "      <td>F</td>\n",
       "      <td>24</td>\n",
       "      <td>4.50</td>\n",
       "    </tr>\n",
       "    <tr>\n",
       "      <th>1</th>\n",
       "      <td>Julián</td>\n",
       "      <td>M</td>\n",
       "      <td>21</td>\n",
       "      <td>2.00</td>\n",
       "    </tr>\n",
       "    <tr>\n",
       "      <th>2</th>\n",
       "      <td>Juan</td>\n",
       "      <td>M</td>\n",
       "      <td>25</td>\n",
       "      <td>3.25</td>\n",
       "    </tr>\n",
       "    <tr>\n",
       "      <th>3</th>\n",
       "      <td>Carla</td>\n",
       "      <td>None</td>\n",
       "      <td>30</td>\n",
       "      <td>4.00</td>\n",
       "    </tr>\n",
       "  </tbody>\n",
       "</table>\n",
       "</div>"
      ],
      "text/plain": [
       "    names   sex  age  grades\n",
       "0   Mateo     F   24    4.50\n",
       "1  Julián     M   21    2.00\n",
       "2    Juan     M   25    3.25\n",
       "3   Carla  None   30    4.00"
      ]
     },
     "execution_count": 6,
     "metadata": {},
     "output_type": "execute_result"
    }
   ],
   "source": [
    "data"
   ]
  },
  {
   "cell_type": "markdown",
   "metadata": {},
   "source": [
    "## Componentes principales de un DataFrame\n",
    "### `index`"
   ]
  },
  {
   "cell_type": "code",
   "execution_count": 7,
   "metadata": {},
   "outputs": [
    {
     "data": {
      "text/plain": [
       "RangeIndex(start=0, stop=4, step=1)"
      ]
     },
     "execution_count": 7,
     "metadata": {},
     "output_type": "execute_result"
    }
   ],
   "source": [
    "data.index # Estudio el índice"
   ]
  },
  {
   "cell_type": "markdown",
   "metadata": {},
   "source": [
    "### `columns`"
   ]
  },
  {
   "cell_type": "code",
   "execution_count": 8,
   "metadata": {},
   "outputs": [
    {
     "data": {
      "text/plain": [
       "Index(['names', 'sex', 'age', 'grades'], dtype='object')"
      ]
     },
     "execution_count": 8,
     "metadata": {},
     "output_type": "execute_result"
    }
   ],
   "source": [
    "data.columns # Columnas"
   ]
  },
  {
   "cell_type": "markdown",
   "metadata": {},
   "source": [
    "### `shape`"
   ]
  },
  {
   "cell_type": "code",
   "execution_count": 9,
   "metadata": {},
   "outputs": [
    {
     "data": {
      "text/plain": [
       "(4, 4)"
      ]
     },
     "execution_count": 9,
     "metadata": {},
     "output_type": "execute_result"
    }
   ],
   "source": [
    "data.shape # Dimensiones"
   ]
  },
  {
   "cell_type": "markdown",
   "metadata": {},
   "source": [
    "### size`"
   ]
  },
  {
   "cell_type": "code",
   "execution_count": 10,
   "metadata": {},
   "outputs": [
    {
     "data": {
      "text/plain": [
       "16"
      ]
     },
     "execution_count": 10,
     "metadata": {},
     "output_type": "execute_result"
    }
   ],
   "source": [
    "data.size # Cantidad de datos"
   ]
  },
  {
   "cell_type": "markdown",
   "metadata": {},
   "source": [
    "### `count`"
   ]
  },
  {
   "cell_type": "code",
   "execution_count": 11,
   "metadata": {},
   "outputs": [
    {
     "data": {
      "text/plain": [
       "names     4\n",
       "sex       3\n",
       "age       4\n",
       "grades    4\n",
       "dtype: int64"
      ]
     },
     "execution_count": 11,
     "metadata": {},
     "output_type": "execute_result"
    }
   ],
   "source": [
    "data.count() # Cantidad de datos no Nulos"
   ]
  },
  {
   "cell_type": "markdown",
   "metadata": {},
   "source": [
    "### `values`"
   ]
  },
  {
   "cell_type": "code",
   "execution_count": 12,
   "metadata": {},
   "outputs": [
    {
     "data": {
      "text/plain": [
       "array([['Mateo', 'F', 24, 4.5],\n",
       "       ['Julián', 'M', 21, 2.0],\n",
       "       ['Juan', 'M', 25, 3.25],\n",
       "       ['Carla', None, 30, 4.0]], dtype=object)"
      ]
     },
     "execution_count": 12,
     "metadata": {},
     "output_type": "execute_result"
    }
   ],
   "source": [
    "data.values # Lo vuelve np.array"
   ]
  },
  {
   "cell_type": "markdown",
   "metadata": {},
   "source": [
    "### `T`"
   ]
  },
  {
   "cell_type": "code",
   "execution_count": 13,
   "metadata": {},
   "outputs": [
    {
     "data": {
      "text/html": [
       "<div>\n",
       "<style scoped>\n",
       "    .dataframe tbody tr th:only-of-type {\n",
       "        vertical-align: middle;\n",
       "    }\n",
       "\n",
       "    .dataframe tbody tr th {\n",
       "        vertical-align: top;\n",
       "    }\n",
       "\n",
       "    .dataframe thead th {\n",
       "        text-align: right;\n",
       "    }\n",
       "</style>\n",
       "<table border=\"1\" class=\"dataframe\">\n",
       "  <thead>\n",
       "    <tr style=\"text-align: right;\">\n",
       "      <th></th>\n",
       "      <th>0</th>\n",
       "      <th>1</th>\n",
       "      <th>2</th>\n",
       "      <th>3</th>\n",
       "    </tr>\n",
       "  </thead>\n",
       "  <tbody>\n",
       "    <tr>\n",
       "      <th>names</th>\n",
       "      <td>Mateo</td>\n",
       "      <td>Julián</td>\n",
       "      <td>Juan</td>\n",
       "      <td>Carla</td>\n",
       "    </tr>\n",
       "    <tr>\n",
       "      <th>sex</th>\n",
       "      <td>F</td>\n",
       "      <td>M</td>\n",
       "      <td>M</td>\n",
       "      <td>None</td>\n",
       "    </tr>\n",
       "    <tr>\n",
       "      <th>age</th>\n",
       "      <td>24</td>\n",
       "      <td>21</td>\n",
       "      <td>25</td>\n",
       "      <td>30</td>\n",
       "    </tr>\n",
       "    <tr>\n",
       "      <th>grades</th>\n",
       "      <td>4.5</td>\n",
       "      <td>2</td>\n",
       "      <td>3.25</td>\n",
       "      <td>4</td>\n",
       "    </tr>\n",
       "  </tbody>\n",
       "</table>\n",
       "</div>"
      ],
      "text/plain": [
       "            0       1     2      3\n",
       "names   Mateo  Julián  Juan  Carla\n",
       "sex         F       M     M   None\n",
       "age        24      21    25     30\n",
       "grades    4.5       2  3.25      4"
      ]
     },
     "execution_count": 13,
     "metadata": {},
     "output_type": "execute_result"
    }
   ],
   "source": [
    "data.T # Trasponer"
   ]
  },
  {
   "cell_type": "markdown",
   "metadata": {},
   "source": [
    "### `dtypes`"
   ]
  },
  {
   "cell_type": "code",
   "execution_count": 14,
   "metadata": {},
   "outputs": [
    {
     "data": {
      "text/plain": [
       "names      object\n",
       "sex        object\n",
       "age         int64\n",
       "grades    float64\n",
       "dtype: object"
      ]
     },
     "execution_count": 14,
     "metadata": {},
     "output_type": "execute_result"
    }
   ],
   "source": [
    "data.dtypes"
   ]
  },
  {
   "cell_type": "markdown",
   "metadata": {},
   "source": [
    "## Indexación y Ejes"
   ]
  },
  {
   "cell_type": "markdown",
   "metadata": {},
   "source": [
    "### Filtrar columnas\n",
    "<img src=\"https://pandas.pydata.org/docs/_images/03_subset_columns.svg\" title = \"Columnas\">"
   ]
  },
  {
   "cell_type": "code",
   "execution_count": 15,
   "metadata": {},
   "outputs": [
    {
     "data": {
      "text/plain": [
       "0     Mateo\n",
       "1    Julián\n",
       "2      Juan\n",
       "3     Carla\n",
       "Name: names, dtype: object"
      ]
     },
     "execution_count": 15,
     "metadata": {},
     "output_type": "execute_result"
    }
   ],
   "source": [
    "data['names'] # Extraiga la columna names "
   ]
  },
  {
   "cell_type": "code",
   "execution_count": 16,
   "metadata": {},
   "outputs": [
    {
     "data": {
      "text/plain": [
       "0     Mateo\n",
       "1    Julián\n",
       "2      Juan\n",
       "3     Carla\n",
       "Name: names, dtype: object"
      ]
     },
     "execution_count": 16,
     "metadata": {},
     "output_type": "execute_result"
    }
   ],
   "source": [
    "data.names # Extraiga la colunma names como método"
   ]
  },
  {
   "cell_type": "markdown",
   "metadata": {},
   "source": [
    "### Filtrar filas\n",
    "<img src=\"https://pandas.pydata.org/docs/_images/03_subset_rows.svg\" title=\"Filas\">"
   ]
  },
  {
   "cell_type": "code",
   "execution_count": 17,
   "metadata": {},
   "outputs": [
    {
     "data": {
      "text/html": [
       "<div>\n",
       "<style scoped>\n",
       "    .dataframe tbody tr th:only-of-type {\n",
       "        vertical-align: middle;\n",
       "    }\n",
       "\n",
       "    .dataframe tbody tr th {\n",
       "        vertical-align: top;\n",
       "    }\n",
       "\n",
       "    .dataframe thead th {\n",
       "        text-align: right;\n",
       "    }\n",
       "</style>\n",
       "<table border=\"1\" class=\"dataframe\">\n",
       "  <thead>\n",
       "    <tr style=\"text-align: right;\">\n",
       "      <th></th>\n",
       "      <th>names</th>\n",
       "      <th>sex</th>\n",
       "      <th>age</th>\n",
       "      <th>grades</th>\n",
       "    </tr>\n",
       "  </thead>\n",
       "  <tbody>\n",
       "    <tr>\n",
       "      <th>0</th>\n",
       "      <td>Mateo</td>\n",
       "      <td>F</td>\n",
       "      <td>24</td>\n",
       "      <td>4.5</td>\n",
       "    </tr>\n",
       "  </tbody>\n",
       "</table>\n",
       "</div>"
      ],
      "text/plain": [
       "   names sex  age  grades\n",
       "0  Mateo   F   24     4.5"
      ]
     },
     "execution_count": 17,
     "metadata": {},
     "output_type": "execute_result"
    }
   ],
   "source": [
    "data[data['names']=='Mateo'] # Extraiga la columna cuya variable 'names' es igual a Mateo "
   ]
  },
  {
   "cell_type": "markdown",
   "metadata": {},
   "source": [
    "### Filas y columnas\n",
    "<img src=\"https://pandas.pydata.org/docs/_images/03_subset_columns_rows.svg\" title=\"Filas y Columnas\">"
   ]
  },
  {
   "cell_type": "code",
   "execution_count": 18,
   "metadata": {},
   "outputs": [
    {
     "data": {
      "text/html": [
       "<div>\n",
       "<style scoped>\n",
       "    .dataframe tbody tr th:only-of-type {\n",
       "        vertical-align: middle;\n",
       "    }\n",
       "\n",
       "    .dataframe tbody tr th {\n",
       "        vertical-align: top;\n",
       "    }\n",
       "\n",
       "    .dataframe thead th {\n",
       "        text-align: right;\n",
       "    }\n",
       "</style>\n",
       "<table border=\"1\" class=\"dataframe\">\n",
       "  <thead>\n",
       "    <tr style=\"text-align: right;\">\n",
       "      <th></th>\n",
       "      <th>names</th>\n",
       "      <th>age</th>\n",
       "    </tr>\n",
       "  </thead>\n",
       "  <tbody>\n",
       "    <tr>\n",
       "      <th>0</th>\n",
       "      <td>Mateo</td>\n",
       "      <td>24</td>\n",
       "    </tr>\n",
       "    <tr>\n",
       "      <th>2</th>\n",
       "      <td>Juan</td>\n",
       "      <td>25</td>\n",
       "    </tr>\n",
       "  </tbody>\n",
       "</table>\n",
       "</div>"
      ],
      "text/plain": [
       "   names  age\n",
       "0  Mateo   24\n",
       "2   Juan   25"
      ]
     },
     "execution_count": 18,
     "metadata": {},
     "output_type": "execute_result"
    }
   ],
   "source": [
    "data.loc[data['names'].isin(['Mateo','Juan']), ['names','age']]"
   ]
  },
  {
   "cell_type": "markdown",
   "metadata": {},
   "source": [
    "### `set_index`"
   ]
  },
  {
   "cell_type": "code",
   "execution_count": 19,
   "metadata": {},
   "outputs": [
    {
     "data": {
      "text/html": [
       "<div>\n",
       "<style scoped>\n",
       "    .dataframe tbody tr th:only-of-type {\n",
       "        vertical-align: middle;\n",
       "    }\n",
       "\n",
       "    .dataframe tbody tr th {\n",
       "        vertical-align: top;\n",
       "    }\n",
       "\n",
       "    .dataframe thead th {\n",
       "        text-align: right;\n",
       "    }\n",
       "</style>\n",
       "<table border=\"1\" class=\"dataframe\">\n",
       "  <thead>\n",
       "    <tr style=\"text-align: right;\">\n",
       "      <th></th>\n",
       "      <th>sex</th>\n",
       "      <th>age</th>\n",
       "      <th>grades</th>\n",
       "    </tr>\n",
       "    <tr>\n",
       "      <th>names</th>\n",
       "      <th></th>\n",
       "      <th></th>\n",
       "      <th></th>\n",
       "    </tr>\n",
       "  </thead>\n",
       "  <tbody>\n",
       "    <tr>\n",
       "      <th>Mateo</th>\n",
       "      <td>F</td>\n",
       "      <td>24</td>\n",
       "      <td>4.50</td>\n",
       "    </tr>\n",
       "    <tr>\n",
       "      <th>Julián</th>\n",
       "      <td>M</td>\n",
       "      <td>21</td>\n",
       "      <td>2.00</td>\n",
       "    </tr>\n",
       "    <tr>\n",
       "      <th>Juan</th>\n",
       "      <td>M</td>\n",
       "      <td>25</td>\n",
       "      <td>3.25</td>\n",
       "    </tr>\n",
       "    <tr>\n",
       "      <th>Carla</th>\n",
       "      <td>None</td>\n",
       "      <td>30</td>\n",
       "      <td>4.00</td>\n",
       "    </tr>\n",
       "  </tbody>\n",
       "</table>\n",
       "</div>"
      ],
      "text/plain": [
       "         sex  age  grades\n",
       "names                    \n",
       "Mateo      F   24    4.50\n",
       "Julián     M   21    2.00\n",
       "Juan       M   25    3.25\n",
       "Carla   None   30    4.00"
      ]
     },
     "execution_count": 19,
     "metadata": {},
     "output_type": "execute_result"
    }
   ],
   "source": [
    "data.set_index('names', inplace=True) # Ponga la columna names como índice\n",
    "data"
   ]
  },
  {
   "cell_type": "markdown",
   "metadata": {},
   "source": [
    "### `.loc` y `.iloc`"
   ]
  },
  {
   "cell_type": "code",
   "execution_count": 20,
   "metadata": {},
   "outputs": [
    {
     "name": "stdout",
     "output_type": "stream",
     "text": [
      "sex         F\n",
      "age        24\n",
      "grades    4.5\n",
      "Name: Mateo, dtype: object\n",
      "names\n",
      "Mateo     24\n",
      "Julián    21\n",
      "Juan      25\n",
      "Carla     30\n",
      "Name: age, dtype: int64\n",
      "names\n",
      "Juan     3.25\n",
      "Carla    4.00\n",
      "Name: grades, dtype: float64\n"
     ]
    }
   ],
   "source": [
    "print(data.loc['Mateo']) # Extraiga la fila de Mateo usando .loc\n",
    "print(data.loc[:,'age']) # Extraiga la columna de edad usando .loc\n",
    "print(data.loc[['Juan', 'Carla'], 'grades']) # Extraiga las notas de Juan y Carla usando .loc"
   ]
  },
  {
   "cell_type": "code",
   "execution_count": 21,
   "metadata": {},
   "outputs": [
    {
     "name": "stdout",
     "output_type": "stream",
     "text": [
      "sex        M\n",
      "age       21\n",
      "grades     2\n",
      "Name: Julián, dtype: object\n",
      "        age  grades\n",
      "names              \n",
      "Mateo    24    4.50\n",
      "Julián   21    2.00\n",
      "Juan     25    3.25\n",
      "Carla    30    4.00\n",
      "       age\n",
      "names     \n",
      "Mateo   24\n",
      "Carla   30\n"
     ]
    }
   ],
   "source": [
    "print(data.iloc[1]) # Extraiga la segunda fila usando .iloc\n",
    "print(data.iloc[:,[1,2]]) # Extraiga la segunda y tercera columna usando .iloc\n",
    "print(data.iloc[[0,-1],[1]]) # Extraiga la primera y última fila y segunda columna usando .iloc"
   ]
  },
  {
   "cell_type": "markdown",
   "metadata": {},
   "source": [
    "### `reset_index()`"
   ]
  },
  {
   "cell_type": "code",
   "execution_count": 22,
   "metadata": {},
   "outputs": [
    {
     "data": {
      "text/html": [
       "<div>\n",
       "<style scoped>\n",
       "    .dataframe tbody tr th:only-of-type {\n",
       "        vertical-align: middle;\n",
       "    }\n",
       "\n",
       "    .dataframe tbody tr th {\n",
       "        vertical-align: top;\n",
       "    }\n",
       "\n",
       "    .dataframe thead th {\n",
       "        text-align: right;\n",
       "    }\n",
       "</style>\n",
       "<table border=\"1\" class=\"dataframe\">\n",
       "  <thead>\n",
       "    <tr style=\"text-align: right;\">\n",
       "      <th></th>\n",
       "      <th>names</th>\n",
       "      <th>sex</th>\n",
       "      <th>age</th>\n",
       "      <th>grades</th>\n",
       "    </tr>\n",
       "  </thead>\n",
       "  <tbody>\n",
       "    <tr>\n",
       "      <th>0</th>\n",
       "      <td>Mateo</td>\n",
       "      <td>F</td>\n",
       "      <td>24</td>\n",
       "      <td>4.50</td>\n",
       "    </tr>\n",
       "    <tr>\n",
       "      <th>1</th>\n",
       "      <td>Julián</td>\n",
       "      <td>M</td>\n",
       "      <td>21</td>\n",
       "      <td>2.00</td>\n",
       "    </tr>\n",
       "    <tr>\n",
       "      <th>2</th>\n",
       "      <td>Juan</td>\n",
       "      <td>M</td>\n",
       "      <td>25</td>\n",
       "      <td>3.25</td>\n",
       "    </tr>\n",
       "    <tr>\n",
       "      <th>3</th>\n",
       "      <td>Carla</td>\n",
       "      <td>None</td>\n",
       "      <td>30</td>\n",
       "      <td>4.00</td>\n",
       "    </tr>\n",
       "  </tbody>\n",
       "</table>\n",
       "</div>"
      ],
      "text/plain": [
       "    names   sex  age  grades\n",
       "0   Mateo     F   24    4.50\n",
       "1  Julián     M   21    2.00\n",
       "2    Juan     M   25    3.25\n",
       "3   Carla  None   30    4.00"
      ]
     },
     "execution_count": 22,
     "metadata": {},
     "output_type": "execute_result"
    }
   ],
   "source": [
    "data.reset_index(inplace=True, drop=False) # Reinicie el índice\n",
    "data"
   ]
  },
  {
   "cell_type": "markdown",
   "metadata": {},
   "source": [
    "## Edición de columnas\n",
    "1. ¿Qué tipo de objeto es una columna?\n",
    "2. Súmele a la edad 2 años (no guarde el valor, solo imprímalo).\n",
    "3. Cree una nueva columna, que se llame 'mi_nueva_variable' que sea el número 1 en todas las filas. \n",
    "4. Reescale las notas de 0 a 100 en una nueva columna."
   ]
  },
  {
   "cell_type": "code",
   "execution_count": 23,
   "metadata": {},
   "outputs": [
    {
     "data": {
      "text/plain": [
       "pandas.core.series.Series"
      ]
     },
     "execution_count": 23,
     "metadata": {},
     "output_type": "execute_result"
    }
   ],
   "source": [
    "type(data.grades)"
   ]
  },
  {
   "cell_type": "code",
   "execution_count": 24,
   "metadata": {},
   "outputs": [
    {
     "data": {
      "text/plain": [
       "0    26\n",
       "1    23\n",
       "2    27\n",
       "3    32\n",
       "Name: age, dtype: int64"
      ]
     },
     "execution_count": 24,
     "metadata": {},
     "output_type": "execute_result"
    }
   ],
   "source": [
    "data.age+2 # También vea como usar .add(), .sub(), .mul() y .div()"
   ]
  },
  {
   "cell_type": "code",
   "execution_count": 25,
   "metadata": {},
   "outputs": [
    {
     "data": {
      "text/html": [
       "<div>\n",
       "<style scoped>\n",
       "    .dataframe tbody tr th:only-of-type {\n",
       "        vertical-align: middle;\n",
       "    }\n",
       "\n",
       "    .dataframe tbody tr th {\n",
       "        vertical-align: top;\n",
       "    }\n",
       "\n",
       "    .dataframe thead th {\n",
       "        text-align: right;\n",
       "    }\n",
       "</style>\n",
       "<table border=\"1\" class=\"dataframe\">\n",
       "  <thead>\n",
       "    <tr style=\"text-align: right;\">\n",
       "      <th></th>\n",
       "      <th>names</th>\n",
       "      <th>sex</th>\n",
       "      <th>age</th>\n",
       "      <th>grades</th>\n",
       "      <th>mi_nueva_variable</th>\n",
       "    </tr>\n",
       "  </thead>\n",
       "  <tbody>\n",
       "    <tr>\n",
       "      <th>0</th>\n",
       "      <td>Mateo</td>\n",
       "      <td>F</td>\n",
       "      <td>24</td>\n",
       "      <td>4.50</td>\n",
       "      <td>1</td>\n",
       "    </tr>\n",
       "    <tr>\n",
       "      <th>1</th>\n",
       "      <td>Julián</td>\n",
       "      <td>M</td>\n",
       "      <td>21</td>\n",
       "      <td>2.00</td>\n",
       "      <td>1</td>\n",
       "    </tr>\n",
       "    <tr>\n",
       "      <th>2</th>\n",
       "      <td>Juan</td>\n",
       "      <td>M</td>\n",
       "      <td>25</td>\n",
       "      <td>3.25</td>\n",
       "      <td>1</td>\n",
       "    </tr>\n",
       "    <tr>\n",
       "      <th>3</th>\n",
       "      <td>Carla</td>\n",
       "      <td>None</td>\n",
       "      <td>30</td>\n",
       "      <td>4.00</td>\n",
       "      <td>1</td>\n",
       "    </tr>\n",
       "  </tbody>\n",
       "</table>\n",
       "</div>"
      ],
      "text/plain": [
       "    names   sex  age  grades  mi_nueva_variable\n",
       "0   Mateo     F   24    4.50                  1\n",
       "1  Julián     M   21    2.00                  1\n",
       "2    Juan     M   25    3.25                  1\n",
       "3   Carla  None   30    4.00                  1"
      ]
     },
     "execution_count": 25,
     "metadata": {},
     "output_type": "execute_result"
    }
   ],
   "source": [
    "data['mi_nueva_variable']=1\n",
    "data"
   ]
  },
  {
   "cell_type": "code",
   "execution_count": 26,
   "metadata": {},
   "outputs": [
    {
     "data": {
      "text/html": [
       "<div>\n",
       "<style scoped>\n",
       "    .dataframe tbody tr th:only-of-type {\n",
       "        vertical-align: middle;\n",
       "    }\n",
       "\n",
       "    .dataframe tbody tr th {\n",
       "        vertical-align: top;\n",
       "    }\n",
       "\n",
       "    .dataframe thead th {\n",
       "        text-align: right;\n",
       "    }\n",
       "</style>\n",
       "<table border=\"1\" class=\"dataframe\">\n",
       "  <thead>\n",
       "    <tr style=\"text-align: right;\">\n",
       "      <th></th>\n",
       "      <th>names</th>\n",
       "      <th>sex</th>\n",
       "      <th>age</th>\n",
       "      <th>grades</th>\n",
       "      <th>mi_nueva_variable</th>\n",
       "      <th>rescaled_grades</th>\n",
       "    </tr>\n",
       "  </thead>\n",
       "  <tbody>\n",
       "    <tr>\n",
       "      <th>0</th>\n",
       "      <td>Mateo</td>\n",
       "      <td>F</td>\n",
       "      <td>24</td>\n",
       "      <td>4.50</td>\n",
       "      <td>1</td>\n",
       "      <td>90.0</td>\n",
       "    </tr>\n",
       "    <tr>\n",
       "      <th>1</th>\n",
       "      <td>Julián</td>\n",
       "      <td>M</td>\n",
       "      <td>21</td>\n",
       "      <td>2.00</td>\n",
       "      <td>1</td>\n",
       "      <td>40.0</td>\n",
       "    </tr>\n",
       "    <tr>\n",
       "      <th>2</th>\n",
       "      <td>Juan</td>\n",
       "      <td>M</td>\n",
       "      <td>25</td>\n",
       "      <td>3.25</td>\n",
       "      <td>1</td>\n",
       "      <td>65.0</td>\n",
       "    </tr>\n",
       "    <tr>\n",
       "      <th>3</th>\n",
       "      <td>Carla</td>\n",
       "      <td>None</td>\n",
       "      <td>30</td>\n",
       "      <td>4.00</td>\n",
       "      <td>1</td>\n",
       "      <td>80.0</td>\n",
       "    </tr>\n",
       "  </tbody>\n",
       "</table>\n",
       "</div>"
      ],
      "text/plain": [
       "    names   sex  age  grades  mi_nueva_variable  rescaled_grades\n",
       "0   Mateo     F   24    4.50                  1             90.0\n",
       "1  Julián     M   21    2.00                  1             40.0\n",
       "2    Juan     M   25    3.25                  1             65.0\n",
       "3   Carla  None   30    4.00                  1             80.0"
      ]
     },
     "execution_count": 26,
     "metadata": {},
     "output_type": "execute_result"
    }
   ],
   "source": [
    "data['rescaled_grades']=data.grades*100/5\n",
    "data"
   ]
  },
  {
   "cell_type": "markdown",
   "metadata": {},
   "source": [
    "## Estadísticas descriptivas (Revise axis=0 y axis=1)\n",
    "### `sum()`"
   ]
  },
  {
   "cell_type": "code",
   "execution_count": 27,
   "metadata": {},
   "outputs": [
    {
     "data": {
      "text/plain": [
       "names                MateoJuliánJuanCarla\n",
       "age                                   100\n",
       "grades                              13.75\n",
       "mi_nueva_variable                       4\n",
       "rescaled_grades                       275\n",
       "dtype: object"
      ]
     },
     "execution_count": 27,
     "metadata": {},
     "output_type": "execute_result"
    }
   ],
   "source": [
    "data.sum()"
   ]
  },
  {
   "cell_type": "markdown",
   "metadata": {},
   "source": [
    "### `min()`"
   ]
  },
  {
   "cell_type": "code",
   "execution_count": 28,
   "metadata": {},
   "outputs": [
    {
     "data": {
      "text/plain": [
       "names                Carla\n",
       "age                     21\n",
       "grades                   2\n",
       "mi_nueva_variable        1\n",
       "rescaled_grades         40\n",
       "dtype: object"
      ]
     },
     "execution_count": 28,
     "metadata": {},
     "output_type": "execute_result"
    }
   ],
   "source": [
    "data.min()"
   ]
  },
  {
   "cell_type": "markdown",
   "metadata": {},
   "source": [
    "### `max()`"
   ]
  },
  {
   "cell_type": "code",
   "execution_count": 29,
   "metadata": {},
   "outputs": [
    {
     "data": {
      "text/plain": [
       "names                Mateo\n",
       "age                     30\n",
       "grades                 4.5\n",
       "mi_nueva_variable        1\n",
       "rescaled_grades         90\n",
       "dtype: object"
      ]
     },
     "execution_count": 29,
     "metadata": {},
     "output_type": "execute_result"
    }
   ],
   "source": [
    "data.max()"
   ]
  },
  {
   "cell_type": "markdown",
   "metadata": {},
   "source": [
    "### `argmin()` y `argmax()`"
   ]
  },
  {
   "cell_type": "code",
   "execution_count": 30,
   "metadata": {},
   "outputs": [
    {
     "data": {
      "text/plain": [
       "1"
      ]
     },
     "execution_count": 30,
     "metadata": {},
     "output_type": "execute_result"
    }
   ],
   "source": [
    "data.age.argmin()"
   ]
  },
  {
   "cell_type": "code",
   "execution_count": 31,
   "metadata": {},
   "outputs": [
    {
     "data": {
      "text/plain": [
       "0"
      ]
     },
     "execution_count": 31,
     "metadata": {},
     "output_type": "execute_result"
    }
   ],
   "source": [
    "data.rescaled_grades.argmax()"
   ]
  },
  {
   "cell_type": "markdown",
   "metadata": {},
   "source": [
    "### `idxmin()` y `idxmax()`"
   ]
  },
  {
   "cell_type": "code",
   "execution_count": 32,
   "metadata": {},
   "outputs": [
    {
     "data": {
      "text/plain": [
       "1"
      ]
     },
     "execution_count": 32,
     "metadata": {},
     "output_type": "execute_result"
    }
   ],
   "source": [
    "data.age.idxmin()"
   ]
  },
  {
   "cell_type": "code",
   "execution_count": 33,
   "metadata": {},
   "outputs": [
    {
     "data": {
      "text/plain": [
       "0"
      ]
     },
     "execution_count": 33,
     "metadata": {},
     "output_type": "execute_result"
    }
   ],
   "source": [
    "data.rescaled_grades.idxmax()"
   ]
  },
  {
   "cell_type": "markdown",
   "metadata": {},
   "source": [
    "### `describe()`"
   ]
  },
  {
   "cell_type": "code",
   "execution_count": 34,
   "metadata": {},
   "outputs": [
    {
     "data": {
      "text/html": [
       "<div>\n",
       "<style scoped>\n",
       "    .dataframe tbody tr th:only-of-type {\n",
       "        vertical-align: middle;\n",
       "    }\n",
       "\n",
       "    .dataframe tbody tr th {\n",
       "        vertical-align: top;\n",
       "    }\n",
       "\n",
       "    .dataframe thead th {\n",
       "        text-align: right;\n",
       "    }\n",
       "</style>\n",
       "<table border=\"1\" class=\"dataframe\">\n",
       "  <thead>\n",
       "    <tr style=\"text-align: right;\">\n",
       "      <th></th>\n",
       "      <th>age</th>\n",
       "      <th>grades</th>\n",
       "      <th>mi_nueva_variable</th>\n",
       "      <th>rescaled_grades</th>\n",
       "    </tr>\n",
       "  </thead>\n",
       "  <tbody>\n",
       "    <tr>\n",
       "      <th>count</th>\n",
       "      <td>4.000000</td>\n",
       "      <td>4.000000</td>\n",
       "      <td>4.0</td>\n",
       "      <td>4.000000</td>\n",
       "    </tr>\n",
       "    <tr>\n",
       "      <th>mean</th>\n",
       "      <td>25.000000</td>\n",
       "      <td>3.437500</td>\n",
       "      <td>1.0</td>\n",
       "      <td>68.750000</td>\n",
       "    </tr>\n",
       "    <tr>\n",
       "      <th>std</th>\n",
       "      <td>3.741657</td>\n",
       "      <td>1.087332</td>\n",
       "      <td>0.0</td>\n",
       "      <td>21.746647</td>\n",
       "    </tr>\n",
       "    <tr>\n",
       "      <th>min</th>\n",
       "      <td>21.000000</td>\n",
       "      <td>2.000000</td>\n",
       "      <td>1.0</td>\n",
       "      <td>40.000000</td>\n",
       "    </tr>\n",
       "    <tr>\n",
       "      <th>25%</th>\n",
       "      <td>23.250000</td>\n",
       "      <td>2.937500</td>\n",
       "      <td>1.0</td>\n",
       "      <td>58.750000</td>\n",
       "    </tr>\n",
       "    <tr>\n",
       "      <th>50%</th>\n",
       "      <td>24.500000</td>\n",
       "      <td>3.625000</td>\n",
       "      <td>1.0</td>\n",
       "      <td>72.500000</td>\n",
       "    </tr>\n",
       "    <tr>\n",
       "      <th>75%</th>\n",
       "      <td>26.250000</td>\n",
       "      <td>4.125000</td>\n",
       "      <td>1.0</td>\n",
       "      <td>82.500000</td>\n",
       "    </tr>\n",
       "    <tr>\n",
       "      <th>max</th>\n",
       "      <td>30.000000</td>\n",
       "      <td>4.500000</td>\n",
       "      <td>1.0</td>\n",
       "      <td>90.000000</td>\n",
       "    </tr>\n",
       "  </tbody>\n",
       "</table>\n",
       "</div>"
      ],
      "text/plain": [
       "             age    grades  mi_nueva_variable  rescaled_grades\n",
       "count   4.000000  4.000000                4.0         4.000000\n",
       "mean   25.000000  3.437500                1.0        68.750000\n",
       "std     3.741657  1.087332                0.0        21.746647\n",
       "min    21.000000  2.000000                1.0        40.000000\n",
       "25%    23.250000  2.937500                1.0        58.750000\n",
       "50%    24.500000  3.625000                1.0        72.500000\n",
       "75%    26.250000  4.125000                1.0        82.500000\n",
       "max    30.000000  4.500000                1.0        90.000000"
      ]
     },
     "execution_count": 34,
     "metadata": {},
     "output_type": "execute_result"
    }
   ],
   "source": [
    "data.describe()"
   ]
  },
  {
   "cell_type": "markdown",
   "metadata": {},
   "source": [
    "### `mean()`"
   ]
  },
  {
   "cell_type": "code",
   "execution_count": 35,
   "metadata": {},
   "outputs": [
    {
     "data": {
      "text/plain": [
       "age                  25.0000\n",
       "grades                3.4375\n",
       "mi_nueva_variable     1.0000\n",
       "rescaled_grades      68.7500\n",
       "dtype: float64"
      ]
     },
     "execution_count": 35,
     "metadata": {},
     "output_type": "execute_result"
    }
   ],
   "source": [
    "data.mean()"
   ]
  },
  {
   "cell_type": "markdown",
   "metadata": {},
   "source": [
    "### median()`"
   ]
  },
  {
   "cell_type": "code",
   "execution_count": 36,
   "metadata": {},
   "outputs": [
    {
     "data": {
      "text/plain": [
       "age                  24.500\n",
       "grades                3.625\n",
       "mi_nueva_variable     1.000\n",
       "rescaled_grades      72.500\n",
       "dtype: float64"
      ]
     },
     "execution_count": 36,
     "metadata": {},
     "output_type": "execute_result"
    }
   ],
   "source": [
    "data.median()"
   ]
  },
  {
   "cell_type": "markdown",
   "metadata": {},
   "source": [
    "## Aplicar Funciones\n",
    "Es necesario comprender que `lambda` y usar `.apply`"
   ]
  },
  {
   "cell_type": "code",
   "execution_count": 37,
   "metadata": {},
   "outputs": [
    {
     "data": {
      "text/html": [
       "<div>\n",
       "<style scoped>\n",
       "    .dataframe tbody tr th:only-of-type {\n",
       "        vertical-align: middle;\n",
       "    }\n",
       "\n",
       "    .dataframe tbody tr th {\n",
       "        vertical-align: top;\n",
       "    }\n",
       "\n",
       "    .dataframe thead th {\n",
       "        text-align: right;\n",
       "    }\n",
       "</style>\n",
       "<table border=\"1\" class=\"dataframe\">\n",
       "  <thead>\n",
       "    <tr style=\"text-align: right;\">\n",
       "      <th></th>\n",
       "      <th>names</th>\n",
       "      <th>sex</th>\n",
       "      <th>age</th>\n",
       "      <th>grades</th>\n",
       "      <th>mi_nueva_variable</th>\n",
       "      <th>rescaled_grades</th>\n",
       "    </tr>\n",
       "  </thead>\n",
       "  <tbody>\n",
       "    <tr>\n",
       "      <th>0</th>\n",
       "      <td>MateoMateo</td>\n",
       "      <td>FF</td>\n",
       "      <td>48</td>\n",
       "      <td>9.0</td>\n",
       "      <td>2</td>\n",
       "      <td>180.0</td>\n",
       "    </tr>\n",
       "    <tr>\n",
       "      <th>1</th>\n",
       "      <td>JuliánJulián</td>\n",
       "      <td>MM</td>\n",
       "      <td>42</td>\n",
       "      <td>4.0</td>\n",
       "      <td>2</td>\n",
       "      <td>80.0</td>\n",
       "    </tr>\n",
       "    <tr>\n",
       "      <th>2</th>\n",
       "      <td>JuanJuan</td>\n",
       "      <td>MM</td>\n",
       "      <td>50</td>\n",
       "      <td>6.5</td>\n",
       "      <td>2</td>\n",
       "      <td>130.0</td>\n",
       "    </tr>\n",
       "    <tr>\n",
       "      <th>3</th>\n",
       "      <td>CarlaCarla</td>\n",
       "      <td>NaN</td>\n",
       "      <td>60</td>\n",
       "      <td>8.0</td>\n",
       "      <td>2</td>\n",
       "      <td>160.0</td>\n",
       "    </tr>\n",
       "  </tbody>\n",
       "</table>\n",
       "</div>"
      ],
      "text/plain": [
       "          names  sex  age  grades  mi_nueva_variable  rescaled_grades\n",
       "0    MateoMateo   FF   48     9.0                  2            180.0\n",
       "1  JuliánJulián   MM   42     4.0                  2             80.0\n",
       "2      JuanJuan   MM   50     6.5                  2            130.0\n",
       "3    CarlaCarla  NaN   60     8.0                  2            160.0"
      ]
     },
     "execution_count": 37,
     "metadata": {},
     "output_type": "execute_result"
    }
   ],
   "source": [
    "data.apply(lambda x: x*2)"
   ]
  },
  {
   "cell_type": "markdown",
   "metadata": {},
   "source": [
    "## Ordenar valores\n",
    "### `sort_values`"
   ]
  },
  {
   "cell_type": "code",
   "execution_count": 38,
   "metadata": {},
   "outputs": [],
   "source": [
    "data.sort_values('age', inplace=True, ascending=False) # Ordene por edad de menor a mayor. No guarde el valor"
   ]
  },
  {
   "cell_type": "code",
   "execution_count": 39,
   "metadata": {},
   "outputs": [
    {
     "name": "stdout",
     "output_type": "stream",
     "text": [
      "    names   sex  age  grades  mi_nueva_variable  rescaled_grades\n",
      "3   Carla  None   30    4.00                  1             80.0\n",
      "2    Juan     M   25    3.25                  1             65.0\n",
      "0   Mateo     F   24    4.50                  1             90.0\n",
      "1  Julián     M   21    2.00                  1             40.0\n",
      "   index   names   sex  age  grades  mi_nueva_variable  rescaled_grades\n",
      "0      3   Carla  None   30    4.00                  1             80.0\n",
      "1      2    Juan     M   25    3.25                  1             65.0\n",
      "2      0   Mateo     F   24    4.50                  1             90.0\n",
      "3      1  Julián     M   21    2.00                  1             40.0\n",
      "    names   sex  age  grades  mi_nueva_variable  rescaled_grades\n",
      "0   Carla  None   30    4.00                  1             80.0\n",
      "1    Juan     M   25    3.25                  1             65.0\n",
      "2   Mateo     F   24    4.50                  1             90.0\n",
      "3  Julián     M   21    2.00                  1             40.0\n"
     ]
    }
   ],
   "source": [
    "print(data)\n",
    "print(data.reset_index())\n",
    "print(data.reset_index(drop = True))"
   ]
  },
  {
   "cell_type": "markdown",
   "metadata": {},
   "source": [
    "## Borrar Filas y Columnas\n",
    "### `drop()`"
   ]
  },
  {
   "cell_type": "code",
   "execution_count": 40,
   "metadata": {},
   "outputs": [
    {
     "data": {
      "text/html": [
       "<div>\n",
       "<style scoped>\n",
       "    .dataframe tbody tr th:only-of-type {\n",
       "        vertical-align: middle;\n",
       "    }\n",
       "\n",
       "    .dataframe tbody tr th {\n",
       "        vertical-align: top;\n",
       "    }\n",
       "\n",
       "    .dataframe thead th {\n",
       "        text-align: right;\n",
       "    }\n",
       "</style>\n",
       "<table border=\"1\" class=\"dataframe\">\n",
       "  <thead>\n",
       "    <tr style=\"text-align: right;\">\n",
       "      <th></th>\n",
       "      <th>names</th>\n",
       "      <th>sex</th>\n",
       "      <th>age</th>\n",
       "      <th>grades</th>\n",
       "      <th>mi_nueva_variable</th>\n",
       "      <th>rescaled_grades</th>\n",
       "    </tr>\n",
       "  </thead>\n",
       "  <tbody>\n",
       "    <tr>\n",
       "      <th>3</th>\n",
       "      <td>Carla</td>\n",
       "      <td>None</td>\n",
       "      <td>30</td>\n",
       "      <td>4.00</td>\n",
       "      <td>1</td>\n",
       "      <td>80.0</td>\n",
       "    </tr>\n",
       "    <tr>\n",
       "      <th>2</th>\n",
       "      <td>Juan</td>\n",
       "      <td>M</td>\n",
       "      <td>25</td>\n",
       "      <td>3.25</td>\n",
       "      <td>1</td>\n",
       "      <td>65.0</td>\n",
       "    </tr>\n",
       "    <tr>\n",
       "      <th>0</th>\n",
       "      <td>Mateo</td>\n",
       "      <td>F</td>\n",
       "      <td>24</td>\n",
       "      <td>4.50</td>\n",
       "      <td>1</td>\n",
       "      <td>90.0</td>\n",
       "    </tr>\n",
       "  </tbody>\n",
       "</table>\n",
       "</div>"
      ],
      "text/plain": [
       "   names   sex  age  grades  mi_nueva_variable  rescaled_grades\n",
       "3  Carla  None   30    4.00                  1             80.0\n",
       "2   Juan     M   25    3.25                  1             65.0\n",
       "0  Mateo     F   24    4.50                  1             90.0"
      ]
     },
     "execution_count": 40,
     "metadata": {},
     "output_type": "execute_result"
    }
   ],
   "source": [
    "data.drop(1) # Borre la fila identificada como 1"
   ]
  },
  {
   "cell_type": "code",
   "execution_count": 41,
   "metadata": {},
   "outputs": [
    {
     "data": {
      "text/html": [
       "<div>\n",
       "<style scoped>\n",
       "    .dataframe tbody tr th:only-of-type {\n",
       "        vertical-align: middle;\n",
       "    }\n",
       "\n",
       "    .dataframe tbody tr th {\n",
       "        vertical-align: top;\n",
       "    }\n",
       "\n",
       "    .dataframe thead th {\n",
       "        text-align: right;\n",
       "    }\n",
       "</style>\n",
       "<table border=\"1\" class=\"dataframe\">\n",
       "  <thead>\n",
       "    <tr style=\"text-align: right;\">\n",
       "      <th></th>\n",
       "      <th>names</th>\n",
       "      <th>sex</th>\n",
       "      <th>age</th>\n",
       "      <th>mi_nueva_variable</th>\n",
       "      <th>rescaled_grades</th>\n",
       "    </tr>\n",
       "  </thead>\n",
       "  <tbody>\n",
       "    <tr>\n",
       "      <th>3</th>\n",
       "      <td>Carla</td>\n",
       "      <td>None</td>\n",
       "      <td>30</td>\n",
       "      <td>1</td>\n",
       "      <td>80.0</td>\n",
       "    </tr>\n",
       "    <tr>\n",
       "      <th>2</th>\n",
       "      <td>Juan</td>\n",
       "      <td>M</td>\n",
       "      <td>25</td>\n",
       "      <td>1</td>\n",
       "      <td>65.0</td>\n",
       "    </tr>\n",
       "    <tr>\n",
       "      <th>0</th>\n",
       "      <td>Mateo</td>\n",
       "      <td>F</td>\n",
       "      <td>24</td>\n",
       "      <td>1</td>\n",
       "      <td>90.0</td>\n",
       "    </tr>\n",
       "    <tr>\n",
       "      <th>1</th>\n",
       "      <td>Julián</td>\n",
       "      <td>M</td>\n",
       "      <td>21</td>\n",
       "      <td>1</td>\n",
       "      <td>40.0</td>\n",
       "    </tr>\n",
       "  </tbody>\n",
       "</table>\n",
       "</div>"
      ],
      "text/plain": [
       "    names   sex  age  mi_nueva_variable  rescaled_grades\n",
       "3   Carla  None   30                  1             80.0\n",
       "2    Juan     M   25                  1             65.0\n",
       "0   Mateo     F   24                  1             90.0\n",
       "1  Julián     M   21                  1             40.0"
      ]
     },
     "execution_count": 41,
     "metadata": {},
     "output_type": "execute_result"
    }
   ],
   "source": [
    "data.drop(columns=['grades']) # Borre la columna de grades"
   ]
  },
  {
   "cell_type": "markdown",
   "metadata": {},
   "source": [
    "### `drop_na()`"
   ]
  },
  {
   "cell_type": "code",
   "execution_count": 42,
   "metadata": {},
   "outputs": [
    {
     "data": {
      "text/html": [
       "<div>\n",
       "<style scoped>\n",
       "    .dataframe tbody tr th:only-of-type {\n",
       "        vertical-align: middle;\n",
       "    }\n",
       "\n",
       "    .dataframe tbody tr th {\n",
       "        vertical-align: top;\n",
       "    }\n",
       "\n",
       "    .dataframe thead th {\n",
       "        text-align: right;\n",
       "    }\n",
       "</style>\n",
       "<table border=\"1\" class=\"dataframe\">\n",
       "  <thead>\n",
       "    <tr style=\"text-align: right;\">\n",
       "      <th></th>\n",
       "      <th>names</th>\n",
       "      <th>sex</th>\n",
       "      <th>age</th>\n",
       "      <th>grades</th>\n",
       "      <th>mi_nueva_variable</th>\n",
       "      <th>rescaled_grades</th>\n",
       "    </tr>\n",
       "  </thead>\n",
       "  <tbody>\n",
       "    <tr>\n",
       "      <th>2</th>\n",
       "      <td>Juan</td>\n",
       "      <td>M</td>\n",
       "      <td>25</td>\n",
       "      <td>3.25</td>\n",
       "      <td>1</td>\n",
       "      <td>65.0</td>\n",
       "    </tr>\n",
       "    <tr>\n",
       "      <th>0</th>\n",
       "      <td>Mateo</td>\n",
       "      <td>F</td>\n",
       "      <td>24</td>\n",
       "      <td>4.50</td>\n",
       "      <td>1</td>\n",
       "      <td>90.0</td>\n",
       "    </tr>\n",
       "    <tr>\n",
       "      <th>1</th>\n",
       "      <td>Julián</td>\n",
       "      <td>M</td>\n",
       "      <td>21</td>\n",
       "      <td>2.00</td>\n",
       "      <td>1</td>\n",
       "      <td>40.0</td>\n",
       "    </tr>\n",
       "  </tbody>\n",
       "</table>\n",
       "</div>"
      ],
      "text/plain": [
       "    names sex  age  grades  mi_nueva_variable  rescaled_grades\n",
       "2    Juan   M   25    3.25                  1             65.0\n",
       "0   Mateo   F   24    4.50                  1             90.0\n",
       "1  Julián   M   21    2.00                  1             40.0"
      ]
     },
     "execution_count": 42,
     "metadata": {},
     "output_type": "execute_result"
    }
   ],
   "source": [
    "data.dropna() # Borre las filas con valores faltantes"
   ]
  },
  {
   "cell_type": "markdown",
   "metadata": {},
   "source": [
    "## Importar Datos _csv_ y _xlsx_"
   ]
  },
  {
   "cell_type": "code",
   "execution_count": 43,
   "metadata": {},
   "outputs": [
    {
     "name": "stdout",
     "output_type": "stream",
     "text": [
      "CPU times: user 87.8 ms, sys: 16 ms, total: 104 ms\n",
      "Wall time: 103 ms\n"
     ]
    }
   ],
   "source": [
    "%%time\n",
    "accidentes= pd.read_csv('info_accidentes.csv') # Cargue el csv de info_accidentes"
   ]
  },
  {
   "cell_type": "code",
   "execution_count": 44,
   "metadata": {},
   "outputs": [
    {
     "data": {
      "text/html": [
       "<div>\n",
       "<style scoped>\n",
       "    .dataframe tbody tr th:only-of-type {\n",
       "        vertical-align: middle;\n",
       "    }\n",
       "\n",
       "    .dataframe tbody tr th {\n",
       "        vertical-align: top;\n",
       "    }\n",
       "\n",
       "    .dataframe thead th {\n",
       "        text-align: right;\n",
       "    }\n",
       "</style>\n",
       "<table border=\"1\" class=\"dataframe\">\n",
       "  <thead>\n",
       "    <tr style=\"text-align: right;\">\n",
       "      <th></th>\n",
       "      <th>Fecha</th>\n",
       "      <th>GravedadNombre</th>\n",
       "      <th>ClaseNombre</th>\n",
       "      <th>ChoqueNombre</th>\n",
       "      <th>ObjetoFijoCodigo</th>\n",
       "      <th>ObjetoFijoNombre</th>\n",
       "      <th>OtraClase</th>\n",
       "      <th>NombreOtraClase</th>\n",
       "      <th>Latitud</th>\n",
       "      <th>Longitud</th>\n",
       "      <th>...</th>\n",
       "      <th>TipoVia2</th>\n",
       "      <th>NumeroVia2</th>\n",
       "      <th>LetraVia2</th>\n",
       "      <th>CardinalVia2</th>\n",
       "      <th>Localidad</th>\n",
       "      <th>HoraOcurrencia</th>\n",
       "      <th>TipoDiseño</th>\n",
       "      <th>TipoTiempo</th>\n",
       "      <th>TotalMuertos</th>\n",
       "      <th>TotalHeridos</th>\n",
       "    </tr>\n",
       "  </thead>\n",
       "  <tbody>\n",
       "    <tr>\n",
       "      <th>34923</th>\n",
       "      <td>12/17/2016 12:00:00 AM</td>\n",
       "      <td>Solo Daños</td>\n",
       "      <td>Choque</td>\n",
       "      <td>Vehiculo</td>\n",
       "      <td></td>\n",
       "      <td></td>\n",
       "      <td></td>\n",
       "      <td></td>\n",
       "      <td>0.0</td>\n",
       "      <td>0.0</td>\n",
       "      <td>...</td>\n",
       "      <td>CL</td>\n",
       "      <td>98.0</td>\n",
       "      <td></td>\n",
       "      <td></td>\n",
       "      <td>CHAPINERO</td>\n",
       "      <td>12/31/1899 08:20:00 AM</td>\n",
       "      <td>Lote o predio</td>\n",
       "      <td>Normal</td>\n",
       "      <td>0</td>\n",
       "      <td>0</td>\n",
       "    </tr>\n",
       "    <tr>\n",
       "      <th>34924</th>\n",
       "      <td>12/31/2016 12:00:00 AM</td>\n",
       "      <td>Con Heridos</td>\n",
       "      <td>Atropello</td>\n",
       "      <td></td>\n",
       "      <td></td>\n",
       "      <td></td>\n",
       "      <td></td>\n",
       "      <td></td>\n",
       "      <td>0.0</td>\n",
       "      <td>0.0</td>\n",
       "      <td>...</td>\n",
       "      <td>KR</td>\n",
       "      <td>3.0</td>\n",
       "      <td>A</td>\n",
       "      <td></td>\n",
       "      <td>USAQUEN</td>\n",
       "      <td>12/31/1899 01:20:00 PM</td>\n",
       "      <td>Tramo de Via</td>\n",
       "      <td>Normal</td>\n",
       "      <td>0</td>\n",
       "      <td>1</td>\n",
       "    </tr>\n",
       "    <tr>\n",
       "      <th>34925</th>\n",
       "      <td>12/29/2016 12:00:00 AM</td>\n",
       "      <td>Con Heridos</td>\n",
       "      <td>Choque</td>\n",
       "      <td>Vehiculo</td>\n",
       "      <td></td>\n",
       "      <td></td>\n",
       "      <td></td>\n",
       "      <td></td>\n",
       "      <td>0.0</td>\n",
       "      <td>0.0</td>\n",
       "      <td>...</td>\n",
       "      <td>KR</td>\n",
       "      <td>52.0</td>\n",
       "      <td>A</td>\n",
       "      <td></td>\n",
       "      <td>PUENTE ARANDA</td>\n",
       "      <td>12/31/1899 05:20:00 PM</td>\n",
       "      <td>Tramo de Via</td>\n",
       "      <td>Normal</td>\n",
       "      <td>0</td>\n",
       "      <td>1</td>\n",
       "    </tr>\n",
       "    <tr>\n",
       "      <th>34926</th>\n",
       "      <td>12/30/2016 12:00:00 AM</td>\n",
       "      <td>Con Heridos</td>\n",
       "      <td>Choque</td>\n",
       "      <td>Vehiculo</td>\n",
       "      <td></td>\n",
       "      <td></td>\n",
       "      <td></td>\n",
       "      <td></td>\n",
       "      <td>0.0</td>\n",
       "      <td>0.0</td>\n",
       "      <td>...</td>\n",
       "      <td>CL</td>\n",
       "      <td>35.0</td>\n",
       "      <td></td>\n",
       "      <td>S</td>\n",
       "      <td>SAN CRISTOBAL</td>\n",
       "      <td>12/31/1899 05:10:00 AM</td>\n",
       "      <td>Tramo de Via</td>\n",
       "      <td>Normal</td>\n",
       "      <td>0</td>\n",
       "      <td>2</td>\n",
       "    </tr>\n",
       "    <tr>\n",
       "      <th>34927</th>\n",
       "      <td>12/30/2016 12:00:00 AM</td>\n",
       "      <td>Solo Daños</td>\n",
       "      <td>Choque</td>\n",
       "      <td>Vehiculo</td>\n",
       "      <td></td>\n",
       "      <td></td>\n",
       "      <td></td>\n",
       "      <td></td>\n",
       "      <td>0.0</td>\n",
       "      <td>0.0</td>\n",
       "      <td>...</td>\n",
       "      <td>CL</td>\n",
       "      <td>45.0</td>\n",
       "      <td></td>\n",
       "      <td></td>\n",
       "      <td>CHAPINERO</td>\n",
       "      <td>12/31/1899 12:50:00 AM</td>\n",
       "      <td>Interseccion</td>\n",
       "      <td>Normal</td>\n",
       "      <td>0</td>\n",
       "      <td>0</td>\n",
       "    </tr>\n",
       "    <tr>\n",
       "      <th>34928</th>\n",
       "      <td>12/30/2016 12:00:00 AM</td>\n",
       "      <td>Solo Daños</td>\n",
       "      <td>Choque</td>\n",
       "      <td>Vehiculo</td>\n",
       "      <td></td>\n",
       "      <td></td>\n",
       "      <td></td>\n",
       "      <td></td>\n",
       "      <td>0.0</td>\n",
       "      <td>0.0</td>\n",
       "      <td>...</td>\n",
       "      <td>CL</td>\n",
       "      <td>184.0</td>\n",
       "      <td></td>\n",
       "      <td></td>\n",
       "      <td>USAQUEN</td>\n",
       "      <td>12/31/1899 09:00:00 AM</td>\n",
       "      <td>Tramo de Via</td>\n",
       "      <td>Normal</td>\n",
       "      <td>0</td>\n",
       "      <td>0</td>\n",
       "    </tr>\n",
       "    <tr>\n",
       "      <th>34929</th>\n",
       "      <td>12/31/2016 12:00:00 AM</td>\n",
       "      <td>Solo Daños</td>\n",
       "      <td>Choque</td>\n",
       "      <td>Vehiculo</td>\n",
       "      <td></td>\n",
       "      <td></td>\n",
       "      <td></td>\n",
       "      <td></td>\n",
       "      <td>0.0</td>\n",
       "      <td>0.0</td>\n",
       "      <td>...</td>\n",
       "      <td>KR</td>\n",
       "      <td>58.0</td>\n",
       "      <td></td>\n",
       "      <td></td>\n",
       "      <td>SUBA</td>\n",
       "      <td>12/31/1899 12:00:00 PM</td>\n",
       "      <td>Tramo de Via</td>\n",
       "      <td>Normal</td>\n",
       "      <td>0</td>\n",
       "      <td>0</td>\n",
       "    </tr>\n",
       "    <tr>\n",
       "      <th>34930</th>\n",
       "      <td>12/29/2016 12:00:00 AM</td>\n",
       "      <td>Con Heridos</td>\n",
       "      <td>Atropello</td>\n",
       "      <td></td>\n",
       "      <td></td>\n",
       "      <td></td>\n",
       "      <td></td>\n",
       "      <td></td>\n",
       "      <td>0.0</td>\n",
       "      <td>0.0</td>\n",
       "      <td>...</td>\n",
       "      <td>CL</td>\n",
       "      <td>106.0</td>\n",
       "      <td></td>\n",
       "      <td></td>\n",
       "      <td>USAQUEN</td>\n",
       "      <td>12/31/1899 09:40:00 AM</td>\n",
       "      <td>Interseccion</td>\n",
       "      <td>Normal</td>\n",
       "      <td>0</td>\n",
       "      <td>0</td>\n",
       "    </tr>\n",
       "  </tbody>\n",
       "</table>\n",
       "<p>8 rows × 25 columns</p>\n",
       "</div>"
      ],
      "text/plain": [
       "                        Fecha GravedadNombre ClaseNombre ChoqueNombre  \\\n",
       "34923  12/17/2016 12:00:00 AM     Solo Daños      Choque     Vehiculo   \n",
       "34924  12/31/2016 12:00:00 AM    Con Heridos   Atropello                \n",
       "34925  12/29/2016 12:00:00 AM    Con Heridos      Choque     Vehiculo   \n",
       "34926  12/30/2016 12:00:00 AM    Con Heridos      Choque     Vehiculo   \n",
       "34927  12/30/2016 12:00:00 AM     Solo Daños      Choque     Vehiculo   \n",
       "34928  12/30/2016 12:00:00 AM     Solo Daños      Choque     Vehiculo   \n",
       "34929  12/31/2016 12:00:00 AM     Solo Daños      Choque     Vehiculo   \n",
       "34930  12/29/2016 12:00:00 AM    Con Heridos   Atropello                \n",
       "\n",
       "      ObjetoFijoCodigo ObjetoFijoNombre OtraClase NombreOtraClase  Latitud  \\\n",
       "34923                                                                  0.0   \n",
       "34924                                                                  0.0   \n",
       "34925                                                                  0.0   \n",
       "34926                                                                  0.0   \n",
       "34927                                                                  0.0   \n",
       "34928                                                                  0.0   \n",
       "34929                                                                  0.0   \n",
       "34930                                                                  0.0   \n",
       "\n",
       "       Longitud  ... TipoVia2 NumeroVia2 LetraVia2 CardinalVia2  \\\n",
       "34923       0.0  ...       CL       98.0                          \n",
       "34924       0.0  ...       KR        3.0         A                \n",
       "34925       0.0  ...       KR       52.0         A                \n",
       "34926       0.0  ...       CL       35.0                      S   \n",
       "34927       0.0  ...       CL       45.0                          \n",
       "34928       0.0  ...       CL      184.0                          \n",
       "34929       0.0  ...       KR       58.0                          \n",
       "34930       0.0  ...       CL      106.0                          \n",
       "\n",
       "           Localidad          HoraOcurrencia     TipoDiseño TipoTiempo  \\\n",
       "34923      CHAPINERO  12/31/1899 08:20:00 AM  Lote o predio     Normal   \n",
       "34924        USAQUEN  12/31/1899 01:20:00 PM   Tramo de Via     Normal   \n",
       "34925  PUENTE ARANDA  12/31/1899 05:20:00 PM   Tramo de Via     Normal   \n",
       "34926  SAN CRISTOBAL  12/31/1899 05:10:00 AM   Tramo de Via     Normal   \n",
       "34927      CHAPINERO  12/31/1899 12:50:00 AM   Interseccion     Normal   \n",
       "34928        USAQUEN  12/31/1899 09:00:00 AM   Tramo de Via     Normal   \n",
       "34929           SUBA  12/31/1899 12:00:00 PM   Tramo de Via     Normal   \n",
       "34930        USAQUEN  12/31/1899 09:40:00 AM   Interseccion     Normal   \n",
       "\n",
       "      TotalMuertos TotalHeridos  \n",
       "34923            0            0  \n",
       "34924            0            1  \n",
       "34925            0            1  \n",
       "34926            0            2  \n",
       "34927            0            0  \n",
       "34928            0            0  \n",
       "34929            0            0  \n",
       "34930            0            0  \n",
       "\n",
       "[8 rows x 25 columns]"
      ]
     },
     "execution_count": 44,
     "metadata": {},
     "output_type": "execute_result"
    }
   ],
   "source": [
    "accidentes.tail(8)"
   ]
  },
  {
   "cell_type": "markdown",
   "metadata": {},
   "source": [
    "## Ejercicio:\n",
    "1. ¿Cuántos muertos hay registrados en la base de datos? \n",
    "2. ¿Cuántos heridos?\n",
    "3. ¿Cuantos accidentes hubo en Santa Fe? ¿Cuántos muertos y cuántos heridos?\n",
    "4. Explore la columna TipoTiempo, ¿cuál es la categoría en la que más ocurren accidentes?"
   ]
  },
  {
   "cell_type": "code",
   "execution_count": null,
   "metadata": {},
   "outputs": [],
   "source": []
  }
 ],
 "metadata": {
  "kernelspec": {
   "display_name": "Python 3",
   "language": "python",
   "name": "python3"
  },
  "language_info": {
   "codemirror_mode": {
    "name": "ipython",
    "version": 3
   },
   "file_extension": ".py",
   "mimetype": "text/x-python",
   "name": "python",
   "nbconvert_exporter": "python",
   "pygments_lexer": "ipython3",
   "version": "3.8.1"
  }
 },
 "nbformat": 4,
 "nbformat_minor": 4
}
