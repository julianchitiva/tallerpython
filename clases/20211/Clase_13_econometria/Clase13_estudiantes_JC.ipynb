{
 "cells": [
  {
   "cell_type": "markdown",
   "metadata": {},
   "source": [
    "# **Taller de Python**\n",
    "## Profesor: Juan S. Moreno y Julian E. Chitiva B.\n",
    "# Clase 13: Econometría"
   ]
  },
  {
   "cell_type": "markdown",
   "metadata": {},
   "source": [
    "- <a href=\"https://docs.scipy.org/doc/scipy/reference/index.html\">Scipy</a> - <a href=\"https://docs.scipy.org/doc/scipy/reference/stats.html#module-scipy.stats\">Stats</a>: Distribuciones y pruebas estadísticas\n",
    "- <a href=\"https://pypi.org/project/statsmodels/\">Statmodels</a>\n",
    "- <a href=\"https://scikit-learn.org/stable/\"> Scikit-Learn</a>\n",
    "    - OLS.\n",
    "    - Modelos discretos (Logit, Probit).\n",
    "    - Uso de formulas para especificar modelos"
   ]
  },
  {
   "cell_type": "markdown",
   "metadata": {},
   "source": [
    "**Scipy - <a href=\"https://docs.scipy.org/doc/scipy/reference/stats.html#module-scipy.stats\">Estadísticas</a>**\n",
    "SciPy es una colección de algoritmos matemáticos y funciones de conveniencia construidas en la extensión NumPy de Python. Proporciona muchas rutinas numéricas fáciles de usar y eficientes, como rutinas para integración numérica, interpolación, optimización, álgebra lineal y estadísticas.\n",
    "\n",
    "**Statsmodels**\n",
    "Es un módulo de Python que proporciona clases y funciones para la estimación de muchos modelos estadísticos diferentes, así como para realizar pruebas estadísticas y exploración de datos estadísticos. Se encuentra disponible una extensa lista de estadísticas de resultados para cada estimador. Los resultados se prueban con los paquetes estadísticos existentes para garantizar que sean correctos. \n",
    "\n",
    "**<a href=\"https://bashtage.github.io/linearmodels/\">Linearmodels</a>**\n",
    "Es una libreria que extiende la funcionalidad de Statsmodels\n",
    "\n",
    "**Scikit-Learn**\n",
    "Scikit-learn es una libreria para Machine Learning que soporta modelos supervisados y no supervidados. Provee herramientas para ajustar modelos y preprocesar datos, entre otros."
   ]
  },
  {
   "cell_type": "markdown",
   "metadata": {},
   "source": [
    "## Paquetes necesarios"
   ]
  },
  {
   "cell_type": "code",
   "execution_count": 1,
   "metadata": {},
   "outputs": [],
   "source": [
    "%matplotlib inline\n",
    "import numpy as np\n",
    "import pandas as pd\n",
    "from scipy import stats\n",
    "import patsy\n",
    "import statsmodels.api as sm\n",
    "import matplotlib.pyplot as plt\n",
    "from sklearn import linear_model"
   ]
  },
  {
   "cell_type": "markdown",
   "metadata": {},
   "source": [
    "# Distribuciones y Estadística"
   ]
  },
  {
   "cell_type": "markdown",
   "metadata": {},
   "source": [
    "1. Construya una distribución Normal con media 10 y desviacion 5"
   ]
  },
  {
   "cell_type": "code",
   "execution_count": 2,
   "metadata": {},
   "outputs": [
    {
     "data": {
      "text/plain": [
       "<scipy.stats._distn_infrastructure.rv_frozen at 0x12faed190>"
      ]
     },
     "execution_count": 2,
     "metadata": {},
     "output_type": "execute_result"
    }
   ],
   "source": [
    "xNorm = stats.norm(loc=10, scale=5)\n",
    "xNorm"
   ]
  },
  {
   "cell_type": "markdown",
   "metadata": {},
   "source": [
    "2. Pinte las distribuciones acumuladas de la distribución Normal"
   ]
  },
  {
   "cell_type": "code",
   "execution_count": 5,
   "metadata": {},
   "outputs": [
    {
     "data": {
      "image/png": "[encoded data removed]",
      "text/plain": [
       "<Figure size 1152x360 with 1 Axes>"
      ]
     },
     "metadata": {
      "needs_background": "light"
     },
     "output_type": "display_data"
    }
   ],
   "source": [
    "x = np.linspace(-20, 30, 100)\n",
    "plt.figure(figsize=(16,5))\n",
    "plt.plot(x, xNorm.cdf(x))\n",
    "plt.show()"
   ]
  },
  {
   "cell_type": "markdown",
   "metadata": {},
   "source": [
    "3. Genere una muestra aleatoria de tamaño 1000 de estas distribución y pinte el histogramas de esta muestra."
   ]
  },
  {
   "cell_type": "code",
   "execution_count": 28,
   "metadata": {},
   "outputs": [
    {
     "data": {
      "image/png": "[encoded data removed]",
      "text/plain": [
       "<Figure size 432x288 with 1 Axes>"
      ]
     },
     "metadata": {
      "needs_background": "light"
     },
     "output_type": "display_data"
    }
   ],
   "source": [
    "size=100000\n",
    "mNorm = xNorm.rvs(size=size, random_state=123)\n",
    "mNorm.shape\n",
    "plt.hist(mNorm)\n",
    "plt.show()"
   ]
  },
  {
   "cell_type": "markdown",
   "metadata": {},
   "source": [
    "4. Saque las estadísticas descriptivas de esta distribución"
   ]
  },
  {
   "cell_type": "code",
   "execution_count": 29,
   "metadata": {},
   "outputs": [
    {
     "data": {
      "text/plain": [
       "DescribeResult(nobs=100000, minmax=(-12.034670546388725, 30.925136110119062), mean=10.006574100875735, variance=24.97876325346571, skewness=0.004131390121737446, kurtosis=-0.01694054427969638)"
      ]
     },
     "execution_count": 29,
     "metadata": {},
     "output_type": "execute_result"
    }
   ],
   "source": [
    "stats.describe(mNorm)"
   ]
  },
  {
   "cell_type": "markdown",
   "metadata": {},
   "source": [
    "5. Realice una prueba $t$ sobre la media de la muestra normal que generó anteriormente "
   ]
  },
  {
   "cell_type": "code",
   "execution_count": 30,
   "metadata": {},
   "outputs": [
    {
     "data": {
      "text/plain": [
       "Ttest_1sampResult(statistic=0.4159593567045673, pvalue=0.6774406367355237)"
      ]
     },
     "execution_count": 30,
     "metadata": {},
     "output_type": "execute_result"
    }
   ],
   "source": [
    "stats.ttest_1samp(mNorm, 10)"
   ]
  },
  {
   "cell_type": "markdown",
   "metadata": {},
   "source": [
    "# Regresión Lineal OLS"
   ]
  },
  {
   "cell_type": "markdown",
   "metadata": {},
   "source": [
    "1. Cargue la base ccard del `sm.datasets`. Explore la descripción y la nota."
   ]
  },
  {
   "cell_type": "code",
   "execution_count": 31,
   "metadata": {},
   "outputs": [
    {
     "name": "stdout",
     "output_type": "stream",
     "text": [
      "::\n",
      "\n",
      "    Number of observations - 72\n",
      "    Number of variables - 5\n",
      "    Variable name definitions - See Source for more information on the\n",
      "                                variables.\n",
      "\n",
      "More information on this data can be found on the\n",
      "homepage for Greene's `Econometric Analysis`. See source.\n",
      "\n"
     ]
    }
   ],
   "source": [
    "print(sm.datasets.ccard.NOTE)\n",
    "print(sm.datasets.ccard.DESCRLONG)\n",
    "datos = sm.datasets.ccard.load_pandas().data"
   ]
  },
  {
   "cell_type": "markdown",
   "metadata": {},
   "source": [
    "- Age = Age in years+ 12ths of a year,\n",
    "- Income = Income, divided by 10,000.\n",
    "- Avgexp = Avg. monthly credit card expenditure.\n",
    "- Ownrent = OwnRent, individual owns (1) or rents (0) home."
   ]
  },
  {
   "cell_type": "code",
   "execution_count": 32,
   "metadata": {},
   "outputs": [
    {
     "data": {
      "text/html": [
       "<div>\n",
       "<style scoped>\n",
       "    .dataframe tbody tr th:only-of-type {\n",
       "        vertical-align: middle;\n",
       "    }\n",
       "\n",
       "    .dataframe tbody tr th {\n",
       "        vertical-align: top;\n",
       "    }\n",
       "\n",
       "    .dataframe thead th {\n",
       "        text-align: right;\n",
       "    }\n",
       "</style>\n",
       "<table border=\"1\" class=\"dataframe\">\n",
       "  <thead>\n",
       "    <tr style=\"text-align: right;\">\n",
       "      <th></th>\n",
       "      <th>AVGEXP</th>\n",
       "      <th>AGE</th>\n",
       "      <th>INCOME</th>\n",
       "      <th>INCOMESQ</th>\n",
       "      <th>OWNRENT</th>\n",
       "    </tr>\n",
       "  </thead>\n",
       "  <tbody>\n",
       "    <tr>\n",
       "      <th>0</th>\n",
       "      <td>124.98</td>\n",
       "      <td>38.0</td>\n",
       "      <td>4.52</td>\n",
       "      <td>20.4304</td>\n",
       "      <td>1.0</td>\n",
       "    </tr>\n",
       "    <tr>\n",
       "      <th>1</th>\n",
       "      <td>9.85</td>\n",
       "      <td>33.0</td>\n",
       "      <td>2.42</td>\n",
       "      <td>5.8564</td>\n",
       "      <td>0.0</td>\n",
       "    </tr>\n",
       "    <tr>\n",
       "      <th>2</th>\n",
       "      <td>15.00</td>\n",
       "      <td>34.0</td>\n",
       "      <td>4.50</td>\n",
       "      <td>20.2500</td>\n",
       "      <td>1.0</td>\n",
       "    </tr>\n",
       "    <tr>\n",
       "      <th>3</th>\n",
       "      <td>137.87</td>\n",
       "      <td>31.0</td>\n",
       "      <td>2.54</td>\n",
       "      <td>6.4516</td>\n",
       "      <td>0.0</td>\n",
       "    </tr>\n",
       "    <tr>\n",
       "      <th>4</th>\n",
       "      <td>546.50</td>\n",
       "      <td>32.0</td>\n",
       "      <td>9.79</td>\n",
       "      <td>95.8441</td>\n",
       "      <td>1.0</td>\n",
       "    </tr>\n",
       "  </tbody>\n",
       "</table>\n",
       "</div>"
      ],
      "text/plain": [
       "   AVGEXP   AGE  INCOME  INCOMESQ  OWNRENT\n",
       "0  124.98  38.0    4.52   20.4304      1.0\n",
       "1    9.85  33.0    2.42    5.8564      0.0\n",
       "2   15.00  34.0    4.50   20.2500      1.0\n",
       "3  137.87  31.0    2.54    6.4516      0.0\n",
       "4  546.50  32.0    9.79   95.8441      1.0"
      ]
     },
     "execution_count": 32,
     "metadata": {},
     "output_type": "execute_result"
    }
   ],
   "source": [
    "datos.head()"
   ]
  },
  {
   "cell_type": "markdown",
   "metadata": {},
   "source": [
    "2. Realice una Regresión Lineal Sencilla de el Gasto promedio como función del ingreso. Use Statsmodels"
   ]
  },
  {
   "cell_type": "code",
   "execution_count": 46,
   "metadata": {},
   "outputs": [],
   "source": [
    "formula = 'AVGEXP ~ INCOME'\n",
    "y, X = patsy.dmatrices(formula, datos)"
   ]
  },
  {
   "cell_type": "code",
   "execution_count": 34,
   "metadata": {},
   "outputs": [
    {
     "data": {
      "text/plain": [
       "array([[124.98],\n",
       "       [  9.85],\n",
       "       [ 15.  ],\n",
       "       [137.87],\n",
       "       [546.5 ]])"
      ]
     },
     "execution_count": 34,
     "metadata": {},
     "output_type": "execute_result"
    }
   ],
   "source": [
    "y[0:5,]"
   ]
  },
  {
   "cell_type": "code",
   "execution_count": 35,
   "metadata": {},
   "outputs": [
    {
     "data": {
      "text/plain": [
       "array([[1.  , 4.52],\n",
       "       [1.  , 2.42],\n",
       "       [1.  , 4.5 ],\n",
       "       [1.  , 2.54],\n",
       "       [1.  , 9.79]])"
      ]
     },
     "execution_count": 35,
     "metadata": {},
     "output_type": "execute_result"
    }
   ],
   "source": [
    "X[0:5, ]"
   ]
  },
  {
   "cell_type": "code",
   "execution_count": 36,
   "metadata": {},
   "outputs": [
    {
     "name": "stdout",
     "output_type": "stream",
     "text": [
      "                            OLS Regression Results                            \n",
      "==============================================================================\n",
      "Dep. Variable:                 AVGEXP   R-squared:                       0.196\n",
      "Model:                            OLS   Adj. R-squared:                  0.185\n",
      "Method:                 Least Squares   F-statistic:                     17.10\n",
      "Date:                Mon, 03 May 2021   Prob (F-statistic):           9.69e-05\n",
      "Time:                        16:15:01   Log-Likelihood:                -508.67\n",
      "No. Observations:                  72   AIC:                             1021.\n",
      "Df Residuals:                      70   BIC:                             1026.\n",
      "Df Model:                           1                                         \n",
      "Covariance Type:            nonrobust                                         \n",
      "==============================================================================\n",
      "                 coef    std err          t      P>|t|      [0.025      0.975]\n",
      "------------------------------------------------------------------------------\n",
      "Intercept    -22.5093     76.781     -0.293      0.770    -175.644     130.625\n",
      "INCOME        82.9312     20.052      4.136      0.000      42.938     122.924\n",
      "==============================================================================\n",
      "Omnibus:                       73.766   Durbin-Watson:                   1.676\n",
      "Prob(Omnibus):                  0.000   Jarque-Bera (JB):              575.148\n",
      "Skew:                           3.089   Prob(JB):                    1.28e-125\n",
      "Kurtosis:                      15.391   Cond. No.                         9.17\n",
      "==============================================================================\n",
      "\n",
      "Warnings:\n",
      "[1] Standard Errors assume that the covariance matrix of the errors is correctly specified.\n"
     ]
    }
   ],
   "source": [
    "modelo = sm.OLS(y,X)\n",
    "resultado = modelo.fit()\n",
    "print(resultado.summary())"
   ]
  },
  {
   "cell_type": "code",
   "execution_count": 38,
   "metadata": {},
   "outputs": [
    {
     "data": {
      "text/html": [
       "<div>\n",
       "<style scoped>\n",
       "    .dataframe tbody tr th:only-of-type {\n",
       "        vertical-align: middle;\n",
       "    }\n",
       "\n",
       "    .dataframe tbody tr th {\n",
       "        vertical-align: top;\n",
       "    }\n",
       "\n",
       "    .dataframe thead th {\n",
       "        text-align: right;\n",
       "    }\n",
       "</style>\n",
       "<table border=\"1\" class=\"dataframe\">\n",
       "  <thead>\n",
       "    <tr style=\"text-align: right;\">\n",
       "      <th></th>\n",
       "      <th>AVGEXP</th>\n",
       "      <th>AGE</th>\n",
       "      <th>INCOME</th>\n",
       "      <th>INCOMESQ</th>\n",
       "      <th>OWNRENT</th>\n",
       "    </tr>\n",
       "  </thead>\n",
       "  <tbody>\n",
       "    <tr>\n",
       "      <th>count</th>\n",
       "      <td>72.000000</td>\n",
       "      <td>72.000000</td>\n",
       "      <td>72.000000</td>\n",
       "      <td>72.000000</td>\n",
       "      <td>72.00000</td>\n",
       "    </tr>\n",
       "    <tr>\n",
       "      <th>mean</th>\n",
       "      <td>262.532083</td>\n",
       "      <td>31.277778</td>\n",
       "      <td>3.437083</td>\n",
       "      <td>14.661565</td>\n",
       "      <td>0.37500</td>\n",
       "    </tr>\n",
       "    <tr>\n",
       "      <th>std</th>\n",
       "      <td>318.046831</td>\n",
       "      <td>7.152705</td>\n",
       "      <td>1.699452</td>\n",
       "      <td>17.644929</td>\n",
       "      <td>0.48752</td>\n",
       "    </tr>\n",
       "    <tr>\n",
       "      <th>min</th>\n",
       "      <td>9.580000</td>\n",
       "      <td>20.000000</td>\n",
       "      <td>1.500000</td>\n",
       "      <td>2.250000</td>\n",
       "      <td>0.00000</td>\n",
       "    </tr>\n",
       "    <tr>\n",
       "      <th>25%</th>\n",
       "      <td>67.597500</td>\n",
       "      <td>26.000000</td>\n",
       "      <td>2.400000</td>\n",
       "      <td>5.760000</td>\n",
       "      <td>0.00000</td>\n",
       "    </tr>\n",
       "    <tr>\n",
       "      <th>50%</th>\n",
       "      <td>158.320000</td>\n",
       "      <td>30.000000</td>\n",
       "      <td>3.000000</td>\n",
       "      <td>9.000000</td>\n",
       "      <td>0.00000</td>\n",
       "    </tr>\n",
       "    <tr>\n",
       "      <th>75%</th>\n",
       "      <td>323.475000</td>\n",
       "      <td>36.000000</td>\n",
       "      <td>3.970000</td>\n",
       "      <td>15.761200</td>\n",
       "      <td>1.00000</td>\n",
       "    </tr>\n",
       "    <tr>\n",
       "      <th>max</th>\n",
       "      <td>1898.030000</td>\n",
       "      <td>55.000000</td>\n",
       "      <td>10.000000</td>\n",
       "      <td>100.000000</td>\n",
       "      <td>1.00000</td>\n",
       "    </tr>\n",
       "  </tbody>\n",
       "</table>\n",
       "</div>"
      ],
      "text/plain": [
       "            AVGEXP        AGE     INCOME    INCOMESQ   OWNRENT\n",
       "count    72.000000  72.000000  72.000000   72.000000  72.00000\n",
       "mean    262.532083  31.277778   3.437083   14.661565   0.37500\n",
       "std     318.046831   7.152705   1.699452   17.644929   0.48752\n",
       "min       9.580000  20.000000   1.500000    2.250000   0.00000\n",
       "25%      67.597500  26.000000   2.400000    5.760000   0.00000\n",
       "50%     158.320000  30.000000   3.000000    9.000000   0.00000\n",
       "75%     323.475000  36.000000   3.970000   15.761200   1.00000\n",
       "max    1898.030000  55.000000  10.000000  100.000000   1.00000"
      ]
     },
     "execution_count": 38,
     "metadata": {},
     "output_type": "execute_result"
    }
   ],
   "source": [
    "datos.describe()"
   ]
  },
  {
   "cell_type": "markdown",
   "metadata": {},
   "source": [
    "3. Realice una grafica que muestre la relación entre estas variables y los resultados de su modelo OLS"
   ]
  },
  {
   "cell_type": "code",
   "execution_count": 47,
   "metadata": {},
   "outputs": [
    {
     "data": {
      "image/png": "[encoded data removed]",
      "text/plain": [
       "<Figure size 432x288 with 1 Axes>"
      ]
     },
     "metadata": {
      "needs_background": "light"
     },
     "output_type": "display_data"
    }
   ],
   "source": [
    "plt.scatter(datos.INCOME, datos.AVGEXP)\n",
    "plt.plot(X[:,-1], resultado.predict(X), c='red')\n",
    "plt.show()"
   ]
  },
  {
   "cell_type": "markdown",
   "metadata": {},
   "source": [
    "4. Realice una Regresión Lineal Múltiple de el Gasto promedio como función del ingreso, ingreso al cuadrado y la edad. Use ScikitLearn"
   ]
  },
  {
   "cell_type": "code",
   "execution_count": 48,
   "metadata": {},
   "outputs": [
    {
     "name": "stdout",
     "output_type": "stream",
     "text": [
      "[[124.98]\n",
      " [  9.85]\n",
      " [ 15.  ]\n",
      " [137.87]\n",
      " [546.5 ]]\n",
      "[[ 1.      4.52   20.4304 38.    ]\n",
      " [ 1.      2.42    5.8564 33.    ]\n",
      " [ 1.      4.5    20.25   34.    ]\n",
      " [ 1.      2.54    6.4516 31.    ]\n",
      " [ 1.      9.79   95.8441 32.    ]]\n"
     ]
    }
   ],
   "source": [
    "formula = 'AVGEXP ~ INCOME + INCOMESQ + AGE'\n",
    "y, X = patsy.dmatrices(formula, datos)\n",
    "print(y[0:5,])\n",
    "print(X[0:5,])"
   ]
  },
  {
   "cell_type": "code",
   "execution_count": 58,
   "metadata": {},
   "outputs": [],
   "source": [
    "modelo = linear_model.LinearRegression(fit_intercept=False)"
   ]
  },
  {
   "cell_type": "code",
   "execution_count": 59,
   "metadata": {},
   "outputs": [
    {
     "data": {
      "text/plain": [
       "LinearRegression(copy_X=True, fit_intercept=False, n_jobs=None, normalize=False)"
      ]
     },
     "execution_count": 59,
     "metadata": {},
     "output_type": "execute_result"
    }
   ],
   "source": [
    "modelo.fit(X, y)"
   ]
  },
  {
   "cell_type": "code",
   "execution_count": 60,
   "metadata": {},
   "outputs": [
    {
     "data": {
      "text/plain": [
       "array([[-255.4021149 ,  237.8550073 ,  -15.05953   ,   -2.51926468]])"
      ]
     },
     "execution_count": 60,
     "metadata": {},
     "output_type": "execute_result"
    }
   ],
   "source": [
    "modelo.coef_"
   ]
  },
  {
   "cell_type": "code",
   "execution_count": 61,
   "metadata": {},
   "outputs": [
    {
     "data": {
      "text/plain": [
       "0.0"
      ]
     },
     "execution_count": 61,
     "metadata": {},
     "output_type": "execute_result"
    }
   ],
   "source": [
    "modelo.intercept_"
   ]
  },
  {
   "cell_type": "markdown",
   "metadata": {},
   "source": [
    "# Modelos Discretos - Logit y Probit"
   ]
  },
  {
   "cell_type": "markdown",
   "metadata": {},
   "source": [
    "1. Parta la variable AVGEXP en 3 categorías de gasto: BAJO (25 % más bajo), MEDIO, ALTO (25% más alto)"
   ]
  },
  {
   "cell_type": "code",
   "execution_count": 64,
   "metadata": {},
   "outputs": [],
   "source": [
    "datos['GASTO']=pd.cut(datos.AVGEXP, \n",
    "       bins=[0, \n",
    "             datos.AVGEXP.quantile(0.25),\n",
    "             datos.AVGEXP.quantile(0.75),\n",
    "             datos.AVGEXP.max()],\n",
    "       labels=['BAJO', 'MEDIO', 'ALTO'])"
   ]
  },
  {
   "cell_type": "code",
   "execution_count": 66,
   "metadata": {},
   "outputs": [
    {
     "data": {
      "text/html": [
       "<div>\n",
       "<style scoped>\n",
       "    .dataframe tbody tr th:only-of-type {\n",
       "        vertical-align: middle;\n",
       "    }\n",
       "\n",
       "    .dataframe tbody tr th {\n",
       "        vertical-align: top;\n",
       "    }\n",
       "\n",
       "    .dataframe thead th {\n",
       "        text-align: right;\n",
       "    }\n",
       "</style>\n",
       "<table border=\"1\" class=\"dataframe\">\n",
       "  <thead>\n",
       "    <tr style=\"text-align: right;\">\n",
       "      <th></th>\n",
       "      <th>AVGEXP</th>\n",
       "      <th>AGE</th>\n",
       "      <th>INCOME</th>\n",
       "      <th>INCOMESQ</th>\n",
       "      <th>OWNRENT</th>\n",
       "      <th>GASTO</th>\n",
       "    </tr>\n",
       "  </thead>\n",
       "  <tbody>\n",
       "    <tr>\n",
       "      <th>0</th>\n",
       "      <td>124.98</td>\n",
       "      <td>38.0</td>\n",
       "      <td>4.52</td>\n",
       "      <td>20.4304</td>\n",
       "      <td>1.0</td>\n",
       "      <td>MEDIO</td>\n",
       "    </tr>\n",
       "    <tr>\n",
       "      <th>1</th>\n",
       "      <td>9.85</td>\n",
       "      <td>33.0</td>\n",
       "      <td>2.42</td>\n",
       "      <td>5.8564</td>\n",
       "      <td>0.0</td>\n",
       "      <td>BAJO</td>\n",
       "    </tr>\n",
       "    <tr>\n",
       "      <th>2</th>\n",
       "      <td>15.00</td>\n",
       "      <td>34.0</td>\n",
       "      <td>4.50</td>\n",
       "      <td>20.2500</td>\n",
       "      <td>1.0</td>\n",
       "      <td>BAJO</td>\n",
       "    </tr>\n",
       "    <tr>\n",
       "      <th>3</th>\n",
       "      <td>137.87</td>\n",
       "      <td>31.0</td>\n",
       "      <td>2.54</td>\n",
       "      <td>6.4516</td>\n",
       "      <td>0.0</td>\n",
       "      <td>MEDIO</td>\n",
       "    </tr>\n",
       "    <tr>\n",
       "      <th>4</th>\n",
       "      <td>546.50</td>\n",
       "      <td>32.0</td>\n",
       "      <td>9.79</td>\n",
       "      <td>95.8441</td>\n",
       "      <td>1.0</td>\n",
       "      <td>ALTO</td>\n",
       "    </tr>\n",
       "  </tbody>\n",
       "</table>\n",
       "</div>"
      ],
      "text/plain": [
       "   AVGEXP   AGE  INCOME  INCOMESQ  OWNRENT  GASTO\n",
       "0  124.98  38.0    4.52   20.4304      1.0  MEDIO\n",
       "1    9.85  33.0    2.42    5.8564      0.0   BAJO\n",
       "2   15.00  34.0    4.50   20.2500      1.0   BAJO\n",
       "3  137.87  31.0    2.54    6.4516      0.0  MEDIO\n",
       "4  546.50  32.0    9.79   95.8441      1.0   ALTO"
      ]
     },
     "execution_count": 66,
     "metadata": {},
     "output_type": "execute_result"
    }
   ],
   "source": [
    "datos.head()"
   ]
  },
  {
   "cell_type": "code",
   "execution_count": 67,
   "metadata": {},
   "outputs": [
    {
     "data": {
      "text/plain": [
       "AVGEXP       float64\n",
       "AGE          float64\n",
       "INCOME       float64\n",
       "INCOMESQ     float64\n",
       "OWNRENT      float64\n",
       "GASTO       category\n",
       "dtype: object"
      ]
     },
     "execution_count": 67,
     "metadata": {},
     "output_type": "execute_result"
    }
   ],
   "source": [
    "datos.dtypes"
   ]
  },
  {
   "cell_type": "markdown",
   "metadata": {},
   "source": [
    "2. Queremos estimar la probabilidad de que una persona sea dueña de su casa con base en su categoría de gasto, edad, ingreso e ingreso al cuadrado. Use un modelo logit de statsmodels "
   ]
  },
  {
   "cell_type": "code",
   "execution_count": 75,
   "metadata": {},
   "outputs": [
    {
     "data": {
      "text/plain": [
       "DesignMatrix with shape (72, 6)\n",
       "  Intercept  GASTO[T.MEDIO]  GASTO[T.ALTO]  AGE  INCOME  INCOMESQ\n",
       "          1               1              0   38    4.52   20.4304\n",
       "          1               0              0   33    2.42    5.8564\n",
       "          1               0              0   34    4.50   20.2500\n",
       "          1               1              0   31    2.54    6.4516\n",
       "          1               0              1   32    9.79   95.8441\n",
       "          1               1              0   23    2.50    6.2500\n",
       "          1               0              0   28    3.96   15.6816\n",
       "          1               1              0   29    2.37    5.6169\n",
       "          1               0              1   37    3.80   14.4400\n",
       "          1               0              0   28    3.20   10.2400\n",
       "          1               1              0   31    3.95   15.6025\n",
       "          1               1              0   29    2.45    6.0025\n",
       "          1               0              0   35    1.91    3.6481\n",
       "          1               0              1   41    3.20   10.2400\n",
       "          1               1              0   40    4.00   16.0000\n",
       "          1               0              1   40   10.00  100.0000\n",
       "          1               0              0   35    2.35    5.5225\n",
       "          1               1              0   34    2.00    4.0000\n",
       "          1               1              0   36    4.00   16.0000\n",
       "          1               0              0   43    5.14   26.4196\n",
       "          1               0              1   30    4.51   20.3401\n",
       "          1               1              0   22    1.50    2.2500\n",
       "          1               0              1   40    5.50   30.2500\n",
       "          1               0              0   22    2.03    4.1209\n",
       "          1               0              1   29    3.20   10.2400\n",
       "          1               0              1   21    2.47    6.1009\n",
       "          1               1              0   24    3.00    9.0000\n",
       "          1               0              1   43    3.54   12.5316\n",
       "          1               0              1   37    5.70   32.4900\n",
       "          1               0              1   27    3.50   12.2500\n",
       "  [42 rows omitted]\n",
       "  Terms:\n",
       "    'Intercept' (column 0)\n",
       "    'GASTO' (columns 1:3)\n",
       "    'AGE' (column 3)\n",
       "    'INCOME' (column 4)\n",
       "    'INCOMESQ' (column 5)\n",
       "  (to view full data, use np.asarray(this_obj))"
      ]
     },
     "execution_count": 75,
     "metadata": {},
     "output_type": "execute_result"
    }
   ],
   "source": [
    "formula = 'OWNRENT ~ GASTO + AGE + INCOME + INCOMESQ'\n",
    "y, X = patsy.dmatrices(formula, datos)\n",
    "X"
   ]
  },
  {
   "cell_type": "code",
   "execution_count": 78,
   "metadata": {},
   "outputs": [
    {
     "name": "stdout",
     "output_type": "stream",
     "text": [
      "Optimization terminated successfully.\n",
      "         Current function value: 0.472123\n",
      "         Iterations 8\n",
      "                           Logit Regression Results                           \n",
      "==============================================================================\n",
      "Dep. Variable:                OWNRENT   No. Observations:                   72\n",
      "Model:                          Logit   Df Residuals:                       66\n",
      "Method:                           MLE   Df Model:                            5\n",
      "Date:                Mon, 03 May 2021   Pseudo R-squ.:                  0.2864\n",
      "Time:                        16:35:44   Log-Likelihood:                -33.993\n",
      "converged:                       True   LL-Null:                       -47.633\n",
      "Covariance Type:            nonrobust   LLR p-value:                 5.032e-05\n",
      "==================================================================================\n",
      "                     coef    std err          z      P>|z|      [0.025      0.975]\n",
      "----------------------------------------------------------------------------------\n",
      "Intercept         -3.8904      2.739     -1.420      0.155      -9.258       1.478\n",
      "GASTO[T.MEDIO]    -0.0477      0.742     -0.064      0.949      -1.501       1.406\n",
      "GASTO[T.ALTO]      1.1158      0.941      1.186      0.236      -0.729       2.961\n",
      "AGE                0.1217      0.049      2.472      0.013       0.025       0.218\n",
      "INCOME            -0.8992      1.466     -0.613      0.540      -3.773       1.975\n",
      "INCOMESQ           0.1703      0.189      0.900      0.368      -0.200       0.541\n",
      "==================================================================================\n"
     ]
    }
   ],
   "source": [
    "modelo_logit = sm.Logit(y, X)\n",
    "res_logit= modelo_logit.fit()\n",
    "print(res_logit.summary())"
   ]
  },
  {
   "cell_type": "markdown",
   "metadata": {},
   "source": [
    "3. Repita el ejercicio anterior pero use un modelo probit de statsmodels "
   ]
  },
  {
   "cell_type": "code",
   "execution_count": 79,
   "metadata": {},
   "outputs": [
    {
     "name": "stdout",
     "output_type": "stream",
     "text": [
      "Optimization terminated successfully.\n",
      "         Current function value: 0.469866\n",
      "         Iterations 8\n",
      "                          Probit Regression Results                           \n",
      "==============================================================================\n",
      "Dep. Variable:                OWNRENT   No. Observations:                   72\n",
      "Model:                         Probit   Df Residuals:                       66\n",
      "Method:                           MLE   Df Model:                            5\n",
      "Date:                Mon, 03 May 2021   Pseudo R-squ.:                  0.2898\n",
      "Time:                        16:36:13   Log-Likelihood:                -33.830\n",
      "converged:                       True   LL-Null:                       -47.633\n",
      "Covariance Type:            nonrobust   LLR p-value:                 4.349e-05\n",
      "==================================================================================\n",
      "                     coef    std err          z      P>|z|      [0.025      0.975]\n",
      "----------------------------------------------------------------------------------\n",
      "Intercept         -2.4751      1.583     -1.563      0.118      -5.578       0.628\n",
      "GASTO[T.MEDIO]     0.0091      0.437      0.021      0.983      -0.848       0.867\n",
      "GASTO[T.ALTO]      0.7490      0.565      1.326      0.185      -0.358       1.856\n",
      "AGE                0.0754      0.029      2.578      0.010       0.018       0.133\n",
      "INCOME            -0.5079      0.830     -0.612      0.540      -2.134       1.118\n",
      "INCOMESQ           0.0957      0.104      0.916      0.360      -0.109       0.301\n",
      "==================================================================================\n"
     ]
    }
   ],
   "source": [
    "modelo_probit = sm.Probit(y, X)\n",
    "res_probit= modelo_probit.fit()\n",
    "print(res_probit.summary())"
   ]
  },
  {
   "cell_type": "markdown",
   "metadata": {},
   "source": [
    "4. Calcule los efectos marginales de cada modelo"
   ]
  },
  {
   "cell_type": "code",
   "execution_count": 82,
   "metadata": {},
   "outputs": [
    {
     "name": "stdout",
     "output_type": "stream",
     "text": [
      "        Logit Marginal Effects       \n",
      "=====================================\n",
      "Dep. Variable:                OWNRENT\n",
      "Method:                          dydx\n",
      "At:                           overall\n",
      "==================================================================================\n",
      "                    dy/dx    std err          z      P>|z|      [0.025      0.975]\n",
      "----------------------------------------------------------------------------------\n",
      "GASTO[T.MEDIO]    -0.0073      0.114     -0.064      0.949      -0.230       0.215\n",
      "GASTO[T.ALTO]      0.1709      0.139      1.229      0.219      -0.102       0.444\n",
      "AGE                0.0186      0.006      2.911      0.004       0.006       0.031\n",
      "INCOME            -0.1378      0.223     -0.617      0.537      -0.575       0.300\n",
      "INCOMESQ           0.0261      0.029      0.915      0.360      -0.030       0.082\n",
      "==================================================================================\n"
     ]
    }
   ],
   "source": [
    "print(res_logit.get_margeff().summary())"
   ]
  },
  {
   "cell_type": "code",
   "execution_count": 83,
   "metadata": {},
   "outputs": [
    {
     "name": "stdout",
     "output_type": "stream",
     "text": [
      "       Probit Marginal Effects       \n",
      "=====================================\n",
      "Dep. Variable:                OWNRENT\n",
      "Method:                          dydx\n",
      "At:                           overall\n",
      "==================================================================================\n",
      "                    dy/dx    std err          z      P>|z|      [0.025      0.975]\n",
      "----------------------------------------------------------------------------------\n",
      "GASTO[T.MEDIO]     0.0024      0.114      0.021      0.983      -0.221       0.226\n",
      "GASTO[T.ALTO]      0.1956      0.141      1.389      0.165      -0.080       0.472\n",
      "AGE                0.0197      0.007      3.028      0.002       0.007       0.032\n",
      "INCOME            -0.1326      0.215     -0.616      0.538      -0.555       0.290\n",
      "INCOMESQ           0.0250      0.027      0.927      0.354      -0.028       0.078\n",
      "==================================================================================\n"
     ]
    }
   ],
   "source": [
    "print(res_probit.get_margeff().summary())"
   ]
  },
  {
   "cell_type": "markdown",
   "metadata": {},
   "source": [
    "5. Suponga que si la probabilidad es mayor a 0.5, el individuo es dueño. ¿Qué tan bien está prediciendo su modelo?"
   ]
  },
  {
   "cell_type": "code",
   "execution_count": 84,
   "metadata": {},
   "outputs": [
    {
     "data": {
      "text/plain": [
       "array([[39.,  6.],\n",
       "       [10., 17.]])"
      ]
     },
     "execution_count": 84,
     "metadata": {},
     "output_type": "execute_result"
    }
   ],
   "source": [
    "res_logit.pred_table()"
   ]
  },
  {
   "cell_type": "code",
   "execution_count": 86,
   "metadata": {},
   "outputs": [
    {
     "data": {
      "text/plain": [
       "array([[39.,  6.],\n",
       "       [10., 17.]])"
      ]
     },
     "execution_count": 86,
     "metadata": {},
     "output_type": "execute_result"
    }
   ],
   "source": [
    "res_probit.pred_table()"
   ]
  }
 ],
 "metadata": {
  "kernelspec": {
   "display_name": "Python 3",
   "language": "python",
   "name": "python3"
  },
  "language_info": {
   "codemirror_mode": {
    "name": "ipython",
    "version": 3
   },
   "file_extension": ".py",
   "mimetype": "text/x-python",
   "name": "python",
   "nbconvert_exporter": "python",
   "pygments_lexer": "ipython3",
   "version": "3.8.1"
  }
 },
 "nbformat": 4,
 "nbformat_minor": 4
}
