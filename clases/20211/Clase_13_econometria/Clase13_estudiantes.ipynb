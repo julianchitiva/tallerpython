{
 "cells": [
  {
   "cell_type": "markdown",
   "metadata": {},
   "source": [
    "# **Taller de Python**\n",
    "## Profesor: Juan S. Moreno y Julian E. Chitiva B.\n",
    "# Clase 13: Econometría"
   ]
  },
  {
   "cell_type": "markdown",
   "metadata": {},
   "source": [
    "- <a href=\"https://docs.scipy.org/doc/scipy/reference/index.html\">Scipy</a> - <a href=\"https://docs.scipy.org/doc/scipy/reference/stats.html#module-scipy.stats\">Stats</a>: Distribuciones y pruebas estadísticas\n",
    "- <a href=\"https://pypi.org/project/statsmodels/\">Statmodels</a>\n",
    "- <a href=\"https://scikit-learn.org/stable/\"> Scikit-Learn</a>\n",
    "    - OLS.\n",
    "    - Modelos discretos (Logit, Probit).\n",
    "    - Uso de formulas para especificar modelos"
   ]
  },
  {
   "cell_type": "markdown",
   "metadata": {},
   "source": [
    "**Scipy - <a href=\"https://docs.scipy.org/doc/scipy/reference/stats.html#module-scipy.stats\">Estadísticas</a>**\n",
    "SciPy es una colección de algoritmos matemáticos y funciones de conveniencia construidas en la extensión NumPy de Python. Proporciona muchas rutinas numéricas fáciles de usar y eficientes, como rutinas para integración numérica, interpolación, optimización, álgebra lineal y estadísticas.\n",
    "\n",
    "**Statsmodels**\n",
    "Es un módulo de Python que proporciona clases y funciones para la estimación de muchos modelos estadísticos diferentes, así como para realizar pruebas estadísticas y exploración de datos estadísticos. Se encuentra disponible una extensa lista de estadísticas de resultados para cada estimador. Los resultados se prueban con los paquetes estadísticos existentes para garantizar que sean correctos. \n",
    "\n",
    "**<a href=\"https://bashtage.github.io/linearmodels/\">Linearmodels</a>**\n",
    "Es una libreria que extiende la funcionalidad de Statsmodels\n",
    "\n",
    "**Scikit-Learn**\n",
    "Scikit-learn es una libreria para Machine Learning que soporta modelos supervisados y no supervidados. Provee herramientas para ajustar modelos y preprocesar datos, entre otros."
   ]
  },
  {
   "cell_type": "markdown",
   "metadata": {},
   "source": [
    "## Paquetes necesarios"
   ]
  },
  {
   "cell_type": "code",
   "execution_count": null,
   "metadata": {},
   "outputs": [],
   "source": [
    "%matplotlib inline\n",
    "import numpy as np\n",
    "import pandas as pd\n",
    "from scipy import stats\n",
    "import patsy\n",
    "import statsmodels.api as sm\n",
    "import matplotlib.pyplot as plt\n",
    "from sklearn import linear_model"
   ]
  },
  {
   "cell_type": "markdown",
   "metadata": {},
   "source": [
    "# Distribuciones y Estadística"
   ]
  },
  {
   "cell_type": "markdown",
   "metadata": {},
   "source": [
    "1. Construya una distribución Normal con media 10 y desviacion 5"
   ]
  },
  {
   "cell_type": "code",
   "execution_count": null,
   "metadata": {},
   "outputs": [],
   "source": []
  },
  {
   "cell_type": "markdown",
   "metadata": {},
   "source": [
    "2. Pinte las distribuciones acumuladas de la distribución Normal"
   ]
  },
  {
   "cell_type": "code",
   "execution_count": null,
   "metadata": {},
   "outputs": [],
   "source": []
  },
  {
   "cell_type": "markdown",
   "metadata": {},
   "source": [
    "3. Genere una muestra aleatoria de tamaño 1000 de estas distribución y pinte el histogramas de esta muestra."
   ]
  },
  {
   "cell_type": "code",
   "execution_count": null,
   "metadata": {},
   "outputs": [],
   "source": []
  },
  {
   "cell_type": "markdown",
   "metadata": {},
   "source": [
    "4. Saque las estadísticas descriptivas de esta distribución"
   ]
  },
  {
   "cell_type": "code",
   "execution_count": null,
   "metadata": {},
   "outputs": [],
   "source": []
  },
  {
   "cell_type": "markdown",
   "metadata": {},
   "source": [
    "5. Realice una prueba $t$ sobre la media de la muestra normal que generó anteriormente "
   ]
  },
  {
   "cell_type": "code",
   "execution_count": null,
   "metadata": {},
   "outputs": [],
   "source": []
  },
  {
   "cell_type": "markdown",
   "metadata": {},
   "source": [
    "# Regresión Lineal OLS"
   ]
  },
  {
   "cell_type": "markdown",
   "metadata": {},
   "source": [
    "1. Cargue la base ccard del `sm.datasets`. Explore la descripción y la nota."
   ]
  },
  {
   "cell_type": "code",
   "execution_count": null,
   "metadata": {},
   "outputs": [],
   "source": [
    "print(sm.datasets.ccard.NOTE)\n",
    "print(sm.datasets.ccard.DESCRLONG)\n",
    "datos = sm.datasets.ccard.load_pandas().data"
   ]
  },
  {
   "cell_type": "markdown",
   "metadata": {},
   "source": [
    "- Age = Age in years+ 12ths of a year,\n",
    "- Income = Income, divided by 10,000.\n",
    "- Avgexp = Avg. monthly credit card expenditure.\n",
    "- Ownrent = OwnRent, individual owns (1) or rents (0) home."
   ]
  },
  {
   "cell_type": "markdown",
   "metadata": {},
   "source": [
    "2. Realice una Regresión Lineal Sencilla de el Gasto promedio como función del ingreso. Use Statsmodels"
   ]
  },
  {
   "cell_type": "code",
   "execution_count": null,
   "metadata": {},
   "outputs": [],
   "source": []
  },
  {
   "cell_type": "markdown",
   "metadata": {},
   "source": [
    "3. Realice una grafica que muestre la relación entre estas variables y los resultados de su modelo OLS"
   ]
  },
  {
   "cell_type": "code",
   "execution_count": null,
   "metadata": {},
   "outputs": [],
   "source": []
  },
  {
   "cell_type": "markdown",
   "metadata": {},
   "source": [
    "4. Realice una Regresión Lineal Múltiple de el Gasto promedio como función del ingreso, ingreso al cuadrado y la edad. Use ScikitLearn"
   ]
  },
  {
   "cell_type": "code",
   "execution_count": null,
   "metadata": {},
   "outputs": [],
   "source": []
  },
  {
   "cell_type": "markdown",
   "metadata": {},
   "source": [
    "# Modelos Discretos - Logit y Probit"
   ]
  },
  {
   "cell_type": "markdown",
   "metadata": {},
   "source": [
    "1. Parta la variable AVGEXP en 3 categorías de gasto: BAJO (25 % más bajo), MEDIO, ALTO (25% más alto)"
   ]
  },
  {
   "cell_type": "code",
   "execution_count": null,
   "metadata": {},
   "outputs": [],
   "source": []
  },
  {
   "cell_type": "markdown",
   "metadata": {},
   "source": [
    "2. Queremos estimar la probabilidad de que una persona sea dueña de su casa con base en su categoría de gasto, edad, ingreso e ingreso al cuadrado. Use un modelo logit de statsmodels "
   ]
  },
  {
   "cell_type": "code",
   "execution_count": null,
   "metadata": {},
   "outputs": [],
   "source": []
  },
  {
   "cell_type": "markdown",
   "metadata": {},
   "source": [
    "3. Repita el ejercicio anterior pero use un modelo probit de statsmodels "
   ]
  },
  {
   "cell_type": "code",
   "execution_count": null,
   "metadata": {},
   "outputs": [],
   "source": []
  },
  {
   "cell_type": "markdown",
   "metadata": {},
   "source": [
    "4. Calcule los efectos marginales de cada modelo"
   ]
  },
  {
   "cell_type": "code",
   "execution_count": null,
   "metadata": {},
   "outputs": [],
   "source": []
  },
  {
   "cell_type": "markdown",
   "metadata": {},
   "source": [
    "5. Suponga que si la probabilidad es mayor a 0.5, el individuo es dueño. ¿Qué tan bien está prediciendo su modelo?"
   ]
  },
  {
   "cell_type": "code",
   "execution_count": null,
   "metadata": {},
   "outputs": [],
   "source": []
  }
 ],
 "metadata": {
  "kernelspec": {
   "display_name": "Python 3",
   "language": "python",
   "name": "python3"
  },
  "language_info": {
   "codemirror_mode": {
    "name": "ipython",
    "version": 3
   },
   "file_extension": ".py",
   "mimetype": "text/x-python",
   "name": "python",
   "nbconvert_exporter": "python",
   "pygments_lexer": "ipython3",
   "version": "3.8.1"
  }
 },
 "nbformat": 4,
 "nbformat_minor": 4
}
