{
 "cells": [
  {
   "cell_type": "markdown",
   "metadata": {},
   "source": [
    "# **Taller de Python**\n",
    "## Profesor: Juan S. Moreno y Julian E. Chitiva B.\n",
    "# Clase 13: Econometría"
   ]
  },
  {
   "cell_type": "markdown",
   "metadata": {},
   "source": [
    "- <a href=\"https://docs.scipy.org/doc/scipy/reference/index.html\">Scipy</a> - <a href=\"https://docs.scipy.org/doc/scipy/reference/stats.html#module-scipy.stats\">Stats</a>: Distribuciones y pruebas estadísticas\n",
    "- <a href=\"https://pypi.org/project/statsmodels/\">Statmodels</a>\n",
    "- <a href=\"https://scikit-learn.org/stable/\"> Scikit-Learn</a>\n",
    "    - OLS.\n",
    "    - Modelos discretos (Logit, Probit).\n",
    "    - Uso de formulas para especificar modelos"
   ]
  },
  {
   "cell_type": "markdown",
   "metadata": {},
   "source": [
    "**Scipy - <a href=\"https://docs.scipy.org/doc/scipy/reference/stats.html#module-scipy.stats\">Estadísticas</a>**\n",
    "SciPy es una colección de algoritmos matemáticos y funciones de conveniencia construidas en la extensión NumPy de Python. Proporciona muchas rutinas numéricas fáciles de usar y eficientes, como rutinas para integración numérica, interpolación, optimización, álgebra lineal y estadísticas.\n",
    "\n",
    "**Statsmodels**\n",
    "Es un módulo de Python que proporciona clases y funciones para la estimación de muchos modelos estadísticos diferentes, así como para realizar pruebas estadísticas y exploración de datos estadísticos. Se encuentra disponible una extensa lista de estadísticas de resultados para cada estimador. Los resultados se prueban con los paquetes estadísticos existentes para garantizar que sean correctos. \n",
    "\n",
    "**<a href=\"https://bashtage.github.io/linearmodels/\">Linearmodels</a>**\n",
    "Es una libreria que extiende la funcionalidad de Statsmodels\n",
    "\n",
    "**Scikit-Learn**\n",
    "Scikit-learn es una libreria para Machine Learning que soporta modelos supervisados y no supervidados. Provee herramientas para ajustar modelos y preprocesar datos, entre otros."
   ]
  },
  {
   "cell_type": "markdown",
   "metadata": {},
   "source": [
    "## Paquetes necesarios"
   ]
  },
  {
   "cell_type": "code",
   "execution_count": 1,
   "metadata": {},
   "outputs": [],
   "source": [
    "%matplotlib inline\n",
    "import numpy as np\n",
    "import pandas as pd\n",
    "from scipy import stats\n",
    "import patsy\n",
    "import statsmodels.api as sm\n",
    "import matplotlib.pyplot as plt\n",
    "from sklearn import linear_model"
   ]
  },
  {
   "cell_type": "markdown",
   "metadata": {},
   "source": [
    "# Distribuciones y Estadística"
   ]
  },
  {
   "cell_type": "markdown",
   "metadata": {},
   "source": [
    "1. Construya una distribución Normal con media 10 y desviacion 5"
   ]
  },
  {
   "cell_type": "code",
   "execution_count": 2,
   "metadata": {},
   "outputs": [],
   "source": [
    "xNorm = stats.norm(loc=10, scale= 5)"
   ]
  },
  {
   "cell_type": "markdown",
   "metadata": {},
   "source": [
    "2. Pinte las distribuciones acumuladas de la distribución Normal"
   ]
  },
  {
   "cell_type": "code",
   "execution_count": 3,
   "metadata": {},
   "outputs": [
    {
     "data": {
      "image/png": "[encoded data removed]",
      "text/plain": [
       "<Figure size 432x288 with 1 Axes>"
      ]
     },
     "metadata": {
      "needs_background": "light"
     },
     "output_type": "display_data"
    }
   ],
   "source": [
    "x = np.linspace(-10,50,100)\n",
    "plt.plot(x, xNorm.cdf(x), label='Normal')\n",
    "plt.legend();"
   ]
  },
  {
   "cell_type": "markdown",
   "metadata": {},
   "source": [
    "3. Genere una muestra aleatoria de tamaño 1000 de estas distribución y pinte el histogramas de esta muestra."
   ]
  },
  {
   "cell_type": "code",
   "execution_count": 4,
   "metadata": {},
   "outputs": [],
   "source": [
    "n=1000"
   ]
  },
  {
   "cell_type": "code",
   "execution_count": 5,
   "metadata": {},
   "outputs": [
    {
     "data": {
      "image/png": "[encoded data removed]",
      "text/plain": [
       "<Figure size 432x288 with 1 Axes>"
      ]
     },
     "metadata": {
      "needs_background": "light"
     },
     "output_type": "display_data"
    }
   ],
   "source": [
    "mNorm = xNorm.rvs(size=n)\n",
    "plt.hist(mNorm,bins=50,density=True);"
   ]
  },
  {
   "cell_type": "markdown",
   "metadata": {},
   "source": [
    "4. Saque las estadísticas descriptivas de esta distribución"
   ]
  },
  {
   "cell_type": "code",
   "execution_count": 6,
   "metadata": {},
   "outputs": [
    {
     "data": {
      "text/plain": [
       "DescribeResult(nobs=1000, minmax=(-5.969852179668202, 25.901324352969677), mean=9.787186915501742, variance=24.78698683737574, skewness=0.01411017425213193, kurtosis=0.05128217890653097)"
      ]
     },
     "execution_count": 6,
     "metadata": {},
     "output_type": "execute_result"
    }
   ],
   "source": [
    "stats.describe(mNorm)"
   ]
  },
  {
   "cell_type": "markdown",
   "metadata": {},
   "source": [
    "5. Realice una prueba $t$ sobre la media de la muestra normal que generó anteriormente "
   ]
  },
  {
   "cell_type": "code",
   "execution_count": 7,
   "metadata": {},
   "outputs": [
    {
     "data": {
      "text/plain": [
       "Ttest_1sampResult(statistic=-1.351719124398553, pvalue=0.17677115513541028)"
      ]
     },
     "execution_count": 7,
     "metadata": {},
     "output_type": "execute_result"
    }
   ],
   "source": [
    "# Prueba t\n",
    "stats.ttest_1samp(mNorm, 10)"
   ]
  },
  {
   "cell_type": "markdown",
   "metadata": {},
   "source": [
    "# Regresión Lineal OLS"
   ]
  },
  {
   "cell_type": "markdown",
   "metadata": {},
   "source": [
    "1. Cargue la base ccard del `sm.datasets`. Explore la descripción y la nota."
   ]
  },
  {
   "cell_type": "code",
   "execution_count": 8,
   "metadata": {},
   "outputs": [
    {
     "name": "stdout",
     "output_type": "stream",
     "text": [
      "::\n",
      "\n",
      "    Number of observations - 72\n",
      "    Number of variables - 5\n",
      "    Variable name definitions - See Source for more information on the\n",
      "                                variables.\n",
      "\n",
      "More information on this data can be found on the\n",
      "homepage for Greene's `Econometric Analysis`. See source.\n",
      "\n"
     ]
    }
   ],
   "source": [
    "print(sm.datasets.ccard.NOTE)\n",
    "print(sm.datasets.ccard.DESCRLONG)\n",
    "datos = sm.datasets.ccard.load_pandas().data"
   ]
  },
  {
   "cell_type": "markdown",
   "metadata": {},
   "source": [
    "- Age = Age in years+ 12ths of a year,\n",
    "- Income = Income, divided by 10,000.\n",
    "- Avgexp = Avg. monthly credit card expenditure.\n",
    "- Ownrent = OwnRent, individual owns (1) or rents (0) home."
   ]
  },
  {
   "cell_type": "code",
   "execution_count": 9,
   "metadata": {},
   "outputs": [
    {
     "data": {
      "text/html": [
       "<div>\n",
       "<style scoped>\n",
       "    .dataframe tbody tr th:only-of-type {\n",
       "        vertical-align: middle;\n",
       "    }\n",
       "\n",
       "    .dataframe tbody tr th {\n",
       "        vertical-align: top;\n",
       "    }\n",
       "\n",
       "    .dataframe thead th {\n",
       "        text-align: right;\n",
       "    }\n",
       "</style>\n",
       "<table border=\"1\" class=\"dataframe\">\n",
       "  <thead>\n",
       "    <tr style=\"text-align: right;\">\n",
       "      <th></th>\n",
       "      <th>AVGEXP</th>\n",
       "      <th>AGE</th>\n",
       "      <th>INCOME</th>\n",
       "      <th>INCOMESQ</th>\n",
       "      <th>OWNRENT</th>\n",
       "    </tr>\n",
       "  </thead>\n",
       "  <tbody>\n",
       "    <tr>\n",
       "      <th>0</th>\n",
       "      <td>124.98</td>\n",
       "      <td>38.0</td>\n",
       "      <td>4.52</td>\n",
       "      <td>20.4304</td>\n",
       "      <td>1.0</td>\n",
       "    </tr>\n",
       "    <tr>\n",
       "      <th>1</th>\n",
       "      <td>9.85</td>\n",
       "      <td>33.0</td>\n",
       "      <td>2.42</td>\n",
       "      <td>5.8564</td>\n",
       "      <td>0.0</td>\n",
       "    </tr>\n",
       "    <tr>\n",
       "      <th>2</th>\n",
       "      <td>15.00</td>\n",
       "      <td>34.0</td>\n",
       "      <td>4.50</td>\n",
       "      <td>20.2500</td>\n",
       "      <td>1.0</td>\n",
       "    </tr>\n",
       "    <tr>\n",
       "      <th>3</th>\n",
       "      <td>137.87</td>\n",
       "      <td>31.0</td>\n",
       "      <td>2.54</td>\n",
       "      <td>6.4516</td>\n",
       "      <td>0.0</td>\n",
       "    </tr>\n",
       "    <tr>\n",
       "      <th>4</th>\n",
       "      <td>546.50</td>\n",
       "      <td>32.0</td>\n",
       "      <td>9.79</td>\n",
       "      <td>95.8441</td>\n",
       "      <td>1.0</td>\n",
       "    </tr>\n",
       "    <tr>\n",
       "      <th>...</th>\n",
       "      <td>...</td>\n",
       "      <td>...</td>\n",
       "      <td>...</td>\n",
       "      <td>...</td>\n",
       "      <td>...</td>\n",
       "    </tr>\n",
       "    <tr>\n",
       "      <th>67</th>\n",
       "      <td>68.38</td>\n",
       "      <td>43.0</td>\n",
       "      <td>2.40</td>\n",
       "      <td>5.7600</td>\n",
       "      <td>0.0</td>\n",
       "    </tr>\n",
       "    <tr>\n",
       "      <th>68</th>\n",
       "      <td>474.15</td>\n",
       "      <td>33.0</td>\n",
       "      <td>6.00</td>\n",
       "      <td>36.0000</td>\n",
       "      <td>1.0</td>\n",
       "    </tr>\n",
       "    <tr>\n",
       "      <th>69</th>\n",
       "      <td>234.05</td>\n",
       "      <td>25.0</td>\n",
       "      <td>3.60</td>\n",
       "      <td>12.9600</td>\n",
       "      <td>0.0</td>\n",
       "    </tr>\n",
       "    <tr>\n",
       "      <th>70</th>\n",
       "      <td>451.20</td>\n",
       "      <td>26.0</td>\n",
       "      <td>5.00</td>\n",
       "      <td>25.0000</td>\n",
       "      <td>1.0</td>\n",
       "    </tr>\n",
       "    <tr>\n",
       "      <th>71</th>\n",
       "      <td>251.52</td>\n",
       "      <td>46.0</td>\n",
       "      <td>5.50</td>\n",
       "      <td>30.2500</td>\n",
       "      <td>1.0</td>\n",
       "    </tr>\n",
       "  </tbody>\n",
       "</table>\n",
       "<p>72 rows × 5 columns</p>\n",
       "</div>"
      ],
      "text/plain": [
       "    AVGEXP   AGE  INCOME  INCOMESQ  OWNRENT\n",
       "0   124.98  38.0    4.52   20.4304      1.0\n",
       "1     9.85  33.0    2.42    5.8564      0.0\n",
       "2    15.00  34.0    4.50   20.2500      1.0\n",
       "3   137.87  31.0    2.54    6.4516      0.0\n",
       "4   546.50  32.0    9.79   95.8441      1.0\n",
       "..     ...   ...     ...       ...      ...\n",
       "67   68.38  43.0    2.40    5.7600      0.0\n",
       "68  474.15  33.0    6.00   36.0000      1.0\n",
       "69  234.05  25.0    3.60   12.9600      0.0\n",
       "70  451.20  26.0    5.00   25.0000      1.0\n",
       "71  251.52  46.0    5.50   30.2500      1.0\n",
       "\n",
       "[72 rows x 5 columns]"
      ]
     },
     "execution_count": 9,
     "metadata": {},
     "output_type": "execute_result"
    }
   ],
   "source": [
    "datos"
   ]
  },
  {
   "cell_type": "markdown",
   "metadata": {},
   "source": [
    "2. Realice una Regresión Lineal Sencilla de el Gasto promedio como función del ingreso. Use Statsmodels"
   ]
  },
  {
   "cell_type": "code",
   "execution_count": 10,
   "metadata": {},
   "outputs": [
    {
     "name": "stdout",
     "output_type": "stream",
     "text": [
      "                            OLS Regression Results                            \n",
      "==============================================================================\n",
      "Dep. Variable:                 AVGEXP   R-squared:                       0.196\n",
      "Model:                            OLS   Adj. R-squared:                  0.185\n",
      "Method:                 Least Squares   F-statistic:                     17.10\n",
      "Date:                Sat, 01 May 2021   Prob (F-statistic):           9.69e-05\n",
      "Time:                        20:15:21   Log-Likelihood:                -508.67\n",
      "No. Observations:                  72   AIC:                             1021.\n",
      "Df Residuals:                      70   BIC:                             1026.\n",
      "Df Model:                           1                                         \n",
      "Covariance Type:            nonrobust                                         \n",
      "==============================================================================\n",
      "                 coef    std err          t      P>|t|      [0.025      0.975]\n",
      "------------------------------------------------------------------------------\n",
      "Intercept    -22.5093     76.781     -0.293      0.770    -175.644     130.625\n",
      "INCOME        82.9312     20.052      4.136      0.000      42.938     122.924\n",
      "==============================================================================\n",
      "Omnibus:                       73.766   Durbin-Watson:                   1.676\n",
      "Prob(Omnibus):                  0.000   Jarque-Bera (JB):              575.148\n",
      "Skew:                           3.089   Prob(JB):                    1.28e-125\n",
      "Kurtosis:                      15.391   Cond. No.                         9.17\n",
      "==============================================================================\n",
      "\n",
      "Warnings:\n",
      "[1] Standard Errors assume that the covariance matrix of the errors is correctly specified.\n"
     ]
    }
   ],
   "source": [
    "formula = 'AVGEXP ~ INCOME'\n",
    "y,X = patsy.dmatrices(formula, datos, return_type='matrix')\n",
    "modelo = sm.OLS(y,X)\n",
    "resultado = modelo.fit()\n",
    "print(resultado.summary())"
   ]
  },
  {
   "cell_type": "markdown",
   "metadata": {},
   "source": [
    "3. Realice una grafica que muestre la relación entre estas variables y los resultados de su modelo OLS"
   ]
  },
  {
   "cell_type": "code",
   "execution_count": 11,
   "metadata": {},
   "outputs": [
    {
     "data": {
      "image/png": "[encoded data removed]",
      "text/plain": [
       "<Figure size 1152x576 with 1 Axes>"
      ]
     },
     "metadata": {
      "needs_background": "light"
     },
     "output_type": "display_data"
    }
   ],
   "source": [
    "plt.figure(figsize=(16,8))\n",
    "plt.scatter(X[:,1],y)\n",
    "plt.plot(X[:,1], resultado.predict(X), c='r')\n",
    "plt.show()"
   ]
  },
  {
   "cell_type": "markdown",
   "metadata": {},
   "source": [
    "4. Realice una Regresión Lineal Múltiple de el Gasto promedio como función del ingreso, ingreso al cuadrado y la edad. Use ScikitLearn"
   ]
  },
  {
   "cell_type": "code",
   "execution_count": 12,
   "metadata": {},
   "outputs": [],
   "source": [
    "formula = 'AVGEXP ~ INCOME + INCOMESQ + AGE'\n",
    "y, X = patsy.dmatrices(formula, datos)"
   ]
  },
  {
   "cell_type": "code",
   "execution_count": 13,
   "metadata": {},
   "outputs": [
    {
     "name": "stdout",
     "output_type": "stream",
     "text": [
      "[[  0.         237.8550073  -15.05953     -2.51926468]]\n",
      "[-255.4021149]\n"
     ]
    }
   ],
   "source": [
    "modelo = linear_model.LinearRegression()\n",
    "modelo.fit(X,y)\n",
    "print(modelo.coef_)\n",
    "print(modelo.intercept_)"
   ]
  },
  {
   "cell_type": "markdown",
   "metadata": {},
   "source": [
    "# Modelos Discretos - Logit y Probit"
   ]
  },
  {
   "cell_type": "markdown",
   "metadata": {},
   "source": [
    "1. Parta la variable AVGEXP en 3 categorías de gasto: BAJO (25 % más bajo), MEDIO, ALTO (25% más alto)"
   ]
  },
  {
   "cell_type": "code",
   "execution_count": 14,
   "metadata": {},
   "outputs": [],
   "source": [
    "datos['NIVEL_GASTO'] = pd.cut(datos.AVGEXP,\n",
    "                              bins=[0,\n",
    "                                    datos.AVGEXP.quantile(0.25),\n",
    "                                    datos.AVGEXP.quantile(0.75),\n",
    "                                    datos.AVGEXP.max()],\n",
    "                              labels=['BAJO', 'MEDIO', 'ALTO'])"
   ]
  },
  {
   "cell_type": "markdown",
   "metadata": {},
   "source": [
    "2. Queremos estimar la probabilidad de que una persona sea dueña de su casa con base en su categoría de gasto, edad, ingreso e ingreso al cuadrado. Use un modelo logit de statsmodels "
   ]
  },
  {
   "cell_type": "code",
   "execution_count": 15,
   "metadata": {},
   "outputs": [
    {
     "data": {
      "text/plain": [
       "Index(['AVGEXP', 'AGE', 'INCOME', 'INCOMESQ', 'OWNRENT', 'NIVEL_GASTO'], dtype='object')"
      ]
     },
     "execution_count": 15,
     "metadata": {},
     "output_type": "execute_result"
    }
   ],
   "source": [
    "datos.columns"
   ]
  },
  {
   "cell_type": "code",
   "execution_count": 16,
   "metadata": {},
   "outputs": [],
   "source": [
    "formula = 'OWNRENT ~ NIVEL_GASTO + AGE + INCOME + INCOMESQ'\n",
    "y,X = patsy.dmatrices(formula, datos)"
   ]
  },
  {
   "cell_type": "code",
   "execution_count": 17,
   "metadata": {},
   "outputs": [
    {
     "name": "stdout",
     "output_type": "stream",
     "text": [
      "Optimization terminated successfully.\n",
      "         Current function value: 0.472123\n",
      "         Iterations 8\n",
      "                           Logit Regression Results                           \n",
      "==============================================================================\n",
      "Dep. Variable:                OWNRENT   No. Observations:                   72\n",
      "Model:                          Logit   Df Residuals:                       66\n",
      "Method:                           MLE   Df Model:                            5\n",
      "Date:                Sat, 01 May 2021   Pseudo R-squ.:                  0.2864\n",
      "Time:                        20:15:21   Log-Likelihood:                -33.993\n",
      "converged:                       True   LL-Null:                       -47.633\n",
      "Covariance Type:            nonrobust   LLR p-value:                 5.032e-05\n",
      "========================================================================================\n",
      "                           coef    std err          z      P>|z|      [0.025      0.975]\n",
      "----------------------------------------------------------------------------------------\n",
      "Intercept               -3.8904      2.739     -1.420      0.155      -9.258       1.478\n",
      "NIVEL_GASTO[T.MEDIO]    -0.0477      0.742     -0.064      0.949      -1.501       1.406\n",
      "NIVEL_GASTO[T.ALTO]      1.1158      0.941      1.186      0.236      -0.729       2.961\n",
      "AGE                      0.1217      0.049      2.472      0.013       0.025       0.218\n",
      "INCOME                  -0.8992      1.466     -0.613      0.540      -3.773       1.975\n",
      "INCOMESQ                 0.1703      0.189      0.900      0.368      -0.200       0.541\n",
      "========================================================================================\n"
     ]
    }
   ],
   "source": [
    "modelo_logit = sm.Logit(y, X)\n",
    "resultado_logit = modelo_logit.fit()\n",
    "print(resultado_logit.summary())"
   ]
  },
  {
   "cell_type": "code",
   "execution_count": null,
   "metadata": {},
   "outputs": [],
   "source": []
  },
  {
   "cell_type": "markdown",
   "metadata": {},
   "source": [
    "3. Repita el ejercicio anterior pero use un modelo probit de statsmodels "
   ]
  },
  {
   "cell_type": "code",
   "execution_count": 18,
   "metadata": {},
   "outputs": [
    {
     "name": "stdout",
     "output_type": "stream",
     "text": [
      "Optimization terminated successfully.\n",
      "         Current function value: 0.469866\n",
      "         Iterations 8\n",
      "                          Probit Regression Results                           \n",
      "==============================================================================\n",
      "Dep. Variable:                OWNRENT   No. Observations:                   72\n",
      "Model:                         Probit   Df Residuals:                       66\n",
      "Method:                           MLE   Df Model:                            5\n",
      "Date:                Sat, 01 May 2021   Pseudo R-squ.:                  0.2898\n",
      "Time:                        20:15:22   Log-Likelihood:                -33.830\n",
      "converged:                       True   LL-Null:                       -47.633\n",
      "Covariance Type:            nonrobust   LLR p-value:                 4.349e-05\n",
      "========================================================================================\n",
      "                           coef    std err          z      P>|z|      [0.025      0.975]\n",
      "----------------------------------------------------------------------------------------\n",
      "Intercept               -2.4751      1.583     -1.563      0.118      -5.578       0.628\n",
      "NIVEL_GASTO[T.MEDIO]     0.0091      0.437      0.021      0.983      -0.848       0.867\n",
      "NIVEL_GASTO[T.ALTO]      0.7490      0.565      1.326      0.185      -0.358       1.856\n",
      "AGE                      0.0754      0.029      2.578      0.010       0.018       0.133\n",
      "INCOME                  -0.5079      0.830     -0.612      0.540      -2.134       1.118\n",
      "INCOMESQ                 0.0957      0.104      0.916      0.360      -0.109       0.301\n",
      "========================================================================================\n"
     ]
    }
   ],
   "source": [
    "modelo_probit = sm.Probit(y, X)\n",
    "resultado_probit = modelo_probit.fit()\n",
    "print(resultado_probit.summary())"
   ]
  },
  {
   "cell_type": "markdown",
   "metadata": {},
   "source": [
    "4. Calcule los efectos marginales de cada modelo"
   ]
  },
  {
   "cell_type": "code",
   "execution_count": 19,
   "metadata": {},
   "outputs": [
    {
     "name": "stdout",
     "output_type": "stream",
     "text": [
      "        Logit Marginal Effects       \n",
      "=====================================\n",
      "Dep. Variable:                OWNRENT\n",
      "Method:                          dydx\n",
      "At:                           overall\n",
      "========================================================================================\n",
      "                          dy/dx    std err          z      P>|z|      [0.025      0.975]\n",
      "----------------------------------------------------------------------------------------\n",
      "NIVEL_GASTO[T.MEDIO]    -0.0073      0.114     -0.064      0.949      -0.230       0.215\n",
      "NIVEL_GASTO[T.ALTO]      0.1709      0.139      1.229      0.219      -0.102       0.444\n",
      "AGE                      0.0186      0.006      2.911      0.004       0.006       0.031\n",
      "INCOME                  -0.1378      0.223     -0.617      0.537      -0.575       0.300\n",
      "INCOMESQ                 0.0261      0.029      0.915      0.360      -0.030       0.082\n",
      "========================================================================================\n"
     ]
    }
   ],
   "source": [
    "print(resultado_logit.get_margeff().summary())"
   ]
  },
  {
   "cell_type": "code",
   "execution_count": 20,
   "metadata": {},
   "outputs": [
    {
     "name": "stdout",
     "output_type": "stream",
     "text": [
      "       Probit Marginal Effects       \n",
      "=====================================\n",
      "Dep. Variable:                OWNRENT\n",
      "Method:                          dydx\n",
      "At:                           overall\n",
      "========================================================================================\n",
      "                          dy/dx    std err          z      P>|z|      [0.025      0.975]\n",
      "----------------------------------------------------------------------------------------\n",
      "NIVEL_GASTO[T.MEDIO]     0.0024      0.114      0.021      0.983      -0.221       0.226\n",
      "NIVEL_GASTO[T.ALTO]      0.1956      0.141      1.389      0.165      -0.080       0.472\n",
      "AGE                      0.0197      0.007      3.028      0.002       0.007       0.032\n",
      "INCOME                  -0.1326      0.215     -0.616      0.538      -0.555       0.290\n",
      "INCOMESQ                 0.0250      0.027      0.927      0.354      -0.028       0.078\n",
      "========================================================================================\n"
     ]
    }
   ],
   "source": [
    "print(resultado_probit.get_margeff().summary())"
   ]
  },
  {
   "cell_type": "markdown",
   "metadata": {},
   "source": [
    "5. Suponga que si la probabilidad es mayor a 0.5, el individuo es dueño. ¿Qué tan bien está prediciendo su modelo?"
   ]
  },
  {
   "cell_type": "code",
   "execution_count": 21,
   "metadata": {},
   "outputs": [
    {
     "data": {
      "text/plain": [
       "array([[39.,  6.],\n",
       "       [10., 17.]])"
      ]
     },
     "execution_count": 21,
     "metadata": {},
     "output_type": "execute_result"
    }
   ],
   "source": [
    "resultado_logit.pred_table()"
   ]
  },
  {
   "cell_type": "code",
   "execution_count": 22,
   "metadata": {},
   "outputs": [
    {
     "data": {
      "text/plain": [
       "array([[39.,  6.],\n",
       "       [10., 17.]])"
      ]
     },
     "execution_count": 22,
     "metadata": {},
     "output_type": "execute_result"
    }
   ],
   "source": [
    "resultado_probit.pred_table()"
   ]
  }
 ],
 "metadata": {
  "kernelspec": {
   "display_name": "Python 3",
   "language": "python",
   "name": "python3"
  },
  "language_info": {
   "codemirror_mode": {
    "name": "ipython",
    "version": 3
   },
   "file_extension": ".py",
   "mimetype": "text/x-python",
   "name": "python",
   "nbconvert_exporter": "python",
   "pygments_lexer": "ipython3",
   "version": "3.8.1"
  }
 },
 "nbformat": 4,
 "nbformat_minor": 4
}
