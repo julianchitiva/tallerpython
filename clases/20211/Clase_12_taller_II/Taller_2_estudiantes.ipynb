{
 "cells": [
  {
   "cell_type": "markdown",
   "metadata": {},
   "source": [
    "# **Taller de Python: Taller 2**\n",
    "## Profesor: Juan S. Moreno y Julian E. Chitiva B."
   ]
  },
  {
   "cell_type": "markdown",
   "metadata": {},
   "source": [
    "Actualmente nos encontramos en medio de una pandemia causada por COVID-19. Dada la coyuntura trabajaremos con las bases de las series de tiempo de la Universidad John Hopkins.\n",
    "\n",
    "En el <a href='https://github.com/CSSEGISandData/COVID-19/tree/master/csse_covid_19_data/csse_covid_19_time_series'>link</a> encontrará con cinco bases de datos:\n",
    "- confirmed_global.csv: tiene el número de casos día a día para todos los países del mundo.\n",
    "- confirmed_US.csv: tiene el número de casos día a día para todos los counties (el análogo de municipios en EEUU).\n",
    "- deaths_global.csv: tiene el número de muertos día a día para todos los países del mundo.\n",
    "- deaths_US.csv: tiene el número de muertos día a día para todos los counties (el análogo de municipios en EEUU).\n",
    "- recovered_global: tiene el número de recuperados día a día en el mundo\n",
    "\n",
    "Las preguntas a continuación no tienen que ser respondidas en ningún orden particular, sos sea claro sobre cual está respondiendo (comente su código o use las celdas markdown como esta).\n",
    "\n",
    "El objetivo de este ejercicio es que practiquen la manipulación de bases de datos para responder a preguntas concretas. Es posible que usen funciones que aún no hayamos visto, apoyense en Google, stackoverflow, blogs, Medium, etc... para hacer sus códigos. Si quieren trabajen en parejas o hasta tríos, dejando claro en este notebook con quien trabajaron. Diviértanse aprendiendo a programar y solucionar un proyecto más cercano a la realidad. "
   ]
  },
  {
   "cell_type": "markdown",
   "metadata": {},
   "source": [
    "# Parte A:\n",
    "1. ¿Cuál es el país con más muertos hasta el momento?\n",
    "2. ¿Cuál es el país con la tasa de mortalidad más alta?\n",
    "3. ¿Cuál es el país que ha tenido una tasa de contagio más alta? Esta pregunta tiene muchas formas de resolverse, justifique el método que usó y muestre los resultados.\n",
    "4. ¿Cuál es el país que se ha recuperado más rápido? Esta pregunta tiene muchas formas de resolverse, justifique el método que usó y muestre los resultados."
   ]
  },
  {
   "cell_type": "markdown",
   "metadata": {},
   "source": [
    "# Parte B\n",
    "1. Note que las bases que corresponden a los datos globales tienen algunos países desagregados por varias regiones. Lo primero que debe hacer el agrupar para que quede toda la base a nivel de observación de países en tu totalidad.\n",
    "2. Note que hay una base aparte de EEUU. Construya la observación de EEUU de casos confirmados y verifique si es igual a la base a la base de confirmados globales. En caso contrario reemplaze la observación en la base de confirmados globales. \n",
    "3. Haga lo mismo que los puntos anteriores pero para los datos de muertos. \n",
    "4. Grafique las series de tiempo en un solo gráfico para los países de Sudamérica de casos confirmados. Haga el mismo gráfico para muertos. Haga el mismo gráfico para recuperados\n",
    "5. Calcule las tasas de crecimiento de contagiados y muertos por país diarias. Calcule la tasa de crecimiento diario de contagiados y la de muertos __promedio__ del mundo y grafique esta serie.\n",
    "6. Construya su propio _insight_ de esta base de datos que muestre algo interesante sobre la progresión de esta pandemia, encuentre algo que usted no conozco o haya escuchado en los medios. Apóyese en su conocimientos técnicos como economista (observe elasticidades, cocientes, estudie rezagos, normalizaciones, etc)."
   ]
  }
 ],
 "metadata": {
  "kernelspec": {
   "display_name": "Python 3",
   "language": "python",
   "name": "python3"
  },
  "language_info": {
   "codemirror_mode": {
    "name": "ipython",
    "version": 3
   },
   "file_extension": ".py",
   "mimetype": "text/x-python",
   "name": "python",
   "nbconvert_exporter": "python",
   "pygments_lexer": "ipython3",
   "version": "3.8.1"
  }
 },
 "nbformat": 4,
 "nbformat_minor": 4
}
