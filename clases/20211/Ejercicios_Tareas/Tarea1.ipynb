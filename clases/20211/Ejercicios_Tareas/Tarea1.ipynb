{
 "cells": [
  {
   "cell_type": "markdown",
   "metadata": {},
   "source": [
    "# Taller de Python\n",
    "## Profesores: Juan Moreno y Julián Chitiva\n",
    "### Tarea 1\n",
    "\n",
    "##### Recuerde que es de grupos la tarea, máximo 3 personas. Se abrirá un link en sicua para que la suban. Tienen hasta el lunes "
   ]
  },
  {
   "cell_type": "markdown",
   "metadata": {},
   "source": [
    "# Punto 1:\n",
    "Escriba una función llamada `maximo` que reciba como insumo una lista y extraiga el máximo de la misma. Es decir, una función que haga el equivalente a `max`, por supuesto no puede usar esta función dentro de la suya"
   ]
  },
  {
   "cell_type": "code",
   "execution_count": null,
   "metadata": {},
   "outputs": [],
   "source": []
  },
  {
   "cell_type": "markdown",
   "metadata": {},
   "source": [
    "# Punto 2:\n",
    "Punto 2:\n",
    "Escriba una función llamada `palabra_mas_larga` que reciba una cadena de caracteres que retorne una tupla con la palabra más larga y su longitud.\n",
    "\n",
    "E.g. 'Eso es queso' -> ('queso', 5)    La palabra más larga es queso y tiene 5 caracteres."
   ]
  },
  {
   "cell_type": "markdown",
   "metadata": {},
   "source": [
    "# Punto 3:\n",
    "Considere la siguiente función:\n",
    "```python\n",
    "def ejemplo_raro(list1, list2):  \n",
    "    result = False  \n",
    "    for x in list1:  \n",
    "        for y in list2:  \n",
    "            if x == y:  \n",
    "                result = True  \n",
    "                return result \n",
    "    return False\n",
    "```\n",
    "Describa en sus propias palabras qué hace la función `ejemplo_raro`."
   ]
  },
  {
   "cell_type": "code",
   "execution_count": null,
   "metadata": {},
   "outputs": [],
   "source": []
  }
 ],
 "metadata": {
  "kernelspec": {
   "display_name": "Python 3",
   "language": "python",
   "name": "python3"
  },
  "language_info": {
   "codemirror_mode": {
    "name": "ipython",
    "version": 3
   },
   "file_extension": ".py",
   "mimetype": "text/x-python",
   "name": "python",
   "nbconvert_exporter": "python",
   "pygments_lexer": "ipython3",
   "version": "3.7.4"
  }
 },
 "nbformat": 4,
 "nbformat_minor": 4
}