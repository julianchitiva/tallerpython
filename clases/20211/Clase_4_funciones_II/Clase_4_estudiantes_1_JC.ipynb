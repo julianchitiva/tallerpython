{
 "cells": [
  {
   "cell_type": "markdown",
   "metadata": {},
   "source": [
    "# **Taller de Python**\n",
    "## Profesor: Julián E. Chitiva B."
   ]
  },
  {
   "cell_type": "markdown",
   "metadata": {},
   "source": [
    "# Clase 4: Ciclos y Funciones\n",
    "En esta clase se cubren los siguientes temas:\n",
    "\n",
    "- Loops de una sola linea\n",
    "- Funciones recursivas\n",
    "- Documentacion de funciones\n",
    "- Controles sobre los ciclos\n",
    "- Ejercicios"
   ]
  },
  {
   "cell_type": "markdown",
   "metadata": {},
   "source": [
    "## Loops de una sola linea\n",
    "\n",
    "Los *loops* de una sola línea típicamente se usan para definir listas de una manera comprensiva a partir de un iterable (características en común, operaciones sobre el iterable, etc). La sintaxis es:\n",
    "\n",
    "```python\n",
    "lista_compresiva = [elemento for elemento in iterable]\n",
    "```\n",
    "\n",
    "Recordemos que los iterables que hemos visto hasta ahora son los `strings`, las `tuplas` y las `listas`. Adicionalmente, podemos poner un condicional dentro de la definición. La sintasis es:\n",
    "\n",
    "```python\n",
    "lista_compresiva = [elemento for elemento in iterable if condicion]\n",
    "```"
   ]
  },
  {
   "cell_type": "markdown",
   "metadata": {},
   "source": [
    "Cree una lista con los elementos de la palabra `Tiburon`"
   ]
  },
  {
   "cell_type": "markdown",
   "metadata": {},
   "source": [
    "for elemento in lista:\n",
    "    #instruccion "
   ]
  },
  {
   "cell_type": "code",
   "execution_count": 1,
   "metadata": {},
   "outputs": [
    {
     "data": {
      "text/plain": [
       "['T', 'i', 'b', 'u', 'r', 'o', 'n']"
      ]
     },
     "execution_count": 1,
     "metadata": {},
     "output_type": "execute_result"
    }
   ],
   "source": [
    "[letra for letra in 'Tiburon']"
   ]
  },
  {
   "cell_type": "code",
   "execution_count": 2,
   "metadata": {},
   "outputs": [
    {
     "data": {
      "text/plain": [
       "['T', 'i', 'b', 'u', 'r', 'o', 'n']"
      ]
     },
     "execution_count": 2,
     "metadata": {},
     "output_type": "execute_result"
    }
   ],
   "source": [
    "list('Tiburon')"
   ]
  },
  {
   "cell_type": "code",
   "execution_count": 3,
   "metadata": {},
   "outputs": [
    {
     "data": {
      "text/plain": [
       "[0, 1, 2, 3, 4, 5, 6, 7, 8, 9]"
      ]
     },
     "execution_count": 3,
     "metadata": {},
     "output_type": "execute_result"
    }
   ],
   "source": [
    "list(range(10))"
   ]
  },
  {
   "cell_type": "markdown",
   "metadata": {},
   "source": [
    "Cree una lista con los cuadrados de los números menores a 15"
   ]
  },
  {
   "cell_type": "code",
   "execution_count": 4,
   "metadata": {},
   "outputs": [
    {
     "data": {
      "text/plain": [
       "[0, 1, 4, 9, 16, 25, 36, 49, 64, 81, 100, 121, 144, 169, 196]"
      ]
     },
     "execution_count": 4,
     "metadata": {},
     "output_type": "execute_result"
    }
   ],
   "source": [
    "[x**2 for x in range(15)]"
   ]
  },
  {
   "cell_type": "markdown",
   "metadata": {},
   "source": [
    "Cree una lista con los cuadrados de los números múltiplos de 3 menores a 30  "
   ]
  },
  {
   "cell_type": "code",
   "execution_count": 9,
   "metadata": {},
   "outputs": [
    {
     "data": {
      "text/plain": [
       "[(0, 0),\n",
       " (3, 9),\n",
       " (6, 36),\n",
       " (9, 81),\n",
       " (12, 144),\n",
       " (15, 225),\n",
       " (18, 324),\n",
       " (21, 441),\n",
       " (24, 576),\n",
       " (27, 729)]"
      ]
     },
     "execution_count": 9,
     "metadata": {},
     "output_type": "execute_result"
    }
   ],
   "source": [
    "[x**2 for x in range(30) if x%3==0]"
   ]
  },
  {
   "cell_type": "code",
   "execution_count": 8,
   "metadata": {},
   "outputs": [
    {
     "data": {
      "text/plain": [
       "{0: 0,\n",
       " 3: 9,\n",
       " 6: 36,\n",
       " 9: 81,\n",
       " 12: 144,\n",
       " 15: 225,\n",
       " 18: 324,\n",
       " 21: 441,\n",
       " 24: 576,\n",
       " 27: 729,\n",
       " 30: 900,\n",
       " 33: 1089,\n",
       " 36: 1296,\n",
       " 39: 1521,\n",
       " 42: 1764,\n",
       " 45: 2025,\n",
       " 48: 2304,\n",
       " 51: 2601,\n",
       " 54: 2916,\n",
       " 57: 3249,\n",
       " 60: 3600,\n",
       " 63: 3969,\n",
       " 66: 4356,\n",
       " 69: 4761,\n",
       " 72: 5184,\n",
       " 75: 5625,\n",
       " 78: 6084,\n",
       " 81: 6561,\n",
       " 84: 7056,\n",
       " 87: 7569,\n",
       " 90: 8100,\n",
       " 93: 8649,\n",
       " 96: 9216,\n",
       " 99: 9801}"
      ]
     },
     "execution_count": 8,
     "metadata": {},
     "output_type": "execute_result"
    }
   ],
   "source": [
    "{x: x**2 for x in range(100) if x%3==0}"
   ]
  },
  {
   "cell_type": "markdown",
   "metadata": {},
   "source": [
    "## Funciones Recursivas\n",
    "\n",
    "La mayoría de veces que implementamos una función está incluye un ciclo `for`o `while`. Estas herramientas son increibles porque su implementación es intuitva y directa. Sin embargo, las soluciones de este tipo a veces pueden tener un código díficil de entender. \n",
    "\n",
    "Hay una solución a este tipo de problemas ... *recursión* \n",
    "\n",
    "Los ciclos son usados para repetir una acción (bloque de código) tantas veces como se requiera y siempre tienen una condición para dejar de ejecutar el código (Se término el objeto sobre el cual estaba iterando `for` o deje de cumplir la condición `while`). En los problemas recursivos no existen esas condiciones que determinan cuándo terminé.\n",
    "\n",
    "Una función recursiva consite de 2 partes:\n",
    "- El caso base: Es una condición que verifica si tenemos la información que necesitamos para ejecutar nuestra función. **Siempre** debe haber un caso base, pero pueden haber varios. \n",
    "- El llamado recursivo: Es un llamado a la función dentro de la función. Sí, son funciones que se llaman a si mismas. \n",
    "\n",
    "Un ejemplo estándard de funciones recursivas es el factorial (!) para los números naturales. \n",
    "\n",
    "$$\\text{factorial}(n)=n! =\\begin{cases} 1 & \\text{si } n=0 \\land n\\in \\mathbb{N} \\\\ n\\times factorial(n-1) & \\text{si } n>0 \\land n\\in \\mathbb{N}\\end{cases}$$"
   ]
  },
  {
   "cell_type": "code",
   "execution_count": 15,
   "metadata": {},
   "outputs": [],
   "source": [
    "def factorial_recursivo(n):\n",
    "    if n == 0:\n",
    "        return(1)\n",
    "    else:\n",
    "        return(n*factorial_recursivo(n-1))"
   ]
  },
  {
   "cell_type": "code",
   "execution_count": 16,
   "metadata": {},
   "outputs": [
    {
     "data": {
      "text/plain": [
       "720"
      ]
     },
     "execution_count": 16,
     "metadata": {},
     "output_type": "execute_result"
    }
   ],
   "source": [
    "factorial_recursivo(6)"
   ]
  },
  {
   "cell_type": "markdown",
   "metadata": {},
   "source": [
    "Sin embargo, todas las funciones recursivas se pueden escribir de forma iterativa, es decir, con un ciclo `for` o `while`. Por ejemplo, escribamos la función factorial de manera iterativa."
   ]
  },
  {
   "cell_type": "code",
   "execution_count": 17,
   "metadata": {},
   "outputs": [],
   "source": [
    "def factorial_iterativo(n):\n",
    "    resultado = 1\n",
    "    for numero in range(1, n+1):\n",
    "        resultado *= numero\n",
    "    return(resultado)"
   ]
  },
  {
   "cell_type": "code",
   "execution_count": 18,
   "metadata": {},
   "outputs": [
    {
     "data": {
      "text/plain": [
       "720"
      ]
     },
     "execution_count": 18,
     "metadata": {},
     "output_type": "execute_result"
    }
   ],
   "source": [
    "factorial_iterativo(6)"
   ]
  },
  {
   "cell_type": "markdown",
   "metadata": {},
   "source": [
    "## Controles sobre los *loops*\n",
    "\n",
    "A veces nos podemos enfrentar a situaciones en las que necesitamos salir completamente de un ciclo si se cumple alguna condición o puede haber pasos del *loop* que nos queremos saltar. Los comandos que permiten este tipo de control sobre los ciclos son:\n",
    "\n",
    "```python\n",
    "break, continue, pass\n",
    "```\n",
    "\n",
    "Escriba un ciclo que recorra una palabra, imprimiendo cada letra, y se salga del ciclo apenas encuentre la letra `h`"
   ]
  },
  {
   "cell_type": "code",
   "execution_count": 21,
   "metadata": {},
   "outputs": [
    {
     "name": "stdout",
     "output_type": "stream",
     "text": [
      "C\n",
      "a\n",
      "r\n",
      "r\n",
      "o\n"
     ]
    }
   ],
   "source": [
    "palabra = 'Carro'\n",
    "for letra in palabra:\n",
    "    if letra == 'h':\n",
    "        break\n",
    "    print(letra)"
   ]
  },
  {
   "cell_type": "code",
   "execution_count": 25,
   "metadata": {},
   "outputs": [
    {
     "name": "stdout",
     "output_type": "stream",
     "text": [
      "salio en 7.01770375144406e-09\n"
     ]
    }
   ],
   "source": [
    "i = 987654 \n",
    "while True:\n",
    "    i /= 2\n",
    "    if i < 0.00000001:\n",
    "        break \n",
    "print('salio en', i)"
   ]
  },
  {
   "cell_type": "markdown",
   "metadata": {},
   "source": [
    "Ahora, no detenga el ciclo sino saltese esa letra"
   ]
  },
  {
   "cell_type": "code",
   "execution_count": 26,
   "metadata": {},
   "outputs": [
    {
     "name": "stdout",
     "output_type": "stream",
     "text": [
      "C\n",
      "a\n",
      "o\n"
     ]
    }
   ],
   "source": [
    "palabra = 'Chao'\n",
    "for i in palabra:\n",
    "    if i == 'h':\n",
    "        continue\n",
    "    print(i)"
   ]
  },
  {
   "cell_type": "markdown",
   "metadata": {},
   "source": [
    "A diferencia de `break`y `continue`, `pass` es una orden que no hace nada y sirve para llenar espacios de código que se requiere por sintaxis. "
   ]
  },
  {
   "cell_type": "code",
   "execution_count": 33,
   "metadata": {},
   "outputs": [
    {
     "name": "stdout",
     "output_type": "stream",
     "text": [
      "c\n",
      "h\n",
      "a\n",
      "o\n"
     ]
    }
   ],
   "source": [
    "for letra in palabra:\n",
    "    if letra.upper() == letra:\n",
    "        pass\n",
    "    print(letra.lower())"
   ]
  },
  {
   "cell_type": "code",
   "execution_count": null,
   "metadata": {},
   "outputs": [],
   "source": []
  },
  {
   "cell_type": "markdown",
   "metadata": {},
   "source": [
    "## Documentacion de Funciones\n",
    "\n",
    "Es importante tener en cuenta esto, Las funciones necesitan una documentación!\n",
    "Nos ayuda a saber hace una función, es lo que sale en el `help`.\n",
    "\n",
    "```python\n",
    "def funcion(argumentos):\n",
    "    \"\"\"\n",
    "    Linea de resumen.\n",
    "\n",
    "    Descripción un poco más extendida de la función.\n",
    "\n",
    "    Parametros\n",
    "    ----------\n",
    "    arg1 : clase\n",
    "        Descripcion del argumento 1\n",
    "    arg2 : clase\n",
    "        Descripcion del argumento 2\n",
    "\n",
    "    Resultados\n",
    "    -------\n",
    "    clase\n",
    "        Descripcion del valor de retorno\n",
    "\n",
    "    \"\"\"\n",
    "    Desarrollo de la función\n",
    "```\n"
   ]
  },
  {
   "cell_type": "code",
   "execution_count": 36,
   "metadata": {},
   "outputs": [],
   "source": [
    "def suma(a, b):\n",
    "    \"\"\"\n",
    "    Funcion que suma dos numeros\n",
    "    \n",
    "    Parametros \n",
    "    -------------\n",
    "    a: numero\n",
    "        Primer numero de la suma\n",
    "    b: numero\n",
    "        Segundo numero de la suma\n",
    "    \n",
    "    Resultado\n",
    "    ------------\n",
    "    Numero que es la suma de a y b\n",
    "    \"\"\"\n",
    "    resultado = a+b\n",
    "    return(resultado)"
   ]
  },
  {
   "cell_type": "code",
   "execution_count": 37,
   "metadata": {},
   "outputs": [
    {
     "name": "stdout",
     "output_type": "stream",
     "text": [
      "Help on function suma in module __main__:\n",
      "\n",
      "suma(a, b)\n",
      "    Funcion que suma dos numeros\n",
      "    \n",
      "    Parametros \n",
      "    -------------\n",
      "    a: numero\n",
      "        Primer numero de la suma\n",
      "    b: numero\n",
      "        Segundo numero de la suma\n",
      "    \n",
      "    Resultado\n",
      "    ------------\n",
      "    Numero que es la suma de a y b\n",
      "\n"
     ]
    }
   ],
   "source": [
    "help(suma)"
   ]
  },
  {
   "cell_type": "markdown",
   "metadata": {},
   "source": [
    "# Problemas"
   ]
  },
  {
   "cell_type": "markdown",
   "metadata": {},
   "source": [
    "## Problema 1: Divisores\n",
    "Construya una función que reciba un número y retorne los divisores del mismo (en orden). En caso de ser un número primo, también debe imprimir una cadena de caracteres que diga que es un número primo. Llame a la función divisores."
   ]
  },
  {
   "cell_type": "code",
   "execution_count": 43,
   "metadata": {},
   "outputs": [],
   "source": [
    "def divisores(n):\n",
    "    lista_divisores = list()\n",
    "    for d in range(1,n+1):\n",
    "        if n%d==0:\n",
    "            lista_divisores.append(d)\n",
    "    return(lista_divisores)"
   ]
  },
  {
   "cell_type": "code",
   "execution_count": 45,
   "metadata": {},
   "outputs": [
    {
     "data": {
      "text/plain": [
       "[1, 11]"
      ]
     },
     "execution_count": 45,
     "metadata": {},
     "output_type": "execute_result"
    }
   ],
   "source": [
    "divisores(11)"
   ]
  },
  {
   "cell_type": "code",
   "execution_count": null,
   "metadata": {},
   "outputs": [],
   "source": []
  },
  {
   "cell_type": "code",
   "execution_count": 42,
   "metadata": {},
   "outputs": [
    {
     "data": {
      "text/plain": [
       "[0, 1, 2, 3, 4, 5, 6, 7, 8, 9]"
      ]
     },
     "execution_count": 42,
     "metadata": {},
     "output_type": "execute_result"
    }
   ],
   "source": [
    "list(range(10))"
   ]
  },
  {
   "cell_type": "markdown",
   "metadata": {},
   "source": [
    "## Problema 2: Par o Impar\n",
    "Construya una función que reciba un número y retorne la palabra \"par\" o \"impar\" dependiendo del insumo. Llame a la función _parImpar_. Pruébela sobre los números 2,3,7,12. Pista: busque que hace __%__. "
   ]
  },
  {
   "cell_type": "code",
   "execution_count": 31,
   "metadata": {},
   "outputs": [],
   "source": []
  },
  {
   "cell_type": "markdown",
   "metadata": {},
   "source": [
    "## Problema 3: Menor a 10 I\n",
    "Defina una función que reciba una lista numérica e imprima cuántos elementos son menores que 10."
   ]
  },
  {
   "cell_type": "code",
   "execution_count": 1,
   "metadata": {},
   "outputs": [],
   "source": []
  },
  {
   "cell_type": "markdown",
   "metadata": {},
   "source": [
    "## Problema 4: Menor a 10 II\n",
    "Modifique la anterior función para que retorne una nueva lista únicamente con tales elementos menores que 10."
   ]
  },
  {
   "cell_type": "code",
   "execution_count": 3,
   "metadata": {},
   "outputs": [],
   "source": []
  },
  {
   "cell_type": "markdown",
   "metadata": {},
   "source": [
    "## Problema 5: Invertir orden\n",
    "Defina una función que reciba un string e imprima el mismo string con las palabras en el orden inverso.\n",
    "- Por ejemplo, si la función recibe 'Juan es el profesor' la función debe imprimir 'profesor el es Juan'.\n",
    "- Pista: recuerde que puede dividir un string usando _split()_.\n",
    "- Pista: Busque el método .join"
   ]
  },
  {
   "cell_type": "code",
   "execution_count": 9,
   "metadata": {},
   "outputs": [],
   "source": []
  },
  {
   "cell_type": "markdown",
   "metadata": {},
   "source": [
    "## Problema 6: Palíndromo\n",
    "Cree una función que reciba una cadena de caracteres (string) e imprima si es un palíndromo (se lee igual de izquierda a derecha que de derecha a izquierda)."
   ]
  },
  {
   "cell_type": "code",
   "execution_count": 7,
   "metadata": {},
   "outputs": [],
   "source": []
  },
  {
   "cell_type": "markdown",
   "metadata": {},
   "source": [
    "## Problema 7: Piedra, Papel o Tijera\n",
    "Construya la función _piedra-papel-tijera_ que reciba la elección del jugador (entre piedra, papel o tijera) y se enfrente al computador (Pista: busque `np.random.choice`). Finalmente debe retornan un mensaje como:\n",
    "\n",
    "-`Jugador ganó: tijera vs papel`\n",
    "-`Computadora ganó: papel vs piedra`\n",
    "-`Empataron: tijera`\n",
    "\n",
    "En caso que la jugada sea distinto de \"tijera\", \"papel\" o \"piedra\" debe retornar un mensaje adviertiendo al respecto.\n",
    "\n"
   ]
  },
  {
   "cell_type": "code",
   "execution_count": 27,
   "metadata": {},
   "outputs": [],
   "source": []
  },
  {
   "cell_type": "markdown",
   "metadata": {},
   "source": [
    "## Problema 8: Fibonacci\n",
    "Construya una función que reciba el tamaño de la serie de Fibonacci que desea el usuario y que este retorne la serie en una lista (Vea sobre la [serie de Fibonacci](https://es.wikipedia.org/wiki/Sucesi%C3%B3n_de_Fibonacci)). En caso que el tamaño sea inferior a 2 debe retornar un mensaje diciendo que no posible computar la serie para ese tamaño."
   ]
  },
  {
   "cell_type": "code",
   "execution_count": 1,
   "metadata": {},
   "outputs": [],
   "source": []
  }
 ],
 "metadata": {
  "kernelspec": {
   "display_name": "Python 3",
   "language": "python",
   "name": "python3"
  },
  "language_info": {
   "codemirror_mode": {
    "name": "ipython",
    "version": 3
   },
   "file_extension": ".py",
   "mimetype": "text/x-python",
   "name": "python",
   "nbconvert_exporter": "python",
   "pygments_lexer": "ipython3",
   "version": "3.8.1"
  }
 },
 "nbformat": 4,
 "nbformat_minor": 4
}
