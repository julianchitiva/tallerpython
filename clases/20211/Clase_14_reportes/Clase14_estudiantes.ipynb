{
 "cells": [
  {
   "cell_type": "markdown",
   "metadata": {},
   "source": [
    "# **Taller de Python**\n",
    "## Profesor: Juan S. Moreno y Julian E. Chitiva B.\n",
    "## Clase 14: Automatización de Reportes con Excel"
   ]
  },
  {
   "cell_type": "markdown",
   "metadata": {},
   "source": [
    "Esta clase haremos uso extensivo de <a href=\"https://xlsxwriter.readthedocs.io/working_with_pandas.html\">XlsxWriter</a>.\n",
    "\n",
    "Esta es una herramienta que permite crear archivos de excel a partir de objetos de python. Adicionalmente permite añadir formato (y muchas cosas más) a las celdas."
   ]
  },
  {
   "cell_type": "code",
   "execution_count": null,
   "metadata": {},
   "outputs": [],
   "source": [
    "import pandas as pd\n",
    "import numpy as np\n",
    "import statsmodels.api as sm \n",
    "import os"
   ]
  },
  {
   "cell_type": "markdown",
   "metadata": {},
   "source": [
    "1. Cargue la heart del `sm.datasets`. Explore la descripción y la nota."
   ]
  },
  {
   "cell_type": "code",
   "execution_count": null,
   "metadata": {},
   "outputs": [],
   "source": [
    "print(sm.datasets.heart.NOTE)\n",
    "print(sm.datasets.heart.DESCRLONG)\n",
    "datos = sm.datasets.heart.load_pandas().data\n",
    "datos.head()"
   ]
  },
  {
   "cell_type": "markdown",
   "metadata": {},
   "source": [
    "2. Calcule la matriz de correlación de la base de datos. \n",
    "- Importe la funcion pearsonr de `scipy.stats`, explore su funcionmiento.\n",
    "- Calcule la correlacion usando esa funcion (Primera compontente).\n",
    "- Calcule la significancia p-value usando esa funcion (Segunda compontente)."
   ]
  },
  {
   "cell_type": "code",
   "execution_count": null,
   "metadata": {},
   "outputs": [],
   "source": [
    "from scipy.stats import pearsonr"
   ]
  },
  {
   "cell_type": "code",
   "execution_count": null,
   "metadata": {},
   "outputs": [],
   "source": []
  },
  {
   "cell_type": "code",
   "execution_count": null,
   "metadata": {},
   "outputs": [],
   "source": []
  },
  {
   "cell_type": "markdown",
   "metadata": {},
   "source": [
    "3. Use el paquete seaborn para crear un mapa de calor de estas correlaciones donde el texto sea el valor de la correlacion donde solo se muestren aquellos valores significativos."
   ]
  },
  {
   "cell_type": "code",
   "execution_count": null,
   "metadata": {},
   "outputs": [],
   "source": [
    "%matplotlib inline\n",
    "import matplotlib.pyplot as plt\n",
    "import seaborn as sns"
   ]
  },
  {
   "cell_type": "code",
   "execution_count": null,
   "metadata": {},
   "outputs": [],
   "source": []
  },
  {
   "cell_type": "code",
   "execution_count": null,
   "metadata": {},
   "outputs": [],
   "source": []
  },
  {
   "cell_type": "markdown",
   "metadata": {},
   "source": [
    "4. Cree un ExcelWriter. Esta es una funcion de Pandas que sirve para escribir archivos de excel con más flexibilidad que el `.to_excel`.\n",
    "    - Use `xlsxwriter` como engine.\n",
    "    - Explore que tiene el `writer` por dentro.\n"
   ]
  },
  {
   "cell_type": "code",
   "execution_count": null,
   "metadata": {},
   "outputs": [],
   "source": [
    "## Crear un ExcelWriter\n",
    "writer = pd.ExcelWriter('correlaciones.xlsx',\n",
    "                        engine='xlsxwriter')"
   ]
  },
  {
   "cell_type": "markdown",
   "metadata": {},
   "source": [
    "5. Pruebe guardar el archivo usando `writer.save()`, este debe ser un archivo vacío."
   ]
  },
  {
   "cell_type": "markdown",
   "metadata": {},
   "source": [
    "writer.save()"
   ]
  },
  {
   "cell_type": "markdown",
   "metadata": {},
   "source": [
    "6. Excel funciona con libros (*Workbook* o *book*). Extraigalo del writer y explore que tiene por dentro."
   ]
  },
  {
   "cell_type": "code",
   "execution_count": null,
   "metadata": {},
   "outputs": [],
   "source": []
  },
  {
   "cell_type": "markdown",
   "metadata": {},
   "source": [
    "7. Agregue los resultados de los coeficientes de correlacion.\n",
    "    - Hoja Resultados.\n",
    "    - Ponga los encabezados e indices.\n",
    "    - La Tabla debe iniciar en la fila 3 y columna 1."
   ]
  },
  {
   "cell_type": "code",
   "execution_count": null,
   "metadata": {},
   "outputs": [],
   "source": []
  },
  {
   "cell_type": "markdown",
   "metadata": {},
   "source": [
    "8. A este workbook se le pueden añadir formatos. Estos formatos los usaremos para darle formato a las celdas. \n",
    "\n",
    "Cree un formato llamado Encabezado\n",
    "+ Negrilla\n",
    "+ Text_wrap\n",
    "+ Tamaño 18\n",
    "+ letra color ```#ffffff```\n",
    "+ alineacion centrado \n",
    "+ fondo color ```#153261```\n",
    "+ todos los bordes"
   ]
  },
  {
   "cell_type": "code",
   "execution_count": null,
   "metadata": {},
   "outputs": [],
   "source": []
  },
  {
   "cell_type": "markdown",
   "metadata": {},
   "source": [
    "8. Extraiga la hoja de **Resultados** en el writer usando la funcion `sheets['nombrehoja']`\n"
   ]
  },
  {
   "cell_type": "code",
   "execution_count": null,
   "metadata": {},
   "outputs": [],
   "source": []
  },
  {
   "cell_type": "markdown",
   "metadata": {},
   "source": [
    "9. Haga un \"combinar y centrar\":\n",
    "    - Combine las celdas A1:M1.\n",
    "    - Escriba \"Resultados Correlación\".\n",
    "    - Use el formato encabezado."
   ]
  },
  {
   "cell_type": "code",
   "execution_count": null,
   "metadata": {},
   "outputs": [],
   "source": []
  },
  {
   "cell_type": "markdown",
   "metadata": {},
   "source": [
    "10. Incluya la imagen del mapa de calor que guardo antes. \n",
    "    - La imagen debe ir en la fila 3 columna 6"
   ]
  },
  {
   "cell_type": "code",
   "execution_count": null,
   "metadata": {},
   "outputs": [],
   "source": []
  },
  {
   "cell_type": "markdown",
   "metadata": {},
   "source": [
    "11. Cree un dataframe con:\n",
    "    - primera columna: 100 numeros de -10 a 10 (use `np.linspace`).\n",
    "    - segunda columna: 100 numeros aleatorios N(0,9)."
   ]
  },
  {
   "cell_type": "code",
   "execution_count": null,
   "metadata": {},
   "outputs": [],
   "source": []
  },
  {
   "cell_type": "markdown",
   "metadata": {},
   "source": [
    "12. Agrege estos datos desde la fila 2 sin encabezado ni indice"
   ]
  },
  {
   "cell_type": "code",
   "execution_count": null,
   "metadata": {},
   "outputs": [],
   "source": []
  },
  {
   "cell_type": "markdown",
   "metadata": {},
   "source": [
    "13. Extraiga la hoja \"Formulas\" "
   ]
  },
  {
   "cell_type": "code",
   "execution_count": null,
   "metadata": {},
   "outputs": [],
   "source": []
  },
  {
   "cell_type": "markdown",
   "metadata": {},
   "source": [
    "14. Escriba en las celdas lo siguiente con formato encabezado:\n",
    "    - A1: ```'Entero' u\"\\U0001F610\"```. \n",
    "    - B1: ```'Normal' u\"\\U0001F600\"```.\n",
    "    - C1: ```'Formula' u\"\\U0001F62E\"```."
   ]
  },
  {
   "cell_type": "code",
   "execution_count": null,
   "metadata": {},
   "outputs": [],
   "source": []
  },
  {
   "cell_type": "markdown",
   "metadata": {},
   "source": [
    "15. Ajuste el ancho de estas columnas a 18."
   ]
  },
  {
   "cell_type": "code",
   "execution_count": null,
   "metadata": {},
   "outputs": [],
   "source": []
  },
  {
   "cell_type": "markdown",
   "metadata": {},
   "source": [
    "16. En la columna C de esta hoja defina una formula que sea 10*A+B. \n",
    "\n",
    "Pista: Ojo con la el número de la fila en la formula. \n"
   ]
  },
  {
   "cell_type": "code",
   "execution_count": null,
   "metadata": {},
   "outputs": [],
   "source": []
  },
  {
   "cell_type": "markdown",
   "metadata": {},
   "source": [
    "17. Cree un gráfico de dispersion en el libro con la funcion `add_chart({'type':'scatter'})`"
   ]
  },
  {
   "cell_type": "code",
   "execution_count": null,
   "metadata": {},
   "outputs": [],
   "source": []
  },
  {
   "cell_type": "markdown",
   "metadata": {},
   "source": [
    "18. Agregue la serie de datos con un diccionario de los siguientes parametros\n",
    "    - name: puntos\n",
    "    - values: Formula de los valores de la columna C (Eje Y)\n",
    "    - categories: Formula de los valores de la columna A (Eje X) \n",
    "    - trendline: \n",
    "        + type: linear\n",
    "        + display_r_squared: True"
   ]
  },
  {
   "cell_type": "code",
   "execution_count": null,
   "metadata": {},
   "outputs": [],
   "source": []
  },
  {
   "cell_type": "markdown",
   "metadata": {},
   "source": [
    "19. Fije el titulo del gráfico con `set_title`\n",
    "    - name: 'Grafio de Dispersión'"
   ]
  },
  {
   "cell_type": "code",
   "execution_count": null,
   "metadata": {},
   "outputs": [],
   "source": []
  },
  {
   "cell_type": "markdown",
   "metadata": {},
   "source": [
    "20. Explore el funcionamiento del `set_x_axis`, `set_y_axis` y `set_legend`.\n",
    "Las opciones que puede explorar son:\n",
    "- name\n",
    "- major_gridlines\n",
    "- position"
   ]
  },
  {
   "cell_type": "code",
   "execution_count": null,
   "metadata": {},
   "outputs": [],
   "source": []
  },
  {
   "cell_type": "markdown",
   "metadata": {},
   "source": [
    "21. Inserte el grafico en la celda E5 de la hoja Formulas."
   ]
  },
  {
   "cell_type": "code",
   "execution_count": null,
   "metadata": {},
   "outputs": [],
   "source": []
  },
  {
   "cell_type": "markdown",
   "metadata": {},
   "source": [
    "22. Defina el tamaño del libro a 1500x1000 y guarde el archivo. Pista: este numero puede depender de la resolución de su pantalla."
   ]
  },
  {
   "cell_type": "code",
   "execution_count": null,
   "metadata": {},
   "outputs": [],
   "source": [
    "# Cerrar y guardar el excel\n",
    "workbook.set_size(1080,1280)\n",
    "writer.save()"
   ]
  },
  {
   "cell_type": "markdown",
   "metadata": {},
   "source": [
    "23. Elimine la imagen que creó si ya no la necesita"
   ]
  },
  {
   "cell_type": "code",
   "execution_count": null,
   "metadata": {},
   "outputs": [],
   "source": []
  }
 ],
 "metadata": {
  "kernelspec": {
   "display_name": "Python 3",
   "language": "python",
   "name": "python3"
  },
  "language_info": {
   "codemirror_mode": {
    "name": "ipython",
    "version": 3
   },
   "file_extension": ".py",
   "mimetype": "text/x-python",
   "name": "python",
   "nbconvert_exporter": "python",
   "pygments_lexer": "ipython3",
   "version": "3.8.1"
  }
 },
 "nbformat": 4,
 "nbformat_minor": 4
}
