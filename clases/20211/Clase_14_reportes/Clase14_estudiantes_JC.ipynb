{
 "cells": [
  {
   "cell_type": "markdown",
   "metadata": {},
   "source": [
    "# **Taller de Python**\n",
    "## Profesor: Juan S. Moreno y Julian E. Chitiva B.\n",
    "## Clase 14: Automatización de Reportes con Excel"
   ]
  },
  {
   "cell_type": "markdown",
   "metadata": {},
   "source": [
    "Esta clase haremos uso extensivo de <a href=\"https://xlsxwriter.readthedocs.io/working_with_pandas.html\">XlsxWriter</a>.\n",
    "\n",
    "Esta es una herramienta que permite crear archivos de excel a partir de objetos de python. Adicionalmente permite añadir formato (y muchas cosas más) a las celdas."
   ]
  },
  {
   "cell_type": "code",
   "execution_count": 1,
   "metadata": {},
   "outputs": [],
   "source": [
    "%matplotlib inline\n",
    "import pandas as pd\n",
    "import numpy as np\n",
    "import statsmodels.api as sm \n",
    "import os\n",
    "import matplotlib.pyplot as plt"
   ]
  },
  {
   "cell_type": "markdown",
   "metadata": {},
   "source": [
    "1. Cargue la heart del `sm.datasets`. Explore la descripción y la nota."
   ]
  },
  {
   "cell_type": "code",
   "execution_count": 2,
   "metadata": {},
   "outputs": [
    {
     "name": "stdout",
     "output_type": "stream",
     "text": [
      "::\n",
      "\n",
      "    Number of Observations - 69\n",
      "\n",
      "    Number of Variables - 3\n",
      "\n",
      "    Variable name definitions::\n",
      "        death - Days after surgery until death\n",
      "        age - age at the time of surgery\n",
      "        censored - indicates if an observation is censored.  1 is uncensored\n",
      "\n",
      "This data contains the survival time after receiving a heart transplant, the age of the patient and whether or not the survival time was censored.\n",
      "\n"
     ]
    },
    {
     "data": {
      "text/html": [
       "<div>\n",
       "<style scoped>\n",
       "    .dataframe tbody tr th:only-of-type {\n",
       "        vertical-align: middle;\n",
       "    }\n",
       "\n",
       "    .dataframe tbody tr th {\n",
       "        vertical-align: top;\n",
       "    }\n",
       "\n",
       "    .dataframe thead th {\n",
       "        text-align: right;\n",
       "    }\n",
       "</style>\n",
       "<table border=\"1\" class=\"dataframe\">\n",
       "  <thead>\n",
       "    <tr style=\"text-align: right;\">\n",
       "      <th></th>\n",
       "      <th>survival</th>\n",
       "      <th>censors</th>\n",
       "      <th>age</th>\n",
       "    </tr>\n",
       "  </thead>\n",
       "  <tbody>\n",
       "    <tr>\n",
       "      <th>0</th>\n",
       "      <td>15.0</td>\n",
       "      <td>1.0</td>\n",
       "      <td>54.3</td>\n",
       "    </tr>\n",
       "    <tr>\n",
       "      <th>1</th>\n",
       "      <td>3.0</td>\n",
       "      <td>1.0</td>\n",
       "      <td>40.4</td>\n",
       "    </tr>\n",
       "    <tr>\n",
       "      <th>2</th>\n",
       "      <td>624.0</td>\n",
       "      <td>1.0</td>\n",
       "      <td>51.0</td>\n",
       "    </tr>\n",
       "    <tr>\n",
       "      <th>3</th>\n",
       "      <td>46.0</td>\n",
       "      <td>1.0</td>\n",
       "      <td>42.5</td>\n",
       "    </tr>\n",
       "    <tr>\n",
       "      <th>4</th>\n",
       "      <td>127.0</td>\n",
       "      <td>1.0</td>\n",
       "      <td>48.0</td>\n",
       "    </tr>\n",
       "  </tbody>\n",
       "</table>\n",
       "</div>"
      ],
      "text/plain": [
       "   survival  censors   age\n",
       "0      15.0      1.0  54.3\n",
       "1       3.0      1.0  40.4\n",
       "2     624.0      1.0  51.0\n",
       "3      46.0      1.0  42.5\n",
       "4     127.0      1.0  48.0"
      ]
     },
     "execution_count": 2,
     "metadata": {},
     "output_type": "execute_result"
    }
   ],
   "source": [
    "print(sm.datasets.heart.NOTE)\n",
    "print(sm.datasets.heart.DESCRLONG)\n",
    "datos = sm.datasets.heart.load_pandas().data\n",
    "datos.head()"
   ]
  },
  {
   "cell_type": "markdown",
   "metadata": {},
   "source": [
    "2. Calcule la matriz de correlación de la base de datos. \n",
    "- Importe la funcion pearsonr de `scipy.stats`, explore su funcionmiento.\n",
    "- Calcule la correlacion usando esa funcion (Primera compontente).\n",
    "- Calcule la significancia p-value usando esa funcion (Segunda compontente)."
   ]
  },
  {
   "cell_type": "code",
   "execution_count": 3,
   "metadata": {},
   "outputs": [],
   "source": [
    "from scipy.stats import pearsonr"
   ]
  },
  {
   "cell_type": "code",
   "execution_count": 4,
   "metadata": {},
   "outputs": [
    {
     "data": {
      "text/plain": [
       "(-0.12955008741210602, 0.28871579603020525)"
      ]
     },
     "execution_count": 4,
     "metadata": {},
     "output_type": "execute_result"
    }
   ],
   "source": [
    "pearsonr(datos.survival, datos.age)"
   ]
  },
  {
   "cell_type": "code",
   "execution_count": 5,
   "metadata": {},
   "outputs": [
    {
     "data": {
      "text/html": [
       "<div>\n",
       "<style scoped>\n",
       "    .dataframe tbody tr th:only-of-type {\n",
       "        vertical-align: middle;\n",
       "    }\n",
       "\n",
       "    .dataframe tbody tr th {\n",
       "        vertical-align: top;\n",
       "    }\n",
       "\n",
       "    .dataframe thead th {\n",
       "        text-align: right;\n",
       "    }\n",
       "</style>\n",
       "<table border=\"1\" class=\"dataframe\">\n",
       "  <thead>\n",
       "    <tr style=\"text-align: right;\">\n",
       "      <th></th>\n",
       "      <th>survival</th>\n",
       "      <th>censors</th>\n",
       "      <th>age</th>\n",
       "    </tr>\n",
       "  </thead>\n",
       "  <tbody>\n",
       "    <tr>\n",
       "      <th>survival</th>\n",
       "      <td>1.000000</td>\n",
       "      <td>-0.461949</td>\n",
       "      <td>-0.129550</td>\n",
       "    </tr>\n",
       "    <tr>\n",
       "      <th>censors</th>\n",
       "      <td>-0.461949</td>\n",
       "      <td>1.000000</td>\n",
       "      <td>0.365187</td>\n",
       "    </tr>\n",
       "    <tr>\n",
       "      <th>age</th>\n",
       "      <td>-0.129550</td>\n",
       "      <td>0.365187</td>\n",
       "      <td>1.000000</td>\n",
       "    </tr>\n",
       "  </tbody>\n",
       "</table>\n",
       "</div>"
      ],
      "text/plain": [
       "          survival   censors       age\n",
       "survival  1.000000 -0.461949 -0.129550\n",
       "censors  -0.461949  1.000000  0.365187\n",
       "age      -0.129550  0.365187  1.000000"
      ]
     },
     "execution_count": 5,
     "metadata": {},
     "output_type": "execute_result"
    }
   ],
   "source": [
    "rho = datos.corr(method=lambda x, y: pearsonr(x,y)[0])\n",
    "rho"
   ]
  },
  {
   "cell_type": "code",
   "execution_count": 6,
   "metadata": {},
   "outputs": [
    {
     "data": {
      "text/html": [
       "<div>\n",
       "<style scoped>\n",
       "    .dataframe tbody tr th:only-of-type {\n",
       "        vertical-align: middle;\n",
       "    }\n",
       "\n",
       "    .dataframe tbody tr th {\n",
       "        vertical-align: top;\n",
       "    }\n",
       "\n",
       "    .dataframe thead th {\n",
       "        text-align: right;\n",
       "    }\n",
       "</style>\n",
       "<table border=\"1\" class=\"dataframe\">\n",
       "  <thead>\n",
       "    <tr style=\"text-align: right;\">\n",
       "      <th></th>\n",
       "      <th>survival</th>\n",
       "      <th>censors</th>\n",
       "      <th>age</th>\n",
       "    </tr>\n",
       "  </thead>\n",
       "  <tbody>\n",
       "    <tr>\n",
       "      <th>survival</th>\n",
       "      <td>0.000000</td>\n",
       "      <td>0.000065</td>\n",
       "      <td>0.288716</td>\n",
       "    </tr>\n",
       "    <tr>\n",
       "      <th>censors</th>\n",
       "      <td>0.000065</td>\n",
       "      <td>0.000000</td>\n",
       "      <td>0.002033</td>\n",
       "    </tr>\n",
       "    <tr>\n",
       "      <th>age</th>\n",
       "      <td>0.288716</td>\n",
       "      <td>0.002033</td>\n",
       "      <td>0.000000</td>\n",
       "    </tr>\n",
       "  </tbody>\n",
       "</table>\n",
       "</div>"
      ],
      "text/plain": [
       "          survival   censors       age\n",
       "survival  0.000000  0.000065  0.288716\n",
       "censors   0.000065  0.000000  0.002033\n",
       "age       0.288716  0.002033  0.000000"
      ]
     },
     "execution_count": 6,
     "metadata": {},
     "output_type": "execute_result"
    }
   ],
   "source": [
    "p_vals = datos.corr(method=lambda x, y: pearsonr(x,y)[1])-np.eye(datos.shape[1])\n",
    "p_vals"
   ]
  },
  {
   "cell_type": "markdown",
   "metadata": {},
   "source": [
    "3. Use el paquete seaborn para crear un mapa de calor de estas correlaciones donde el texto sea el valor de la correlacion donde solo se muestren aquellos valores significativos."
   ]
  },
  {
   "cell_type": "code",
   "execution_count": 7,
   "metadata": {},
   "outputs": [],
   "source": [
    "import seaborn as sns"
   ]
  },
  {
   "cell_type": "code",
   "execution_count": 8,
   "metadata": {},
   "outputs": [
    {
     "data": {
      "text/html": [
       "<div>\n",
       "<style scoped>\n",
       "    .dataframe tbody tr th:only-of-type {\n",
       "        vertical-align: middle;\n",
       "    }\n",
       "\n",
       "    .dataframe tbody tr th {\n",
       "        vertical-align: top;\n",
       "    }\n",
       "\n",
       "    .dataframe thead th {\n",
       "        text-align: right;\n",
       "    }\n",
       "</style>\n",
       "<table border=\"1\" class=\"dataframe\">\n",
       "  <thead>\n",
       "    <tr style=\"text-align: right;\">\n",
       "      <th></th>\n",
       "      <th>survival</th>\n",
       "      <th>censors</th>\n",
       "      <th>age</th>\n",
       "    </tr>\n",
       "  </thead>\n",
       "  <tbody>\n",
       "    <tr>\n",
       "      <th>survival</th>\n",
       "      <td>1</td>\n",
       "      <td>-0.46</td>\n",
       "      <td></td>\n",
       "    </tr>\n",
       "    <tr>\n",
       "      <th>censors</th>\n",
       "      <td>-0.46</td>\n",
       "      <td>1.00</td>\n",
       "      <td>0.37</td>\n",
       "    </tr>\n",
       "    <tr>\n",
       "      <th>age</th>\n",
       "      <td></td>\n",
       "      <td>0.37</td>\n",
       "      <td>1</td>\n",
       "    </tr>\n",
       "  </tbody>\n",
       "</table>\n",
       "</div>"
      ],
      "text/plain": [
       "         survival  censors   age\n",
       "survival        1    -0.46      \n",
       "censors     -0.46     1.00  0.37\n",
       "age                   0.37     1"
      ]
     },
     "execution_count": 8,
     "metadata": {},
     "output_type": "execute_result"
    }
   ],
   "source": [
    "textos = rho[p_vals<0.05]\n",
    "textos = textos.round(2)\n",
    "textos[np.isnan(textos)]='' \n",
    "textos"
   ]
  },
  {
   "cell_type": "code",
   "execution_count": 9,
   "metadata": {},
   "outputs": [
    {
     "data": {
      "image/png": "[encoded data removed]",
      "text/plain": [
       "<Figure size 432x288 with 2 Axes>"
      ]
     },
     "metadata": {
      "needs_background": "light"
     },
     "output_type": "display_data"
    }
   ],
   "source": [
    "sns.heatmap(rho, annot=textos,fmt='')\n",
    "plt.title('Matriz de Correlación')\n",
    "plt.savefig('corr.png', bbox_inches='tight')\n",
    "plt.show()"
   ]
  },
  {
   "cell_type": "markdown",
   "metadata": {},
   "source": [
    "4. Cree un ExcelWriter. Esta es una funcion de Pandas que sirve para escribir archivos de excel con más flexibilidad que el `.to_excel`.\n",
    "    - Use `xlsxwriter` como engine.\n",
    "    - Explore que tiene el `writer` por dentro.\n"
   ]
  },
  {
   "cell_type": "code",
   "execution_count": 10,
   "metadata": {},
   "outputs": [],
   "source": [
    "## Crear un ExcelWriter\n",
    "writer = pd.ExcelWriter('correlaciones.xlsx',\n",
    "                        engine='xlsxwriter')"
   ]
  },
  {
   "cell_type": "markdown",
   "metadata": {},
   "source": [
    "5. Pruebe guardar el archivo usando `writer.save()`, este debe ser un archivo vacío."
   ]
  },
  {
   "cell_type": "markdown",
   "metadata": {},
   "source": [
    "writer.save()"
   ]
  },
  {
   "cell_type": "markdown",
   "metadata": {},
   "source": [
    "6. Excel funciona con libros (*Workbook* o *book*). Extraigalo del writer y explore que tiene por dentro."
   ]
  },
  {
   "cell_type": "code",
   "execution_count": 11,
   "metadata": {},
   "outputs": [],
   "source": [
    "libro = writer.book"
   ]
  },
  {
   "cell_type": "markdown",
   "metadata": {},
   "source": [
    "7. Agregue los resultados de los coeficientes de correlacion.\n",
    "    - Hoja Resultados.\n",
    "    - Ponga los encabezados e indices.\n",
    "    - La Tabla debe iniciar en la fila 3 y columna 1."
   ]
  },
  {
   "cell_type": "code",
   "execution_count": 12,
   "metadata": {},
   "outputs": [],
   "source": [
    "rho.to_excel(writer, \n",
    "             sheet_name='Resultados',\n",
    "             header=True,\n",
    "             index=True,\n",
    "             startrow=2, \n",
    "             startcol=0)"
   ]
  },
  {
   "cell_type": "markdown",
   "metadata": {},
   "source": [
    "8. A este workbook se le pueden añadir formatos. Estos formatos los usaremos para darle formato a las celdas. \n",
    "\n",
    "Cree un formato llamado Encabezado\n",
    "+ Negrilla\n",
    "+ Text_wrap\n",
    "+ Tamaño 18\n",
    "+ letra color ```#ffffff```\n",
    "+ alineacion centrado \n",
    "+ fondo color ```#153261```\n",
    "+ todos los bordes"
   ]
  },
  {
   "cell_type": "code",
   "execution_count": 13,
   "metadata": {},
   "outputs": [],
   "source": [
    "encabezado = libro.add_format({\n",
    "    'bold':True,\n",
    "    'text_wrap':True,\n",
    "    'font_size':18,\n",
    "    'font_color':'#ffffff',\n",
    "    'align': 'center',\n",
    "    'valign': 'vcenter',\n",
    "    'fg_color': '#7a3ae0',\n",
    "    'border': 1\n",
    "})"
   ]
  },
  {
   "cell_type": "markdown",
   "metadata": {},
   "source": [
    "8. Extraiga la hoja de **Resultados** en el writer usando la funcion `sheets['nombrehoja']`\n"
   ]
  },
  {
   "cell_type": "code",
   "execution_count": 14,
   "metadata": {},
   "outputs": [],
   "source": [
    "hoja = writer.sheets['Resultados']"
   ]
  },
  {
   "cell_type": "markdown",
   "metadata": {},
   "source": [
    "9. Haga un \"combinar y centrar\":\n",
    "    - Combine las celdas A1:M1.\n",
    "    - Escriba \"Resultados Correlación\".\n",
    "    - Use el formato encabezado."
   ]
  },
  {
   "cell_type": "code",
   "execution_count": 15,
   "metadata": {},
   "outputs": [],
   "source": [
    "hoja.merge_range('A1:M1', \"Resultados Correlación\", encabezado)"
   ]
  },
  {
   "cell_type": "markdown",
   "metadata": {},
   "source": [
    "10. Incluya la imagen del mapa de calor que guardo antes. \n",
    "    - La imagen debe ir en la fila 3 columna 6"
   ]
  },
  {
   "cell_type": "code",
   "execution_count": 16,
   "metadata": {},
   "outputs": [],
   "source": [
    "hoja.insert_image(2, 5, 'corr.png')"
   ]
  },
  {
   "cell_type": "markdown",
   "metadata": {},
   "source": [
    "11. Cree un dataframe con:\n",
    "    - primera columna: 100 numeros de -10 a 10 (use `np.linspace`).\n",
    "    - segunda columna: 100 numeros aleatorios N(0,9)."
   ]
  },
  {
   "cell_type": "code",
   "execution_count": 17,
   "metadata": {},
   "outputs": [
    {
     "data": {
      "text/html": [
       "<div>\n",
       "<style scoped>\n",
       "    .dataframe tbody tr th:only-of-type {\n",
       "        vertical-align: middle;\n",
       "    }\n",
       "\n",
       "    .dataframe tbody tr th {\n",
       "        vertical-align: top;\n",
       "    }\n",
       "\n",
       "    .dataframe thead th {\n",
       "        text-align: right;\n",
       "    }\n",
       "</style>\n",
       "<table border=\"1\" class=\"dataframe\">\n",
       "  <thead>\n",
       "    <tr style=\"text-align: right;\">\n",
       "      <th></th>\n",
       "      <th>primera</th>\n",
       "      <th>segunda</th>\n",
       "    </tr>\n",
       "  </thead>\n",
       "  <tbody>\n",
       "    <tr>\n",
       "      <th>0</th>\n",
       "      <td>-10.000000</td>\n",
       "      <td>-2.288795</td>\n",
       "    </tr>\n",
       "    <tr>\n",
       "      <th>1</th>\n",
       "      <td>-9.899497</td>\n",
       "      <td>-7.646747</td>\n",
       "    </tr>\n",
       "    <tr>\n",
       "      <th>2</th>\n",
       "      <td>-9.798995</td>\n",
       "      <td>-9.005629</td>\n",
       "    </tr>\n",
       "    <tr>\n",
       "      <th>3</th>\n",
       "      <td>-9.698492</td>\n",
       "      <td>1.577060</td>\n",
       "    </tr>\n",
       "    <tr>\n",
       "      <th>4</th>\n",
       "      <td>-9.597990</td>\n",
       "      <td>-5.432440</td>\n",
       "    </tr>\n",
       "    <tr>\n",
       "      <th>...</th>\n",
       "      <td>...</td>\n",
       "      <td>...</td>\n",
       "    </tr>\n",
       "    <tr>\n",
       "      <th>195</th>\n",
       "      <td>9.597990</td>\n",
       "      <td>1.235463</td>\n",
       "    </tr>\n",
       "    <tr>\n",
       "      <th>196</th>\n",
       "      <td>9.698492</td>\n",
       "      <td>4.200049</td>\n",
       "    </tr>\n",
       "    <tr>\n",
       "      <th>197</th>\n",
       "      <td>9.798995</td>\n",
       "      <td>9.916299</td>\n",
       "    </tr>\n",
       "    <tr>\n",
       "      <th>198</th>\n",
       "      <td>9.899497</td>\n",
       "      <td>17.332970</td>\n",
       "    </tr>\n",
       "    <tr>\n",
       "      <th>199</th>\n",
       "      <td>10.000000</td>\n",
       "      <td>-0.039657</td>\n",
       "    </tr>\n",
       "  </tbody>\n",
       "</table>\n",
       "<p>200 rows × 2 columns</p>\n",
       "</div>"
      ],
      "text/plain": [
       "       primera    segunda\n",
       "0   -10.000000  -2.288795\n",
       "1    -9.899497  -7.646747\n",
       "2    -9.798995  -9.005629\n",
       "3    -9.698492   1.577060\n",
       "4    -9.597990  -5.432440\n",
       "..         ...        ...\n",
       "195   9.597990   1.235463\n",
       "196   9.698492   4.200049\n",
       "197   9.798995   9.916299\n",
       "198   9.899497  17.332970\n",
       "199  10.000000  -0.039657\n",
       "\n",
       "[200 rows x 2 columns]"
      ]
     },
     "execution_count": 17,
     "metadata": {},
     "output_type": "execute_result"
    }
   ],
   "source": [
    "n = 200\n",
    "datos = pd.DataFrame({\n",
    "    'primera':np.linspace(-10,10,n),\n",
    "    'segunda':np.random.normal(loc=0, scale=9, size=n)\n",
    "})\n",
    "datos"
   ]
  },
  {
   "cell_type": "markdown",
   "metadata": {},
   "source": [
    "12. Agrege estos datos desde la fila 2 sin encabezado ni indice en la hoja llamada formulas"
   ]
  },
  {
   "cell_type": "code",
   "execution_count": 18,
   "metadata": {},
   "outputs": [],
   "source": [
    "datos.to_excel(writer,\n",
    "              sheet_name='Formulas',\n",
    "              header=False,\n",
    "              index=False,\n",
    "              startrow=2-1)"
   ]
  },
  {
   "cell_type": "markdown",
   "metadata": {},
   "source": [
    "13. Extraiga la hoja \"Formulas\" "
   ]
  },
  {
   "cell_type": "code",
   "execution_count": 19,
   "metadata": {},
   "outputs": [],
   "source": [
    "hoja = writer.sheets['Formulas']"
   ]
  },
  {
   "cell_type": "markdown",
   "metadata": {},
   "source": [
    "14. Escriba en las celdas lo siguiente con formato encabezado:\n",
    "    - A1: ```'Entero' u\"\\U0001F610\"```. \n",
    "    - B1: ```'Normal' u\"\\U0001F600\"```.\n",
    "    - C1: ```'Formula' u\"\\U0001F62E\"```."
   ]
  },
  {
   "cell_type": "code",
   "execution_count": 20,
   "metadata": {},
   "outputs": [
    {
     "data": {
      "text/plain": [
       "0"
      ]
     },
     "execution_count": 20,
     "metadata": {},
     "output_type": "execute_result"
    }
   ],
   "source": [
    "hoja.write(\"A1\", 'Entero'+u\"\\U0001F610\", encabezado)"
   ]
  },
  {
   "cell_type": "code",
   "execution_count": 21,
   "metadata": {},
   "outputs": [
    {
     "data": {
      "text/plain": [
       "0"
      ]
     },
     "execution_count": 21,
     "metadata": {},
     "output_type": "execute_result"
    }
   ],
   "source": [
    "hoja.write(0,1, 'Normal'+u\"\\U0001F600\", encabezado)"
   ]
  },
  {
   "cell_type": "code",
   "execution_count": 22,
   "metadata": {},
   "outputs": [
    {
     "data": {
      "text/plain": [
       "0"
      ]
     },
     "execution_count": 22,
     "metadata": {},
     "output_type": "execute_result"
    }
   ],
   "source": [
    "hoja.write(\"C1\", 'Formula'+u\"\\U0001F62E\", encabezado)"
   ]
  },
  {
   "cell_type": "markdown",
   "metadata": {},
   "source": [
    "15. Ajuste el ancho de estas columnas a 18."
   ]
  },
  {
   "cell_type": "code",
   "execution_count": 23,
   "metadata": {},
   "outputs": [
    {
     "data": {
      "text/plain": [
       "0"
      ]
     },
     "execution_count": 23,
     "metadata": {},
     "output_type": "execute_result"
    }
   ],
   "source": [
    "hoja.set_column('A:C',18)"
   ]
  },
  {
   "cell_type": "markdown",
   "metadata": {},
   "source": [
    "16. En la columna C de esta hoja defina una formula que sea 10*A+B. \n",
    "\n",
    "Pista: Ojo con la el número de la fila en la formula. \n"
   ]
  },
  {
   "cell_type": "code",
   "execution_count": 24,
   "metadata": {},
   "outputs": [],
   "source": [
    "for fila in range(1,n+1):\n",
    "    hoja.write_formula(fila,2,\"=10*A\"+str(fila+1)+'+B'+str(fila+1))"
   ]
  },
  {
   "cell_type": "markdown",
   "metadata": {},
   "source": [
    "17. Cree un gráfico de dispersion en el libro con la funcion `add_chart({'type':'scatter'})`"
   ]
  },
  {
   "cell_type": "code",
   "execution_count": 25,
   "metadata": {},
   "outputs": [],
   "source": [
    "chart = libro.add_chart({'type':'scatter'})"
   ]
  },
  {
   "cell_type": "markdown",
   "metadata": {},
   "source": [
    "18. Agregue la serie de datos con un diccionario de los siguientes parametros\n",
    "    - name: puntos\n",
    "    - values: Formula de los valores de la columna C (Eje Y)\n",
    "    - categories: Formula de los valores de la columna A (Eje X) \n",
    "    - trendline: \n",
    "        + type: linear\n",
    "        + display_r_squared: True"
   ]
  },
  {
   "cell_type": "code",
   "execution_count": 26,
   "metadata": {},
   "outputs": [],
   "source": [
    "chart.add_series({\n",
    "    'name':'Puntos',\n",
    "    'values':\"=Formulas!$C$2:$C$\"+str(n+1),\n",
    "    'categories':\"=Formulas!$A$2:$A$\"+str(n+1),\n",
    "    'trendline':{\n",
    "        'type':'linear',\n",
    "        'display_r_squared':True\n",
    "    }\n",
    "})"
   ]
  },
  {
   "cell_type": "markdown",
   "metadata": {},
   "source": [
    "19. Fije el titulo del gráfico con `set_title`\n",
    "    - name: 'Grafio de Dispersión'"
   ]
  },
  {
   "cell_type": "code",
   "execution_count": 27,
   "metadata": {},
   "outputs": [],
   "source": [
    "chart.set_title({\n",
    "    'name':'Grafico de Dispersión'\n",
    "})"
   ]
  },
  {
   "cell_type": "markdown",
   "metadata": {},
   "source": [
    "20. Explore el funcionamiento del `set_x_axis`, `set_y_axis` y `set_legend`.\n",
    "Las opciones que puede explorar son:\n",
    "- name\n",
    "- major_gridlines\n",
    "- position"
   ]
  },
  {
   "cell_type": "code",
   "execution_count": 28,
   "metadata": {},
   "outputs": [],
   "source": [
    "chart.set_x_axis({\n",
    "    'name':'Puntos'\n",
    "})\n",
    "chart.set_y_axis({\n",
    "    'name':'Valores',\n",
    "    'major_gridlines':False\n",
    "})\n",
    "chart.set_legend({\n",
    "    'position':'bottom'\n",
    "})"
   ]
  },
  {
   "cell_type": "markdown",
   "metadata": {},
   "source": [
    "21. Inserte el grafico en la celda E5 de la hoja Formulas."
   ]
  },
  {
   "cell_type": "code",
   "execution_count": 29,
   "metadata": {},
   "outputs": [],
   "source": [
    "hoja.insert_chart('E5', chart)"
   ]
  },
  {
   "cell_type": "markdown",
   "metadata": {},
   "source": [
    "22. Defina el tamaño del libro a 1500x1000 y guarde el archivo. Pista: este numero puede depender de la resolución de su pantalla."
   ]
  },
  {
   "cell_type": "code",
   "execution_count": 30,
   "metadata": {},
   "outputs": [],
   "source": [
    "# Cerrar y guardar el excel\n",
    "libro.set_size(1500,1000)\n",
    "writer.save()"
   ]
  },
  {
   "cell_type": "markdown",
   "metadata": {},
   "source": [
    "23. Elimine la imagen que creó si ya no la necesita"
   ]
  },
  {
   "cell_type": "code",
   "execution_count": 31,
   "metadata": {},
   "outputs": [],
   "source": [
    "os.remove('corr.png')"
   ]
  }
 ],
 "metadata": {
  "kernelspec": {
   "display_name": "Python 3",
   "language": "python",
   "name": "python3"
  },
  "language_info": {
   "codemirror_mode": {
    "name": "ipython",
    "version": 3
   },
   "file_extension": ".py",
   "mimetype": "text/x-python",
   "name": "python",
   "nbconvert_exporter": "python",
   "pygments_lexer": "ipython3",
   "version": "3.8.1"
  }
 },
 "nbformat": 4,
 "nbformat_minor": 4
}
