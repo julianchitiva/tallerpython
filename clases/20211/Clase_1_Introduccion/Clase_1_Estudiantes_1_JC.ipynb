{
 "cells": [
  {
   "cell_type": "markdown",
   "metadata": {},
   "source": [
    "# **Taller de Python**"
   ]
  },
  {
   "cell_type": "markdown",
   "metadata": {},
   "source": [
    "# Clase 1: Introducción Python\n",
    "El objetivo de este taller es darles herramientas para que se familiaricen con los básicos de Python. \n",
    "\n",
    "¿Qué es y Por qué Python? \n",
    "\n",
    "Python es un [lenguaje de programación](https://es.wikipedia.org/wiki/Lenguaje_de_programaci%C3%B3n)\n",
    "- Es el lenguaje de programación más popular del mundo en el 2020.\n",
    "- Es el primero cuando se trata de temas de análisis de datos.\n",
    "- Es un lenguaje de propósito general, es decir que se utiliza para muchas cosas como Machine Learning, Internet of things, creación de aplicaciones web, de escritorio y de móviles.\n",
    "- Open-source\n",
    "- Comunidad grande y colaborativa\n"
   ]
  },
  {
   "cell_type": "markdown",
   "metadata": {},
   "source": [
    "### Jupyter Notebook\n",
    "Los archivos de extensión *.ipynb* presentan una interfaz muy cómoda para el aprendizaje, y la colaboración. Contiene:\n",
    "- Celdas de código\n",
    "- Celdas de [markdown](https://github.com/adam-p/markdown-here/wiki/Markdown-Cheatsheet) (como esta)\n",
    "- Celdas de texto crudo\n",
    "- Kernel\n",
    "\n",
    "<div class=\"alert alert-info\">\n",
    "La documentación oficial de Jupyter está  \n",
    "<a href=\"https://jupyter-notebook.readthedocs.io/en/stable/\" class=\"alert-link\">aquí</a>\n",
    "y puede encontrar algunos Notebooks didácticos \n",
    "<a href=\"https://github.com/jupyter/notebook/tree/master/docs/source/examples/Notebook\" class=\"alert-link\">aquí</a>\n",
    "."
   ]
  },
  {
   "cell_type": "markdown",
   "metadata": {},
   "source": [
    "### Kernel\n",
    "El \"kernel\" es lo que permite que se corran cosas en python, Jupyter es una interfaz para que los bloques de código corran dentro de una consola de python, el kernel es el que conecta esta interfaz con la parte del computador que corre el código.\n",
    "\n",
    "El kernel también guarda **espacio de trabajo**, es decir todas las variables que se han declarado. \n",
    "\n",
    "Se puede reiniciar el kernel de manera rápida en la pestaña de \"kernel\" en el tope."
   ]
  },
  {
   "cell_type": "markdown",
   "metadata": {},
   "source": [
    "## Objetos básicos de Python\n",
    "1. Integers\n",
    "2. Float\n",
    "3. Strings\n",
    "4. Boolean\n",
    "5. Iterables\n",
    "    1. Lists\n",
    "    2. Dictionaries\n",
    "    3. Tuples"
   ]
  },
  {
   "cell_type": "markdown",
   "metadata": {},
   "source": [
    "### Definiendo Variables\n",
    "1. Defina la variable \"a\" como un entero cualquiera.\n",
    "2. Defina la variable \"b\" como un entero cualquiera.\n",
    "3. Defina la variable \"c\" como un entero cualquiera.\n",
    "4. Defina la variable \"mi_nombre\" como la cadena de caracteres que es su nombre"
   ]
  },
  {
   "cell_type": "code",
   "execution_count": 4,
   "metadata": {},
   "outputs": [
    {
     "name": "stdout",
     "output_type": "stream",
     "text": [
      "13\n"
     ]
    }
   ],
   "source": [
    "a = 13\n",
    "print(a) # Este es un comentario el print no devuelve nada, solo sirve para visualizar"
   ]
  },
  {
   "cell_type": "code",
   "execution_count": 5,
   "metadata": {},
   "outputs": [
    {
     "name": "stdout",
     "output_type": "stream",
     "text": [
      "14.0\n",
      "5\n",
      "7\n"
     ]
    }
   ],
   "source": [
    "a = 14.0\n",
    "b = 5\n",
    "c = 7\n",
    "print(a)\n",
    "print(b) \n",
    "print(c)"
   ]
  },
  {
   "cell_type": "code",
   "execution_count": 6,
   "metadata": {},
   "outputs": [
    {
     "name": "stdout",
     "output_type": "stream",
     "text": [
      "Variable   Type     Data/Info\n",
      "-----------------------------\n",
      "a          float    14.0\n",
      "b          int      5\n",
      "c          int      7\n"
     ]
    }
   ],
   "source": [
    "%whos"
   ]
  },
  {
   "cell_type": "code",
   "execution_count": 7,
   "metadata": {},
   "outputs": [],
   "source": [
    "## comilla doble o sencilla pero es importante abrir y cerrar con la misma. \n",
    "mi_nombre = \"Julian Chitiva\"\n",
    "mi_nombre = 'Julian Chitiva'"
   ]
  },
  {
   "cell_type": "markdown",
   "metadata": {},
   "source": [
    "__<font color='darkgreen'>Actualice el valor de \"a\", súmele 3 y posteriormente imprímalo</font>__"
   ]
  },
  {
   "cell_type": "code",
   "execution_count": 8,
   "metadata": {},
   "outputs": [
    {
     "name": "stdout",
     "output_type": "stream",
     "text": [
      "17.0\n"
     ]
    }
   ],
   "source": [
    "a = a + 3 \n",
    "print(a)"
   ]
  },
  {
   "cell_type": "code",
   "execution_count": null,
   "metadata": {},
   "outputs": [],
   "source": []
  },
  {
   "cell_type": "markdown",
   "metadata": {},
   "source": [
    "### Operaciones Matemáticas\n",
    "Con los números se pueden realizar los siguientes tipos de operaciones:\n",
    "\n",
    "| Operación | Resultado       |\n",
    "| --------- | --------------- |\n",
    "|    +      | Suma            |\n",
    "|    -      | Resta           |\n",
    "|    *      | Multiplicación  |\n",
    "|    /      | División        |\n",
    "|    //     | División entera |\n",
    "|    \\*\\*   | Potencia        |\n",
    "\n",
    "Imprima los siguientes cálculos\n",
    "1. Divida \"a\" en \"b\"\n",
    "2. Divida usando \"//\" interactue \"a\" en \"b\" ¿qué hace \"//\"?\n",
    "3. Multiplique \"a\" y \"b\". \n",
    "4. Eleve \"c\" a la 3\n",
    "5. Calcule el residuo entre \"a\" y \"c\""
   ]
  },
  {
   "cell_type": "code",
   "execution_count": 9,
   "metadata": {},
   "outputs": [
    {
     "data": {
      "text/plain": [
       "3.4"
      ]
     },
     "execution_count": 9,
     "metadata": {},
     "output_type": "execute_result"
    }
   ],
   "source": [
    "a/b"
   ]
  },
  {
   "cell_type": "code",
   "execution_count": 10,
   "metadata": {},
   "outputs": [
    {
     "data": {
      "text/plain": [
       "3.0"
      ]
     },
     "execution_count": 10,
     "metadata": {},
     "output_type": "execute_result"
    }
   ],
   "source": [
    "a//b"
   ]
  },
  {
   "cell_type": "code",
   "execution_count": 11,
   "metadata": {},
   "outputs": [
    {
     "data": {
      "text/plain": [
       "343"
      ]
     },
     "execution_count": 11,
     "metadata": {},
     "output_type": "execute_result"
    }
   ],
   "source": [
    "a*b\n",
    "c**3"
   ]
  },
  {
   "cell_type": "code",
   "execution_count": 12,
   "metadata": {},
   "outputs": [
    {
     "name": "stdout",
     "output_type": "stream",
     "text": [
      "17.0\n",
      "5\n"
     ]
    },
    {
     "data": {
      "text/plain": [
       "2.0"
      ]
     },
     "execution_count": 12,
     "metadata": {},
     "output_type": "execute_result"
    }
   ],
   "source": [
    "print(a)\n",
    "print(b)\n",
    "#Forma larga\n",
    "((a/b)-(a//b))*5\n",
    "#Forma corta\n",
    "a%b #Modulo "
   ]
  },
  {
   "cell_type": "markdown",
   "metadata": {},
   "source": [
    "### Operadores de asignación\n",
    "1. ¿Qué hace +=?\n",
    "2. ¿Qué hace -=?\n",
    "3. ¿Qué hace *=?\n",
    "4. ¿Qué hace /=?"
   ]
  },
  {
   "cell_type": "code",
   "execution_count": 13,
   "metadata": {},
   "outputs": [
    {
     "name": "stdout",
     "output_type": "stream",
     "text": [
      "17.0\n",
      "20.0\n",
      "23.0\n"
     ]
    }
   ],
   "source": [
    "print(a)\n",
    "a = a + 3 ## Forma larga\n",
    "print(a)\n",
    "a += 3 ## Forma corta\n",
    "print(a)"
   ]
  },
  {
   "cell_type": "code",
   "execution_count": 21,
   "metadata": {},
   "outputs": [
    {
     "name": "stdout",
     "output_type": "stream",
     "text": [
      "Variable    Type    Data/Info\n",
      "-----------------------------\n",
      "b           int     5\n",
      "c           int     7\n",
      "mi_nombre   str     Julian Chitiva\n"
     ]
    }
   ],
   "source": [
    "#hola\n",
    "%whos "
   ]
  },
  {
   "cell_type": "code",
   "execution_count": 18,
   "metadata": {},
   "outputs": [],
   "source": [
    "del a ## Borra solo una variable\n",
    "## Para borrar todo hay que reiniciar el kernel"
   ]
  },
  {
   "cell_type": "code",
   "execution_count": 24,
   "metadata": {},
   "outputs": [
    {
     "data": {
      "text/plain": [
       "'Julian Chitiva Julian Chitiva'"
      ]
     },
     "execution_count": 24,
     "metadata": {},
     "output_type": "execute_result"
    }
   ],
   "source": [
    "mi_nombre + \" \" + mi_nombre"
   ]
  },
  {
   "cell_type": "markdown",
   "metadata": {},
   "source": [
    "### Valores Booleanos (comparar valores)\n",
    "1. Pregunte si \"a\" es mayor que \"b\"\n",
    "2. Pregunte si \"a\" es mayor o igual que \"a\"\n",
    "3. Pregunte si \"a\" es igual a cualquier número\n",
    "4. Pregunte si \"mi_nombre\" es igual a \"Julian Chitiva\""
   ]
  },
  {
   "cell_type": "code",
   "execution_count": 32,
   "metadata": {},
   "outputs": [
    {
     "name": "stdout",
     "output_type": "stream",
     "text": [
      "False\n",
      "True\n",
      "False\n",
      "False\n",
      "True\n"
     ]
    }
   ],
   "source": [
    "a = 2\n",
    "print(a > b)\n",
    "print(a < b)\n",
    "print(a >= 10)\n",
    "print(a == 1)\n",
    "print(mi_nombre != 'Juan Moreno')"
   ]
  },
  {
   "cell_type": "markdown",
   "metadata": {},
   "source": [
    "### Combinaciones de booleano"
   ]
  },
  {
   "cell_type": "code",
   "execution_count": 33,
   "metadata": {},
   "outputs": [
    {
     "data": {
      "text/plain": [
       "False"
      ]
     },
     "execution_count": 33,
     "metadata": {},
     "output_type": "execute_result"
    }
   ],
   "source": [
    "a > b and mi_nombre=='Julian Chitiva'"
   ]
  },
  {
   "cell_type": "code",
   "execution_count": 34,
   "metadata": {},
   "outputs": [
    {
     "data": {
      "text/plain": [
       "True"
      ]
     },
     "execution_count": 34,
     "metadata": {},
     "output_type": "execute_result"
    }
   ],
   "source": [
    "a > b or mi_nombre=='Julian Chitiva'"
   ]
  },
  {
   "cell_type": "code",
   "execution_count": 36,
   "metadata": {},
   "outputs": [
    {
     "data": {
      "text/plain": [
       "True"
      ]
     },
     "execution_count": 36,
     "metadata": {},
     "output_type": "execute_result"
    }
   ],
   "source": [
    "not mi_nombre!='Julian Chitiva'"
   ]
  },
  {
   "cell_type": "markdown",
   "metadata": {},
   "source": [
    "1. Sume un True y un False\n",
    "2. Sume dos True\n",
    "3. Sume dos False"
   ]
  },
  {
   "cell_type": "code",
   "execution_count": 37,
   "metadata": {},
   "outputs": [
    {
     "data": {
      "text/plain": [
       "2"
      ]
     },
     "execution_count": 37,
     "metadata": {},
     "output_type": "execute_result"
    }
   ],
   "source": [
    "True + True"
   ]
  },
  {
   "cell_type": "code",
   "execution_count": 38,
   "metadata": {},
   "outputs": [
    {
     "data": {
      "text/plain": [
       "1"
      ]
     },
     "execution_count": 38,
     "metadata": {},
     "output_type": "execute_result"
    }
   ],
   "source": [
    "True + False"
   ]
  },
  {
   "cell_type": "code",
   "execution_count": 39,
   "metadata": {},
   "outputs": [
    {
     "data": {
      "text/plain": [
       "0"
      ]
     },
     "execution_count": 39,
     "metadata": {},
     "output_type": "execute_result"
    }
   ],
   "source": [
    "False + False"
   ]
  },
  {
   "cell_type": "markdown",
   "metadata": {},
   "source": [
    "### Strings\n",
    "1. ¿Qué métodos tiene un string? use `mi_nombre` y la tecla tab.\n",
    "2. Cree un string que sea `nombre` y `apellido`. Súmelos\n",
    "3. Multiplique por 3 la variable `nombre` e imprimala\n",
    "4. Obtenga el número de caracteres en `nombre`\n",
    "5. Pregunte si una cadena de caracteres está dentro su variable `nombre`\n",
    "6. Extraiga el segundo y tercer caracter de `apellido`"
   ]
  },
  {
   "cell_type": "code",
   "execution_count": 42,
   "metadata": {},
   "outputs": [
    {
     "name": "stdout",
     "output_type": "stream",
     "text": [
      "Variable    Type    Data/Info\n",
      "-----------------------------\n",
      "a           int     2\n",
      "b           int     5\n",
      "c           int     7\n",
      "mi_nombre   str     Julian Chitiva\n"
     ]
    }
   ],
   "source": [
    "%whos "
   ]
  },
  {
   "cell_type": "code",
   "execution_count": 43,
   "metadata": {},
   "outputs": [
    {
     "data": {
      "text/plain": [
       "'julian chitiva'"
      ]
     },
     "execution_count": 43,
     "metadata": {},
     "output_type": "execute_result"
    }
   ],
   "source": [
    "mi_nombre.lower()"
   ]
  },
  {
   "cell_type": "code",
   "execution_count": 49,
   "metadata": {},
   "outputs": [
    {
     "data": {
      "text/plain": [
       "'******************JULIAN CHITIVA******************'"
      ]
     },
     "execution_count": 49,
     "metadata": {},
     "output_type": "execute_result"
    }
   ],
   "source": [
    "## Se pueden combinar, ojo con el orden de las operaciones \n",
    "mi_nombre.upper().center(50, '*')"
   ]
  },
  {
   "cell_type": "code",
   "execution_count": 50,
   "metadata": {},
   "outputs": [],
   "source": [
    "nombre = 'Julian'\n",
    "apellido = \"Chitiva\""
   ]
  },
  {
   "cell_type": "code",
   "execution_count": 51,
   "metadata": {},
   "outputs": [
    {
     "data": {
      "text/plain": [
       "'JulianChitiva'"
      ]
     },
     "execution_count": 51,
     "metadata": {},
     "output_type": "execute_result"
    }
   ],
   "source": [
    "nombre + apellido"
   ]
  },
  {
   "cell_type": "code",
   "execution_count": 57,
   "metadata": {},
   "outputs": [
    {
     "data": {
      "text/plain": [
       "'JulianJulianJulian'"
      ]
     },
     "execution_count": 57,
     "metadata": {},
     "output_type": "execute_result"
    }
   ],
   "source": [
    "nombre * 3"
   ]
  },
  {
   "cell_type": "code",
   "execution_count": 59,
   "metadata": {},
   "outputs": [
    {
     "data": {
      "text/plain": [
       "6"
      ]
     },
     "execution_count": 59,
     "metadata": {},
     "output_type": "execute_result"
    }
   ],
   "source": [
    "len(nombre) ## Obtener la longitud (numero de elementos) dentro del objeto"
   ]
  },
  {
   "cell_type": "code",
   "execution_count": 61,
   "metadata": {},
   "outputs": [
    {
     "data": {
      "text/plain": [
       "False"
      ]
     },
     "execution_count": 61,
     "metadata": {},
     "output_type": "execute_result"
    }
   ],
   "source": [
    "'in' in nombre"
   ]
  },
  {
   "cell_type": "code",
   "execution_count": 64,
   "metadata": {},
   "outputs": [
    {
     "data": {
      "text/plain": [
       "'Julian'"
      ]
     },
     "execution_count": 64,
     "metadata": {},
     "output_type": "execute_result"
    }
   ],
   "source": [
    "nombre"
   ]
  },
  {
   "cell_type": "code",
   "execution_count": 70,
   "metadata": {},
   "outputs": [
    {
     "data": {
      "text/plain": [
       "'Jul'"
      ]
     },
     "execution_count": 70,
     "metadata": {},
     "output_type": "execute_result"
    }
   ],
   "source": [
    "nombre[0:3]"
   ]
  },
  {
   "cell_type": "markdown",
   "metadata": {},
   "source": [
    "1. Cree la variable \"edad\" y guarde su edad en ella como un entero.\n",
    "2. Cree la variable \"carrera\" y guarde su carrera en ella como un string.\n",
    "3. Imprima su presentación combinando en el _print_ strings y variables (nombre, apellido, edad y carrera).\n",
    "4. Repita lo anterior usando la suma de strings.\n",
    "5. Repita lo anterior usando .format()\n",
    "6. Repita lo anterior usando .join()"
   ]
  },
  {
   "cell_type": "code",
   "execution_count": 81,
   "metadata": {},
   "outputs": [
    {
     "name": "stdout",
     "output_type": "stream",
     "text": [
      "Mi nombre es Julian Chitiva tengo 25 años y soy economista\n"
     ]
    },
    {
     "data": {
      "text/plain": [
       "'Mi nombre es Julian Chitiva tengo 25 años y soy economista'"
      ]
     },
     "execution_count": 81,
     "metadata": {},
     "output_type": "execute_result"
    }
   ],
   "source": [
    "edad = 25\n",
    "carrera = \"economista\"\n",
    "\n",
    "print('Mi nombre es',nombre, apellido,'tengo', edad ,'años y soy',carrera)\n",
    "'Mi nombre es'+nombre+apellido+'tengo'+str(edad)+'años y soy'+carrera\n",
    "\"Mi nombre es {} {} tengo {} años y soy {}\".format(nombre, apellido, edad, carrera)\n",
    "f'Mi nombre es {nombre} {apellido} tengo {edad} años y soy {carrera}'"
   ]
  },
  {
   "cell_type": "markdown",
   "metadata": {},
   "source": [
    "1. Construya `fruta` y `postre`\n",
    "2. Use:\n",
    "    * **upper**:Convierte toda la cadena en mayúsculas\n",
    "    * **count**: Cuenta cuantas veces se repite un carácter en una cadena\n",
    "    * **replace**: Reemplaza un carácter o parte de una cadena por otro carácter o cadena\n",
    "    * **split**: Divide una cadena según los espacios que tenga y genera una lista de palabras."
   ]
  },
  {
   "cell_type": "code",
   "execution_count": null,
   "metadata": {},
   "outputs": [],
   "source": []
  },
  {
   "cell_type": "markdown",
   "metadata": {},
   "source": [
    "## Listas\n",
    "\n",
    "Las listas son arreglos de datos. Se definen con corchetes, y pueden contener datos de distintos tipos (números enteros y flotantes, o también los tipos que veremos más abajo). \n",
    "\n",
    "1. Construya una lista llamada lista_1 que contenga las variables \"a\", \"b\", el número 0,5 y mi_nombre.\n",
    "2. Extraiga e imprima el primer elemento de la lista (recuerde que en python se comienza desde la posición 0).\n",
    "3. Extraiga e imprima el último elemento de la lista (recuerde que para hacer esto no es necesario saber el tamaño de la lista).\n",
    "4. Extraiga e imprima los dos primeros elementos."
   ]
  },
  {
   "cell_type": "code",
   "execution_count": null,
   "metadata": {},
   "outputs": [],
   "source": []
  },
  {
   "cell_type": "markdown",
   "metadata": {},
   "source": [
    "Las listas son modificables, es decir, que sus elementos pueden modificarse de acuerdo a la siguiente sintaxis:"
   ]
  },
  {
   "cell_type": "code",
   "execution_count": null,
   "metadata": {},
   "outputs": [],
   "source": []
  },
  {
   "cell_type": "markdown",
   "metadata": {},
   "source": [
    "**Nota:** En general la notación de rebanado en Python es de la forma ``[a:b:c]``, dónde se toman los elementos de la lista, iniciando en ``a``, hasta ``b-1`` en pasos de ``c``. Por ejemplo, de esta forma es posible tomar los elementos de una lista que se encuentran en índices pares:"
   ]
  },
  {
   "cell_type": "code",
   "execution_count": null,
   "metadata": {},
   "outputs": [],
   "source": []
  },
  {
   "cell_type": "markdown",
   "metadata": {},
   "source": [
    "Finalmente cabe decir que se pueden usar las operaciones aritméticas + para concatenar dos listas, y * para repetir varias veces los elementos de una lista, así: "
   ]
  },
  {
   "cell_type": "code",
   "execution_count": null,
   "metadata": {},
   "outputs": [],
   "source": []
  },
  {
   "cell_type": "markdown",
   "metadata": {},
   "source": [
    "## Funciones internas para iterables\n",
    "### Matemáticas\n",
    "1. Para qué sirve _abs()_\n",
    "2. Para qué sirve _max()_\n",
    "3. Para qué sirve _min()_\n",
    "4. Para qué sirve _sum()_\n"
   ]
  },
  {
   "cell_type": "code",
   "execution_count": null,
   "metadata": {},
   "outputs": [],
   "source": []
  },
  {
   "cell_type": "markdown",
   "metadata": {},
   "source": [
    "### Conversión\n",
    "1. Para qué sirve _float()_\n",
    "2. Para qué sirve _integer()_\n",
    "3. Para qué sirve _str()_\n",
    "4. Para qué sirve _lista()_"
   ]
  },
  {
   "cell_type": "code",
   "execution_count": null,
   "metadata": {},
   "outputs": [],
   "source": []
  },
  {
   "cell_type": "markdown",
   "metadata": {},
   "source": [
    "### Métodos de las listas\n",
    "Pruebe los siguientes métodos de listas y diga para qué sirven:\n",
    "1. .sort()\n",
    "2. .append()\n",
    "3. .remove()\n",
    "4. reverse()\n",
    "5. index()"
   ]
  },
  {
   "cell_type": "code",
   "execution_count": null,
   "metadata": {},
   "outputs": [],
   "source": [
    "lista=[16,88,33,40] # Creamos una lista arbitraria"
   ]
  },
  {
   "cell_type": "code",
   "execution_count": null,
   "metadata": {},
   "outputs": [],
   "source": []
  },
  {
   "cell_type": "markdown",
   "metadata": {},
   "source": [
    "6. **Usando `_.index()_` ¿cómo podría encontrar la posición donde esté el máximo de una lista?**"
   ]
  },
  {
   "cell_type": "code",
   "execution_count": null,
   "metadata": {},
   "outputs": [],
   "source": []
  },
  {
   "cell_type": "markdown",
   "metadata": {},
   "source": [
    "# Diccionarios\n",
    "\n",
    "Los diccionarios son una estructura de datos muy usada en Python. Ya hemos visto que los elementos de listas, cadenas y tuplas están indexados por números, es decir, `li[0]`, `fruta[1]` o `tp[2]`. En su lugar, los diccionarios están indexados por *claves* (o *keys* en inglés), que pueden ser no sólo números, sino también cadenas, tuplas o cualquier otro tipo de datos que sea **inmutable**.\n",
    "\n",
    "Lo interesante de los diccionarios es que nos sirven para relacionar dos tipos distintos de datos: las claves con sus *valores* (o *values* en inglés), que pueden ser mutables o inmutables.\n",
    "\n",
    "Por ejemplo, supongamos que queremos guardar los códigos que varias personas están utilizando para entrar a un servicio web. Esto lo podemos hacer muy fácilmente con un diccionario, en el que las claves sean el nombre de cada persona y sus valores sean las contraseñas que estén usando.\n",
    "\n",
    "Para ello, en Python podemos escribir algo como:"
   ]
  },
  {
   "cell_type": "code",
   "execution_count": null,
   "metadata": {},
   "outputs": [],
   "source": []
  },
  {
   "cell_type": "markdown",
   "metadata": {},
   "source": [
    "Como podemos ver, los diccionarios se definen con llaves (`{ }`). Las *claves*\n",
    "son los elementos que están a la izquierda de los `:`, mientras que los que\n",
    "están a la derecha son los *valores*.\n",
    "\n",
    "Como ya se mencionó, para extraer un elemento de un diccionario es necesario usar alguna de sus claves. En nuestro caso, las claves son los nombres de las personas. Por ejemplo, para extraer el código que le corresponde a `Carlos` debemos escribir:"
   ]
  },
  {
   "cell_type": "code",
   "execution_count": null,
   "metadata": {},
   "outputs": [],
   "source": []
  },
  {
   "cell_type": "markdown",
   "metadata": {},
   "source": [
    "o para el de `Juan`"
   ]
  },
  {
   "cell_type": "code",
   "execution_count": null,
   "metadata": {},
   "outputs": [],
   "source": []
  },
  {
   "cell_type": "markdown",
   "metadata": {},
   "source": [
    "Si alguien cambia de contraseña, podemos actualizar nuestro diccionario fácilmente haciendo una nueva asignación, por ejemplo:"
   ]
  },
  {
   "cell_type": "code",
   "execution_count": null,
   "metadata": {},
   "outputs": [],
   "source": []
  },
  {
   "cell_type": "markdown",
   "metadata": {},
   "source": [
    "**Nota**: Los diccionarios no tienen un orden interno por defecto. En el último ejemplo podemos ver como `'Luis'` aparece al final del diccionario,  mientras que en la primera definición de `códigos` aparecía al principio. No hay que preocuparse por ello."
   ]
  },
  {
   "cell_type": "markdown",
   "metadata": {},
   "source": [
    "O si una persona se retira del servicio, podemos eliminarla del diccionario\n",
    "usando el siguiente comando:"
   ]
  },
  {
   "cell_type": "code",
   "execution_count": null,
   "metadata": {},
   "outputs": [],
   "source": []
  },
  {
   "cell_type": "markdown",
   "metadata": {},
   "source": [
    "Si queremos introducir el nombre y la contraseña de una nueva persona, sólo es\n",
    "necesario usar una nueva clave y asignarle un valor, así"
   ]
  },
  {
   "cell_type": "code",
   "execution_count": null,
   "metadata": {},
   "outputs": [],
   "source": []
  },
  {
   "cell_type": "markdown",
   "metadata": {},
   "source": [
    "Para saber si una persona ya está en el diccionario o no, usamos el siguiente\n",
    "método:"
   ]
  },
  {
   "cell_type": "code",
   "execution_count": null,
   "metadata": {},
   "outputs": [],
   "source": []
  },
  {
   "cell_type": "markdown",
   "metadata": {},
   "source": [
    "Finalmente, para extraer todas las claves y los valores de un diccionario podemos usar los siguientes métodos:"
   ]
  },
  {
   "cell_type": "code",
   "execution_count": null,
   "metadata": {},
   "outputs": [],
   "source": []
  },
  {
   "cell_type": "markdown",
   "metadata": {},
   "source": [
    "# Problemas"
   ]
  },
  {
   "cell_type": "markdown",
   "metadata": {},
   "source": [
    "### Problema 1\n",
    "\n",
    "Construir una lista que tenga `100` repeticiones de los números `-1`, `0` y `1`, en ese orden exacto."
   ]
  },
  {
   "cell_type": "code",
   "execution_count": null,
   "metadata": {},
   "outputs": [],
   "source": []
  },
  {
   "cell_type": "markdown",
   "metadata": {},
   "source": [
    "### Problema 2\n",
    "\n",
    "Construir una lista que tenga un `1` rodeado de dos listas, cada una con `20` ceros."
   ]
  },
  {
   "cell_type": "code",
   "execution_count": null,
   "metadata": {},
   "outputs": [],
   "source": []
  },
  {
   "cell_type": "markdown",
   "metadata": {},
   "source": [
    "### Problema 3\n",
    "\n",
    "¿Cuántas veces se repite la palabra `banano` en la siguiente cadena? (independiente que hayan mayúsculas):"
   ]
  },
  {
   "cell_type": "code",
   "execution_count": null,
   "metadata": {},
   "outputs": [],
   "source": [
    "muchas_frutas = 'banAnobanAnobananobanaNobananobananobanaNobaNanobanano\\\n",
    "bananobananobaNanobananobananobaNanobAnanobananobananobanaNobananobanAno\\\n",
    "bananobananobanaNobananobananobananobananobananobananobananobananobAnAno\\\n",
    "bAnanobananobananobananobananobananobanANobananobananobanaNobananobanano\\\n",
    "bananobanaNobAnAnobananobananobananobananobananobAnAnobananobananobanano\\\n",
    "baNanobananobananobaNaNobananobANanobananobananobananobAnanobananobanano\\\n",
    "bananobananobAnanobananobaNAnobananobananobananobaNanobanaNobANanobanano\\\n",
    "baNanobananobananobAnanobananobananobananobaNAnobananobanANobananobAnano\\\n",
    "bANanobanAnobananobaNanobananobananobananobananobananobananobAnanobanano\\\n",
    "bananobanAnobananobananobanAnobananobananobananobanAnobananobananobaNano\\\n",
    "bAnanobananobAnanobaNanobananobanaNobananobananobanANobananobananobANAno\\\n",
    "bananobananobaNAnobanaNobAnanobanAnobananobananobanAnobaNanobananobanaNo\\\n",
    "banaNobANAnobananobananobanAnobananobananobanANobananobanAnobananobanano\\\n",
    "banaNobananobAnanobananobAnanobananobanANobananobananobanAnobanaNobanano\\\n",
    "bananobAnanobananobaNanobananobanANobananobananobananobaNAnobananobanAno\\\n",
    "bananobananobananobaNanobananobananobanAnobananobananobANanobananobanano\\\n",
    "bananobananobaNanobananobananobananobAnanobananobananobananobananobanano\\\n",
    "bananobanANobananobanaNobAnanobananobaNanobaNAnobananobananobananobanano\\\n",
    "bananobananobananobananobananobAnanobanaNobananobananobaNAnobananobanANo\\\n",
    "bananobanaNobananobananobananobananobananobaNanobananobanaNobanAnobanAno\\\n",
    "bananobanAno'"
   ]
  },
  {
   "cell_type": "code",
   "execution_count": null,
   "metadata": {},
   "outputs": [],
   "source": []
  },
  {
   "cell_type": "markdown",
   "metadata": {},
   "source": [
    "### Problema 4\n",
    "\n",
    "¿Qué produce el método de strings `center`?"
   ]
  },
  {
   "cell_type": "code",
   "execution_count": null,
   "metadata": {},
   "outputs": [],
   "source": []
  },
  {
   "cell_type": "markdown",
   "metadata": {},
   "source": [
    "### Problema 5\n",
    "\n",
    "Dado el siguiente diccionario que guarda las notas de distintos estudiantes"
   ]
  },
  {
   "cell_type": "code",
   "execution_count": null,
   "metadata": {},
   "outputs": [],
   "source": [
    "notas = {\n",
    "    'Juan': [4.5, 3.7, 3.4, 5],\n",
    "    'Alicia': [3.5, 3.1, 4.2, 3.9],\n",
    "    'Germán': [2.6, 3.0, 3.9, 4.1]\n",
    "}"
   ]
  },
  {
   "cell_type": "markdown",
   "metadata": {},
   "source": [
    "calcular:\n",
    "\n",
    "* La nota promedio de Juan (recuerde que se puede utilizar `sum` y `len` para obtener el promedio).\n",
    "\n",
    "*Respuesta*\n",
    "\n",
    "    4.15"
   ]
  },
  {
   "cell_type": "code",
   "execution_count": null,
   "metadata": {},
   "outputs": [],
   "source": []
  },
  {
   "cell_type": "markdown",
   "metadata": {},
   "source": [
    "* La nota promedio del curso\n",
    "\n",
    "*Respuesta*\n",
    "\n",
    "    3.74"
   ]
  },
  {
   "cell_type": "code",
   "execution_count": null,
   "metadata": {},
   "outputs": [],
   "source": []
  }
 ],
 "metadata": {
  "kernelspec": {
   "display_name": "Python 3",
   "language": "python",
   "name": "python3"
  },
  "language_info": {
   "codemirror_mode": {
    "name": "ipython",
    "version": 3
   },
   "file_extension": ".py",
   "mimetype": "text/x-python",
   "name": "python",
   "nbconvert_exporter": "python",
   "pygments_lexer": "ipython3",
   "version": "3.8.1"
  }
 },
 "nbformat": 4,
 "nbformat_minor": 4
}
