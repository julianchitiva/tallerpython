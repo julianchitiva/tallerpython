{
 "cells": [
  {
   "cell_type": "markdown",
   "metadata": {},
   "source": [
    "# **Taller de Python: Taller 3**\n",
    "## Profesor: Juan S. Moreno y Julian E. Chitiva B."
   ]
  },
  {
   "cell_type": "markdown",
   "metadata": {},
   "source": [
    "El objetivo de este último taller de python es que ustedes apliquen:\n",
    "- Carga y exportación de bases de datos.\n",
    "- Manipulación de bases de datos.\n",
    "- Econometría básica en Python.\n",
    "- Creación de reportes automatizados en excel desde python."
   ]
  },
  {
   "cell_type": "markdown",
   "metadata": {},
   "source": [
    "La idea en este taller es que ustedes mismos desarrollen un pequeño análisis econométrico que les parezca interesante y construyan un reporte en excel al respecto.\n",
    "1. Manipulación de bases de datos.\n",
    "    1. Use al menos tres bases del [panel municipal del CEDE](https://datoscede.uniandes.edu.co/es/catalogo-de-microdata). \n",
    "    2. Junte (merge, concat) estas bases para su análisis.\n",
    "    3. Construya al menos una tabla y una gráfica de estadísticas descriptivas. Las anteriores no pueden estar relacionadas y tienen que estar a nivel de departamento.\n",
    "2. Econometría básica.\n",
    "    1. Con la base construida anteriormente construya un modelo de MCO que le parezca interesante a nivel de municipio.\n",
    "    2. Con la base construida anteriormente construya un modelo Logit/Probit (es decir que la variable Y sea categórica) que le parezca interesante a nivel de municipio.\n",
    "3. Reporte automatizado en Excel.\n",
    "    1. Haga un excel con una hoja llamada \"E. Descriptivas\" que tenga la tabla y gráfica de estadísticas descriptivas del punto 1.C.\n",
    "    2. Agreguele otra hoja llamada \"MCO\" que tenga el resumen de la salida del modelo realizado en 2.A.\n",
    "    3. Agreguele otra hoja llamada \"Logit/Probit\" que tenga el resumen de la salida del modelo realizado en 2.B.\n",
    "\n",
    "### <font color='red'>Deben subir a Sicua un archivo Zip que contenga una carpeta  con el notebook, el excel y sus bases de datos. De tal forma que podamos correr el notebook y generemos el mismo excel. Solo calificaremos que genere el mismo excel y la estética del excel. Es decir que debe hacer uso de formatos de titulos, colorear celdas, etc... (Procure usar elementos distintos a los que vimos en clase) Lo que considere que hace un reporte visualmente agradable y fácilmente entendible. </font>.\n"
   ]
  },
  {
   "cell_type": "code",
   "execution_count": null,
   "metadata": {},
   "outputs": [],
   "source": []
  }
 ],
 "metadata": {
  "kernelspec": {
   "display_name": "Python 3",
   "language": "python",
   "name": "python3"
  },
  "language_info": {
   "codemirror_mode": {
    "name": "ipython",
    "version": 3
   },
   "file_extension": ".py",
   "mimetype": "text/x-python",
   "name": "python",
   "nbconvert_exporter": "python",
   "pygments_lexer": "ipython3",
   "version": "3.8.1"
  }
 },
 "nbformat": 4,
 "nbformat_minor": 4
}
