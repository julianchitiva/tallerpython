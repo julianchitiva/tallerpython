{
 "cells": [
  {
   "cell_type": "markdown",
   "metadata": {},
   "source": [
    "# Taller 1\n",
    "\n",
    "En su calificación se tendrá en cuenta:\n",
    "\n",
    "- Que la solución cumpla lo que se pide.\n",
    "- Claridad de la solución.\n",
    "- Orden.\n",
    "- Comentarios al código.\n",
    "- Uso de las herramientas vistas hasta el momento en el curso\n",
    "- Debe subir un notebook **nombre_codigo.ipynb**\n",
    "\n",
    "Recuerde que el taller incluye los temas vistos en la clase hasta este momento y vale el 30% de la materia. "
   ]
  },
  {
   "cell_type": "markdown",
   "metadata": {},
   "source": [
    "## Pregunta 1\n",
    "\n",
    "Construya una función que invierta una cadena de texto. Llámela `invertirTexto`. \n",
    "\n",
    "\n",
    "`invertirTexto('hola')`\n",
    "`aloh'"
   ]
  },
  {
   "cell_type": "code",
   "execution_count": null,
   "metadata": {},
   "outputs": [],
   "source": []
  },
  {
   "cell_type": "markdown",
   "metadata": {},
   "source": [
    "## Pregunta 2\n",
    "\n",
    "Considere la siguiente lista de palabras\n",
    "\n",
    "```python\n",
    "textos = ['contrabasa', 'mancillado', 'batín', 'chiquillada', 'rezo', 'vaguada', 'conca', 'glaciar', 'pasmoso', 'inquina', 'incremento', 'cosmetología', 'pedregullo', 'higrométrico', 'pisador', 'calvitar', 'memorialesco', 'gutiámbar', 'desapercebido', 'distribuir', 'apelambrar', 'púnico', 'citania', 'emperchado', 'carlita', 'timpanitis', 'faccioso', 'predial', 'papelujo', 'troza', 'dilatómetro', 'excesivo', 'entomólogo', 'instigador', 'comunidad', 'defensorio', 'gran', 'pintiparar', 'caico', 'donado', 'batik', 'íncipit', 'reverenciar', 'piloso', 'pestorejo', 'citarizar', 'escomendrijo', 'timbalero', 'diaconía', 'verdezuelo', 'freidura', 'degüella', 'machaquero', 'tratador', 'sábano', 'escrutar', 'borona', 'alasita', 'glosilla', 'exhumar', 'sobriedad', 'acunar', 'Sagitario', 'tabular', 'plantosa', 'registrador', 'aporcar', 'sexo', 'contrabatería', 'monaquismo', 'coyotear', 'heredanza', 'consagrable', 'estrambóticamente', 'católico', 'chipá', 'daguerrotipar', 'guardamateriales', 'discreto', 'mortandad', 'argadillo', 'descuadrilarse', 'condal', 'cantautor', 'apañuscar', 'consectario', 'terciodécuplo', 'pelote', 'recto', 'verroja', 'grilla', 'maletera', 'estral', 'catéter', 'macancoa', 'eslabón', 'bacteriostático', 'azote', 'conducta', 'despicar', 'aboral', 'buldero', 'intervenir', 'meloncillo', 'dozavo', 'tenamaste', 'cantaletear', 'erutación', 'estadista', 'gas', 'menear', 'corar', 'incontinencia', 'valdiviano', 'adicionar', 'ratonar', 'decurrente', 'farandulero', 'jeque', 'mapa', 'recrudescencia', 'pollo', 'precitado', 'jileco', 'polinesio', 'poblazo', 'desapasionado', 'presuntivo', 'gemiqueo', 'petición', 'ultraje', 'gil', 'decemnovenal', 'doctrinar', 'priste', 'loca', 'buchaca', 'recién', 'Bohemia', 'cakchiquel', 'vaca', 'zapatera', 'retiradamente', 'empigüelar', 'predicable', 'carabear', 'indeterminado', 'cabuyera', 'pitillo', 'desunión', 'tontucio', 'leptorrino', 'almizate', 'apizarrado', 'prédica', 'porcipelo', 'demente', 'mocárabe', 'semen', 'bicentenario', 'atericiarse', 'empotrerar', 'sida', 'soldadura', 'intercalar', 'musgo', 'leprosería', 'Pinto', 'carrilludo', 'pincel', 'sexma', 'glorificación', 'retozo', 'bardana', 'embobamiento', 'churla', 'quedada', 'fascículo', 'percochar', 'anquilostoma', 'tinterillada', 'oxigenación', 'apezuñar', 'heterodino', 'triste', 'lande', 'engolfar', 'rectificable', 'completo', 'sudamina', 'playero', 'diástilo', 'hemíptero', 'estítico', 'alcarchofado', 'corsariamente', 'caloriamperímetro', 'arredondear', 'mágico', 'lejura', 'electrón', 'sumergible', 'coihué', 'hormero', 'alminar', 'teísta', 'cirrópodo', 'solapadamente', 'pensado', 'antojanza', 'salentino', 'goethiano', 'choriceo', 'cancelario', 'arboledo', 'carpintera', 'enlejiar', 'monje', 'exentar', 'eritroxiláceo', 'estrumpido', 'quinchihué', 'hesperio', 'guardalobo', 'santificante', 'cosmopolita', 'encasamiento', 'descalabro', 'acaudillamiento', 'desintoxicación', 'hedónico', 'merchante', 'delgadeza', 'curtimiento', 'desconchado', 'pregón', 'pelambrera', 'xilema', 'estrapada', 'vinagroso', 'gético', 'acuartelado', 'cuajadillo', 'réquiem', 'melifluo', 'descaer', 'escopladura', 'galoneador', 'tollo', 'abrasivo', 'blandón', 'regiduría', 'derechizar', 'corrobra', 'embojo', 'ácido', 'mirística', 'superveniencia', 'trióxido', 'honrable', 'citófono', 'etéreo', 'franjear', 'desenmallar', 'corridamente', 'convencionalmente', 'paraninfo', 'anticlericalismo', 'palomero', 'cavernario', 'valeriánico', 'imperfectamente', 'sampán', 'palqui', 'embotar', 'noto', 'catarinita', 'rumbo', 'desanimación', 'pañal', 'esportear', 'curalle', 'embelecador', 'hallado', 'cambocho', 'nosografía', 'tiparraco', 'entiesar', 'magancear', 'solfista', 'vendal', 'entrenador', 'desgradecido', 'superconductividad', 'retirar', 'incisivo', 'intelectualizar', 'costanera', 'amotinamiento', 'abrileño', 'aliquebrar', 'citarilla', 'lembrar', 'electivo', 'catifa', 'cinerario', 'eccema', 'desactivar', 'memorismo', 'arrebatar', 'pospierna', 'voltaje', 'avisaje', 'tiroriro', 'mediator', 'aretino', 'retóricamente', 'romboidal', 'musáceo', 'brahmanismo', 'huevar', 'inhalar', 'maceador', 'pindonguear', 'repisa', 'macarrónicamente', 'internada', 'litrarieo', 'papirola', 'fibrilar', 'elogiar', 'cicoria', 'garete', 'desavezar', 'maquinizar', 'pulque', 'zafero', 'ajimezado', 'esterificación', 'chagolla', 'plombagina', 'máximamente', 'capitalidad', 'negrada', 'chascón', 'espectable', 'pecha', 'ornamental', 'entenebrecer', 'interjectivo', 'decrecer', 'intoxicación', 'pelero', 'novecientos', 'maestraje', 'decimosexto', 'perturbable', 'tlapalería', 'zaya', 'desmemoria', 'malignidad', 'zulaquear', 'menguadamente', 'hurañía', 'deferente', 'calimbo', 'oligofrénico', 'pasiflora', 'berlingar', 'colombofilia', 'añoja', 'tripartición', 'involuntario', 'retrocuenta', 'sulfamida', 'persecutor', 'arpista', 'ramulla', 'destiladera', 'escultural', 'desentumecer', 'traspasamiento', 'salvo', 'balénido', 'pómulo', 'engañabobos', 'molondra', 'relajada', 'mayorala', 'palmilla', 'teomanía', 'pétreo', 'deslinajar', 'aspearse', 'apostemoso', 'nubarrado', 'farmacopea', 'popayanejo', 'industrioso', 'alece', 'hadario', 'desahogamiento', 'éxodo', 'inteligencia', 'liberar', 'pautado', 'canilludo', 'inventario', 'landa', 'crazada', 'trastornamiento', 'garrubia', 'tromboangitis', 'episcopal', 'contracifra', 'enerizar', 'diagnosis', 'estantalar', 'tambesco', 'replicato', 'purear', 'visura', 'sembradío', 'dimorfismo', 'fototerapia', 'cazo', 'percusor', 'tú', 'samblaje', 'somatén', 'cártel', 'piso', 'ocupante', 'entremezcladura', 'irrepetible', 'calizo', 'telerón', 'alquiler', 'daltónico', 'algarrobera', 'pitao', 'chuva', 'iluminación', 'rezadera', 'desgreñar', 'prisionero', 'romanismo', 'cachipolla', 'favoritismo', 'desatraer', 'seiscientos', 'siderúrgico', 'vidriado', 'pipil', 'familiar', 'descariñarse', 'sancochado', 'envergue', 'reposición', 'madreselva', 'resedáceo', 'chambelán', 'machí', 'éxtasi', 'brasilero', 'amerizaje', 'desempulgadura', 'higienizar', 'osa', 'agalladura', 'rijosidad', 'sacio', 'criminólogo', 'tropero', 'remanar', 'laicización', 'jeruga', 'rejego', 'momero', 'desalmenar', 'corporificar', 'petrolquímico', 'corruptela', 'cúter', 'fitoterapeuta', 'tránsfuga', 'deshonrar', 'arrife', 'adocilar', 'asimilador', 'leviatán', 'mercadante', 'espesamente', 'borrachería', 'vender', 'chocarrero', 'talabartería', 'vélite', 'bortal', 'malviz']\n",
    "```\n",
    "\n",
    "Construya una lista que contenga todas estas palabras invertidas. [Pista: use el punto anterior y map]"
   ]
  },
  {
   "cell_type": "code",
   "execution_count": null,
   "metadata": {},
   "outputs": [],
   "source": []
  },
  {
   "cell_type": "markdown",
   "metadata": {},
   "source": [
    "## Pregunta 3\n",
    "\n",
    "Defina una función **recursiva** que invierta textos. Es decir:\n",
    "- Si le entra como argumento un `string` que lo invierta. \n",
    "``` python \n",
    "'Hola' -> 'aloH'\n",
    "```\n",
    "- Si le entra como argumento una lista de `strings` invierta cada `string` en la lista.\n",
    "``` python \n",
    "['Hola', 'chao'] -> ['aloH', 'oahc']\n",
    "```\n",
    "- Si le entra como argumento una lista de listas de `strings` invierta cada `string` en cada una de las listas.\n",
    "``` python \n",
    "['Hola', ['chao', 'adios']] -> ['aloH', ['oahc', 'soida']]\n",
    "```\n",
    "\n",
    "Llame a esta función `invertirRecursivo`. "
   ]
  },
  {
   "cell_type": "code",
   "execution_count": null,
   "metadata": {},
   "outputs": [],
   "source": []
  },
  {
   "cell_type": "markdown",
   "metadata": {},
   "source": [
    "## Pregunta 4\n",
    "\n",
    "Diseñe una funcion que reciba un número y retorne una lista con los números primos anteriores a él (incluido). Incluya un parámetro opcional que en caso de ser `True` imprima el número de divisores de cada número. Llame a esta función `listaPrimos`\n",
    "\n",
    "```python\n",
    "In: listaPrimos(10, imprimir=False)\n",
    "Out: [2, 3, 5, 7]\n",
    "```\n",
    "\n",
    "```python\n",
    "\n",
    "In: listaPrimos(10, imprimir=True)\n",
    "    \n",
    "El número 2 tiene 2 divisores\n",
    "El número 3 tiene 2 divisores\n",
    "El número 4 tiene 3 divisores\n",
    "El número 5 tiene 2 divisores\n",
    "El número 6 tiene 4 divisores\n",
    "El número 7 tiene 2 divisores\n",
    "El número 8 tiene 4 divisores\n",
    "El número 9 tiene 3 divisores\n",
    "El número 10 tiene 4 divisores\n",
    "\n",
    "Out : [2, 3, 5, 7]\n",
    "```\n",
    "\n"
   ]
  },
  {
   "cell_type": "code",
   "execution_count": null,
   "metadata": {},
   "outputs": [],
   "source": []
  },
  {
   "cell_type": "markdown",
   "metadata": {},
   "source": [
    "## Pregunta 5\n",
    "Defina una función llamada `mezclarPalabras` que reciba dos `strings` y construya dos nuevos `strings` que sean la mezcla de los 2 `strings` originales intercalando letras. Importante, solo mezclar hasta la longuitud de la palabra más corta. \n",
    "\n",
    "Finalmente, la función debe retornar una lista con las nuevas palabras. Por ejemplo, \n",
    "\n",
    "```python\n",
    "texto_1='prueba'\n",
    "texto_2='textos'\n",
    "\n",
    "In: mezclarPalabras(texto_1,texto_2)\n",
    "Out: ['peutbs', 'trxeoa']\n",
    "```\n",
    "\n",
    "```python\n",
    "texto_3='aaaaaaaaaa'\n",
    "texto_4='bbbb'\n",
    "\n",
    "In: mezclarPalabras(texto_3,texto_4)\n",
    "Out: ['abab', 'baba']\n",
    "```\n"
   ]
  },
  {
   "cell_type": "code",
   "execution_count": null,
   "metadata": {},
   "outputs": [],
   "source": []
  },
  {
   "cell_type": "markdown",
   "metadata": {},
   "source": [
    "## Pregunta 6\n",
    "Diseñe una función interesante. Esta función será calificada bajo los siguientes rubros:\n",
    "1. Claridad en la descripción y diseño. (0.25)\n",
    "2. Orden del código. (0.25)\n",
    "3. Coherencia entre lo que hace y la descripción (0.25)\n",
    "4. Uso de loops y condicionales (0.25)"
   ]
  }
 ],
 "metadata": {
  "kernelspec": {
   "display_name": "Python 3",
   "language": "python",
   "name": "python3"
  },
  "language_info": {
   "codemirror_mode": {
    "name": "ipython",
    "version": 3
   },
   "file_extension": ".py",
   "mimetype": "text/x-python",
   "name": "python",
   "nbconvert_exporter": "python",
   "pygments_lexer": "ipython3",
   "version": "3.8.1"
  }
 },
 "nbformat": 4,
 "nbformat_minor": 4
}
