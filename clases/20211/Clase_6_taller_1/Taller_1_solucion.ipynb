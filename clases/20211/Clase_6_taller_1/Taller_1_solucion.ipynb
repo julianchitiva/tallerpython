{
 "cells": [
  {
   "cell_type": "markdown",
   "metadata": {},
   "source": [
    "# Taller 1\n",
    "\n",
    "En su calificación se tendrá en cuenta:\n",
    "\n",
    "- Que la solución cumpla lo que se pide.\n",
    "- Claridad de la solución.\n",
    "- Orden.\n",
    "- Comentarios al código.\n",
    "- Uso de las herramientas vistas hasta el momento en el curso\n",
    "- Debe subir un notebook **nombre_codigo.ipynb**\n",
    "\n",
    "Recuerde que el taller incluye los temas vistos en la clase hasta este momento y vale el 30% de la materia. "
   ]
  },
  {
   "cell_type": "markdown",
   "metadata": {},
   "source": [
    "## Pregunta 1\n",
    "\n",
    "Construya una función que invierta una cadena de texto. Llámela `invertirTexto`. \n",
    "\n",
    "\n",
    "`invertirTexto('hola')`\n",
    "`aloh'"
   ]
  },
  {
   "cell_type": "code",
   "execution_count": 1,
   "metadata": {},
   "outputs": [],
   "source": [
    "invertirTexto = lambda texto: texto[::-1]"
   ]
  },
  {
   "cell_type": "markdown",
   "metadata": {},
   "source": [
    "## Pregunta 2\n",
    "\n",
    "Considere la siguiente lista de palabras\n",
    "\n",
    "```python\n",
    "textos =[\"aaronita\",\"aarónico\",\"aba\",\"ababa\",\"ababillarse\",\n",
    "         \"abacalero\",\"abacero\",\"abacería\",\"abacial\",\"abacora\",\n",
    "         \"ababol\",\"abacal\",\"abacorar\",\"abacá\",\"abadiato\",\n",
    "         \"abad\",\"abada\",\"abadejo\",\"abadengo\",\"abadernar\",\"abadesa\",\n",
    "         \"abadiado\",\"abajera\",\"abajeño\",\"abajo\",\n",
    "         \"abadí\",\"abadía\",\"abajadero\",\"abajamiento\",\"abajar\",\n",
    "         \"abalada\",\"abalanzar\",\"abalar\",\"abalaustrado\",\n",
    "         \"abaldonadamente\",\"abaldonamiento\",\n",
    "         \"abaldonar\",\"abaleador\",\"abaleadura\",\"abalear\",\"abaleo\",\"abalizamiento\",\n",
    "         \"abalizar\",\"aballar\",\"aballestar\",\"abalorio\",\"abaluartar\",\n",
    "         \"abanador\",\"abanar\",\"abancalar\",\"abanderado\",\"abanderamiento\",\n",
    "         \"abanderar\",\"abanderizador\",\"abanderizar\",\"abandono\",\"abanear\",\"abanicar\",\n",
    "         \"abandonado\",\"abandonamiento\",\"abandonar\",\"abandonismo\",\"abandonista\",\n",
    "         \"abanicazo\",\"abanico\",\"abanillo\",\"abanino\",\"abaniqueo\",\"abaniquero\",\n",
    "         \"abaniquería\",\"abano\",\"abatí\",\"abayado\",\"abarbetar\",\"abarca\",\n",
    "         \"abanto\",\"abarajar\",\"abaratamiento\",\"abaratar\",\"abarañar\",\"abarbechar\",\n",
    "         \"abarcable\",\"abarcado\",\"abarcador\",\"abarcadura\",\"abarcamiento\",\"abarcar\",\n",
    "         \"abareque\",\"abaritonado\",\"abarloar\",\"abarquero\",\"abarquillado\",\n",
    "         \"abarquillamiento\",\"abarquillar\",\"abarcuzar\",\"abarcón\",\"abarrajar\",\n",
    "         \"abarracar\",\"abarrado\",\"abarraganamiento\",\"abarraganarse\",\"abarrajado\",\n",
    "         \"abarramiento\",\"abarrancadero\",\"abarrancamiento\",\"abarrancar\",\"abarrar\",\n",
    "         \"abarrenar\",\"abarrer\",\"abarrisco\",\"abarrotar\",\"abarrote\",\"abarrotero\",\n",
    "         \"abarrotería\",\"abarse\",\"abarraz\",\"abarredera\",\"abasto\",\"abasí\",\n",
    "         \"abastadamente\",\"abastamiento\",\"abastante\",\"abastanza\",\"abastar\",\n",
    "         \"abastecer\",\"abastecimiento\",\"abastero\",\"abastimiento\",\"abastionar\",\n",
    "         \"abatanado\",\"abatanar\",\"abatatamiento\",\"abatatar\",\"abate\",\"abatible\",\n",
    "         \"abatido\",\"abatidura\",\"abatimiento\",\"abatir\",\"abatismo\",\"abatojar\",\n",
    "         \"abañador\",\"abañadura\",\"abañar\",\"abderitano\",\"abdicación\",\"abdicar\",\n",
    "         \"abdicativamente\",\"abejonear\",\"abellacado\",\"abellacado\",\"abazón\",\n",
    "         \"abdicativo\",\"abdomen\",\"abdominal\",\"abducción\",\"abductor\",\"abecedario\",\n",
    "         \"abedul\",\"abeja\",\"abejar\",\"abejarrón\",\"abejaruco\",\"abejear\",\"abejero\",\n",
    "         \"abejoneo\",\"abejorrear\",\"abejorreo\",\"abejorro\",\"abejuno\",\"abejón\",\"abeldar\",\n",
    "         \"abellacar\",\"abellota\",\"abellotado\",\"abelmosco\",\"abemoladamente\",\"abemolar\",\n",
    "         \"abencerraje\",\"abenuz\",\"aberenjenado\",\"aberración\",\"aberrante\",\"aberrar\",\n",
    "         \"abastardar\",\"abastecedor\",\"abatidero\"]\n",
    "```\n",
    "\n",
    "Construya una lista que contenga todas estas palabras invertidas. [Pista: use el punto anterior y map]"
   ]
  },
  {
   "cell_type": "code",
   "execution_count": 2,
   "metadata": {},
   "outputs": [
    {
     "name": "stdout",
     "output_type": "stream",
     "text": [
      "['atinoraa', 'ocinóraa', 'aba', 'ababa', 'esrallibaba', 'orelacaba', 'orecaba', 'aírecaba', 'laicaba', 'arocaba', 'lobaba', 'lacaba', 'rarocaba', 'ácaba', 'otaidaba', 'daba', 'adaba', 'ojedaba', 'ognedaba', 'ranredaba', 'asedaba', 'odaidaba', 'arejaba', 'oñejaba', 'ojaba', 'ídaba', 'aídaba', 'oredajaba', 'otneimajaba', 'rajaba', 'adalaba', 'raznalaba', 'ralaba', 'odartsualaba', 'etnemadanodlaba', 'otneimanodlaba', 'ranodlaba', 'rodaelaba', 'arudaelaba', 'raelaba', 'oelaba', 'otneimazilaba', 'razilaba', 'rallaba', 'ratsellaba', 'oirolaba', 'ratraulaba', 'rodanaba', 'ranaba', 'ralacnaba', 'odarednaba', 'otneimarednaba', 'rarednaba', 'rodazirednaba', 'razirednaba', 'onodnaba', 'raenaba', 'racinaba', 'odanodnaba', 'otneimanodnaba', 'ranodnaba', 'omsinodnaba', 'atsinodnaba', 'ozacinaba', 'ocinaba', 'ollinaba', 'oninaba', 'oeuqinaba', 'oreuqinaba', 'aíreuqinaba', 'onaba', 'ítaba', 'odayaba', 'ratebraba', 'acraba', 'otnaba', 'rajaraba', 'otneimataraba', 'rataraba', 'rañaraba', 'rahcebraba', 'elbacraba', 'odacraba', 'rodacraba', 'arudacraba', 'otneimacraba', 'racraba', 'euqeraba', 'odanotiraba', 'raolraba', 'oreuqraba', 'odalliuqraba', 'otneimalliuqraba', 'ralliuqraba', 'razucraba', 'nócraba', 'rajarraba', 'racarraba', 'odarraba', 'otneimanagarraba', 'esranagarraba', 'odajarraba', 'otneimarraba', 'oredacnarraba', 'otneimacnarraba', 'racnarraba', 'rarraba', 'ranerraba', 'rerraba', 'ocsirraba', 'ratorraba', 'etorraba', 'oretorraba', 'aíretorraba', 'esraba', 'zarraba', 'arederraba', 'otsaba', 'ísaba', 'etnemadatsaba', 'otneimatsaba', 'etnatsaba', 'aznatsaba', 'ratsaba', 'recetsaba', 'otneimicetsaba', 'oretsaba', 'otneimitsaba', 'ranoitsaba', 'odanataba', 'ranataba', 'otneimatataba', 'ratataba', 'etaba', 'elbitaba', 'oditaba', 'aruditaba', 'otneimitaba', 'ritaba', 'omsitaba', 'rajotaba', 'rodañaba', 'arudañaba', 'rañaba', 'onatiredba', 'nóicacidba', 'racidba', 'etnemavitacidba', 'raenojeba', 'odacalleba', 'odacalleba', 'nózaba', 'ovitacidba', 'nemodba', 'lanimodba', 'nóiccudba', 'rotcudba', 'oiradeceba', 'ludeba', 'ajeba', 'rajeba', 'nórrajeba', 'ocurajeba', 'raejeba', 'orejeba', 'oenojeba', 'raerrojeba', 'oerrojeba', 'orrojeba', 'onujeba', 'nójeba', 'radleba', 'racalleba', 'atolleba', 'odatolleba', 'ocsomleba', 'etnemadalomeba', 'ralomeba', 'ejarrecneba', 'zuneba', 'odanejnereba', 'nóicarreba', 'etnarreba', 'rarreba', 'radratsaba', 'rodecetsaba', 'oreditaba']\n"
     ]
    }
   ],
   "source": [
    "textos =[\"aaronita\",\"aarónico\",\"aba\",\"ababa\",\"ababillarse\",\n",
    "         \"abacalero\",\"abacero\",\"abacería\",\"abacial\",\"abacora\",\n",
    "         \"ababol\",\"abacal\",\"abacorar\",\"abacá\",\"abadiato\",\n",
    "         \"abad\",\"abada\",\"abadejo\",\"abadengo\",\"abadernar\",\"abadesa\",\n",
    "         \"abadiado\",\"abajera\",\"abajeño\",\"abajo\",\n",
    "         \"abadí\",\"abadía\",\"abajadero\",\"abajamiento\",\"abajar\",\n",
    "         \"abalada\",\"abalanzar\",\"abalar\",\"abalaustrado\",\n",
    "         \"abaldonadamente\",\"abaldonamiento\",\n",
    "         \"abaldonar\",\"abaleador\",\"abaleadura\",\"abalear\",\"abaleo\",\"abalizamiento\",\n",
    "         \"abalizar\",\"aballar\",\"aballestar\",\"abalorio\",\"abaluartar\",\n",
    "         \"abanador\",\"abanar\",\"abancalar\",\"abanderado\",\"abanderamiento\",\n",
    "         \"abanderar\",\"abanderizador\",\"abanderizar\",\"abandono\",\"abanear\",\"abanicar\",\n",
    "         \"abandonado\",\"abandonamiento\",\"abandonar\",\"abandonismo\",\"abandonista\",\n",
    "         \"abanicazo\",\"abanico\",\"abanillo\",\"abanino\",\"abaniqueo\",\"abaniquero\",\n",
    "         \"abaniquería\",\"abano\",\"abatí\",\"abayado\",\"abarbetar\",\"abarca\",\n",
    "         \"abanto\",\"abarajar\",\"abaratamiento\",\"abaratar\",\"abarañar\",\"abarbechar\",\n",
    "         \"abarcable\",\"abarcado\",\"abarcador\",\"abarcadura\",\"abarcamiento\",\"abarcar\",\n",
    "         \"abareque\",\"abaritonado\",\"abarloar\",\"abarquero\",\"abarquillado\",\n",
    "         \"abarquillamiento\",\"abarquillar\",\"abarcuzar\",\"abarcón\",\"abarrajar\",\n",
    "         \"abarracar\",\"abarrado\",\"abarraganamiento\",\"abarraganarse\",\"abarrajado\",\n",
    "         \"abarramiento\",\"abarrancadero\",\"abarrancamiento\",\"abarrancar\",\"abarrar\",\n",
    "         \"abarrenar\",\"abarrer\",\"abarrisco\",\"abarrotar\",\"abarrote\",\"abarrotero\",\n",
    "         \"abarrotería\",\"abarse\",\"abarraz\",\"abarredera\",\"abasto\",\"abasí\",\n",
    "         \"abastadamente\",\"abastamiento\",\"abastante\",\"abastanza\",\"abastar\",\n",
    "         \"abastecer\",\"abastecimiento\",\"abastero\",\"abastimiento\",\"abastionar\",\n",
    "         \"abatanado\",\"abatanar\",\"abatatamiento\",\"abatatar\",\"abate\",\"abatible\",\n",
    "         \"abatido\",\"abatidura\",\"abatimiento\",\"abatir\",\"abatismo\",\"abatojar\",\n",
    "         \"abañador\",\"abañadura\",\"abañar\",\"abderitano\",\"abdicación\",\"abdicar\",\n",
    "         \"abdicativamente\",\"abejonear\",\"abellacado\",\"abellacado\",\"abazón\",\n",
    "         \"abdicativo\",\"abdomen\",\"abdominal\",\"abducción\",\"abductor\",\"abecedario\",\n",
    "         \"abedul\",\"abeja\",\"abejar\",\"abejarrón\",\"abejaruco\",\"abejear\",\"abejero\",\n",
    "         \"abejoneo\",\"abejorrear\",\"abejorreo\",\"abejorro\",\"abejuno\",\"abejón\",\"abeldar\",\n",
    "         \"abellacar\",\"abellota\",\"abellotado\",\"abelmosco\",\"abemoladamente\",\"abemolar\",\n",
    "         \"abencerraje\",\"abenuz\",\"aberenjenado\",\"aberración\",\"aberrante\",\"aberrar\",\n",
    "         \"abastardar\",\"abastecedor\",\"abatidero\"]\n",
    "\n",
    "print(list(map(invertirTexto, textos)))"
   ]
  },
  {
   "cell_type": "markdown",
   "metadata": {},
   "source": [
    "## Pregunta 3\n",
    "\n",
    "Defina una función **recursiva** que invierta textos. Es decir:\n",
    "- Si le entra como argumento un `string` que lo invierta. \n",
    "``` python \n",
    "'Hola' -> 'aloH'\n",
    "```\n",
    "- Si le entra como argumento una lista de `strings` invierta cada `string` en la lista.\n",
    "``` python \n",
    "['Hola', 'chao'] -> ['aloH', 'oahc']\n",
    "```\n",
    "- Si le entra como argumento una lista de listas de `strings` invierta cada `string` en cada una de las listas.\n",
    "``` python \n",
    "['Hola', ['chao', 'adios']] -> ['aloH', ['oahc', 'soida']]\n",
    "```\n",
    "\n",
    "Llame a esta función `invertirRecursivo`. "
   ]
  },
  {
   "cell_type": "code",
   "execution_count": 3,
   "metadata": {},
   "outputs": [],
   "source": [
    "def invertirRecursivo(argumento):\n",
    "    if type(argumento)==str:\n",
    "        return(argumento[::-1])\n",
    "    else:\n",
    "        return(list(map(invertirRecursivo, argumento)))"
   ]
  },
  {
   "cell_type": "code",
   "execution_count": 4,
   "metadata": {},
   "outputs": [
    {
     "data": {
      "text/plain": [
       "[[['aloh'], ['oahc']], ['soida']]"
      ]
     },
     "execution_count": 4,
     "metadata": {},
     "output_type": "execute_result"
    }
   ],
   "source": [
    "invertirRecursivo([[['hola'], ['chao']], ['adios']])"
   ]
  },
  {
   "cell_type": "code",
   "execution_count": 5,
   "metadata": {},
   "outputs": [
    {
     "data": {
      "text/plain": [
       "['soida', 'fghj', '9876', '98765', 'bygvtyuhnjuhyg b']"
      ]
     },
     "execution_count": 5,
     "metadata": {},
     "output_type": "execute_result"
    }
   ],
   "source": [
    "invertirRecursivo(['adios','jhgf','6789','56789', 'b gyhujnhuytvgyb'])"
   ]
  },
  {
   "cell_type": "code",
   "execution_count": 6,
   "metadata": {},
   "outputs": [
    {
     "data": {
      "text/plain": [
       "'igufyrdtxfjohigufrtysoida'"
      ]
     },
     "execution_count": 6,
     "metadata": {},
     "output_type": "execute_result"
    }
   ],
   "source": [
    "invertirRecursivo('adiosytrfugihojfxtdryfugi')"
   ]
  },
  {
   "cell_type": "markdown",
   "metadata": {},
   "source": [
    "## Pregunta 4\n",
    "\n",
    "Diseñe una funcion que reciba un número y retorne una lista con los números primos anteriores a él (incluido). Incluya un parámetro opcional que en caso de ser `True` imprima el número de divisores de cada número. Llame a esta función `listaPrimos`\n",
    "\n",
    "```python\n",
    "In: listaPrimos(10, imprimir=False)\n",
    "Out: [2, 3, 5, 7]\n",
    "```\n",
    "\n",
    "```python\n",
    "\n",
    "In: listaPrimos(10, imprimir=True)\n",
    "    \n",
    "El número 2 tiene 2 divisores\n",
    "El número 3 tiene 2 divisores\n",
    "El número 4 tiene 3 divisores\n",
    "El número 5 tiene 2 divisores\n",
    "El número 6 tiene 4 divisores\n",
    "El número 7 tiene 2 divisores\n",
    "El número 8 tiene 4 divisores\n",
    "El número 9 tiene 3 divisores\n",
    "El número 10 tiene 4 divisores\n",
    "\n",
    "Out : [2, 3, 5, 7]\n",
    "```\n",
    "\n"
   ]
  },
  {
   "cell_type": "code",
   "execution_count": 7,
   "metadata": {},
   "outputs": [
    {
     "name": "stdout",
     "output_type": "stream",
     "text": [
      "El número 2 tiene 2 divisores\n",
      "El número 3 tiene 2 divisores\n",
      "El número 4 tiene 3 divisores\n",
      "El número 5 tiene 2 divisores\n",
      "El número 6 tiene 4 divisores\n",
      "El número 7 tiene 2 divisores\n",
      "El número 8 tiene 4 divisores\n",
      "El número 9 tiene 3 divisores\n",
      "El número 10 tiene 4 divisores\n"
     ]
    },
    {
     "data": {
      "text/plain": [
       "[2, 3, 5, 7]"
      ]
     },
     "execution_count": 7,
     "metadata": {},
     "output_type": "execute_result"
    }
   ],
   "source": [
    "def listaPrimos(n, imprimir=False):\n",
    "    listaPrimos=[]\n",
    "    for i in range(2,n+1):\n",
    "        divisores=[1,i]\n",
    "        for j in range(2,i):\n",
    "            if(i%j==0):\n",
    "                divisores+=[j]\n",
    "        \n",
    "        if len(divisores)==2:\n",
    "            listaPrimos+=[i]\n",
    "            \n",
    "        if imprimir:\n",
    "            print('El número', i, 'tiene', len(divisores), 'divisores') \n",
    "        \n",
    "    return(listaPrimos)\n",
    "    \n",
    "listaPrimos(10, imprimir=True)"
   ]
  },
  {
   "cell_type": "markdown",
   "metadata": {},
   "source": [
    "## Pregunta 5\n",
    "Defina una función llamada `mezclarPalabras` que reciba dos `strings` y construya dos nuevos `strings` que sean la mezcla de los 2 `strings` originales intercalando letras. Importante, solo mezclar hasta la longuitud de la palabra más corta. \n",
    "\n",
    "Finalmente, la función debe retornar una lista con las nuevas palabras. Por ejemplo, \n",
    "\n",
    "```python\n",
    "texto_1='prueba'\n",
    "texto_2='textos'\n",
    "\n",
    "In: mezclarPalabras(texto_1,texto_2)\n",
    "Out: ['peutbs', 'trxeoa']\n",
    "```\n",
    "\n",
    "```python\n",
    "texto_3='aaaaaaaaaa'\n",
    "texto_4='bbbb'\n",
    "\n",
    "In: mezclarPalabras(texto_3,texto_4)\n",
    "Out: ['abab', 'baba']\n",
    "```\n"
   ]
  },
  {
   "cell_type": "code",
   "execution_count": 8,
   "metadata": {},
   "outputs": [],
   "source": [
    "def mezclarPalabras(texto_1, texto_2):\n",
    "    resultado_1=''\n",
    "    resultado_2=''\n",
    "    n=min(len(texto_1), len(texto_2))\n",
    "    for i in range(n):\n",
    "        if(i%2==0):\n",
    "            resultado_1+=texto_1[i]\n",
    "            resultado_2+=texto_2[i]\n",
    "        else: \n",
    "            resultado_1+=texto_2[i]\n",
    "            resultado_2+=texto_1[i]\n",
    "    return([resultado_1, resultado_2])"
   ]
  },
  {
   "cell_type": "code",
   "execution_count": 9,
   "metadata": {},
   "outputs": [
    {
     "data": {
      "text/plain": [
       "['peutbs', 'trxeoa']"
      ]
     },
     "execution_count": 9,
     "metadata": {},
     "output_type": "execute_result"
    }
   ],
   "source": [
    "texto_1='prueba'\n",
    "texto_2='textos'\n",
    "mezclarPalabras(texto_1,texto_2)"
   ]
  },
  {
   "cell_type": "markdown",
   "metadata": {},
   "source": [
    "## Pregunta 6\n",
    "Diseñe una función interesante. Esta función será calificada bajo los siguientes rubros:\n",
    "1. Claridad en la descripción y diseño. (0.25)\n",
    "2. Orden del código. (0.25)\n",
    "3. Coherencia entre lo que hace y la descripción (0.25)\n",
    "4. Uso de loops y condicionales (0.25)"
   ]
  }
 ],
 "metadata": {
  "kernelspec": {
   "display_name": "Python 3",
   "language": "python",
   "name": "python3"
  },
  "language_info": {
   "codemirror_mode": {
    "name": "ipython",
    "version": 3
   },
   "file_extension": ".py",
   "mimetype": "text/x-python",
   "name": "python",
   "nbconvert_exporter": "python",
   "pygments_lexer": "ipython3",
   "version": "3.8.1"
  }
 },
 "nbformat": 4,
 "nbformat_minor": 4
}
